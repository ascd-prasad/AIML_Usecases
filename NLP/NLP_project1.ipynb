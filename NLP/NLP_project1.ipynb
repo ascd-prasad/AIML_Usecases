{
 "cells": [
  {
   "cell_type": "code",
   "execution_count": 1,
   "metadata": {
    "id": "HfuEd1qlKAjD"
   },
   "outputs": [],
   "source": [
    "#Import all the necessary modules\n",
    "import numpy as np\n",
    "import pandas as pd\n",
    "import matplotlib.pyplot as plt\n",
    "import seaborn as sns\n",
    "sns.set_style(style= 'darkgrid')\n",
    "import random , re , string\n",
    "import nltk\n",
    "\n",
    "import json\n",
    "import pickle\n",
    "from keras.models import Sequential\n",
    "from keras.layers import Dense, Activation, Dropout\n",
    "\n",
    "from nltk.tokenize import word_tokenize\n",
    "from nltk.corpus import stopwords\n",
    "from nltk.stem.porter import PorterStemmer\n",
    "from nltk.stem import WordNetLemmatizer\n",
    "from sklearn.feature_extraction.text import TfidfVectorizer\n",
    "from sklearn.model_selection import train_test_split\n",
    "from sklearn.metrics import accuracy_score\n",
    "from sklearn.metrics import f1_score\n",
    "from sklearn.metrics import precision_score\n",
    "from sklearn.metrics import recall_score"
   ]
  },
  {
   "cell_type": "code",
   "execution_count": 2,
   "metadata": {
    "colab": {
     "base_uri": "https://localhost:8080/"
    },
    "id": "qTYRkP9Ks8mS",
    "outputId": "7cec7560-6c46-4a39-e3d9-fb3cb4d003a7"
   },
   "outputs": [
    {
     "name": "stdout",
     "output_type": "stream",
     "text": [
      "[nltk_data] Downloading package punkt to /root/nltk_data...\n",
      "[nltk_data]   Unzipping tokenizers/punkt.zip.\n",
      "[nltk_data] Downloading package wordnet to /root/nltk_data...\n",
      "[nltk_data]   Unzipping corpora/wordnet.zip.\n",
      "[nltk_data] Downloading package stopwords to /root/nltk_data...\n",
      "[nltk_data]   Unzipping corpora/stopwords.zip.\n"
     ]
    },
    {
     "data": {
      "text/plain": [
       "True"
      ]
     },
     "execution_count": 2,
     "metadata": {},
     "output_type": "execute_result"
    }
   ],
   "source": [
    "nltk.download('punkt')\n",
    "nltk.download('wordnet')\n",
    "nltk.download('stopwords')"
   ]
  },
  {
   "cell_type": "code",
   "execution_count": 3,
   "metadata": {
    "colab": {
     "base_uri": "https://localhost:8080/"
    },
    "id": "ec7aJ0PHKZaJ",
    "outputId": "b1d706e0-e7ad-4b6d-b3de-edb05be8d292"
   },
   "outputs": [
    {
     "name": "stdout",
     "output_type": "stream",
     "text": [
      "Mounted at /content/drive\n"
     ]
    }
   ],
   "source": [
    "from google.colab import drive \n",
    "drive.mount('/content/drive')"
   ]
  },
  {
   "cell_type": "markdown",
   "metadata": {
    "id": "EhCRSgDmKke3"
   },
   "source": [
    "# ***PART 1***"
   ]
  },
  {
   "cell_type": "code",
   "execution_count": null,
   "metadata": {
    "colab": {
     "base_uri": "https://localhost:8080/"
    },
    "id": "KEe7TcpjKpsF",
    "outputId": "6237d2e2-4484-41c2-d1c7-2fe100d22b68"
   },
   "outputs": [
    {
     "name": "stdout",
     "output_type": "stream",
     "text": [
      "Shape of Train set (681284, 7)\n"
     ]
    }
   ],
   "source": [
    "trainData = []\n",
    "\n",
    "# Load data to file\n",
    "trainData = pd.read_csv(\"/content/drive/MyDrive/AIML/LABS/NLP/Project 1/blogtext.csv\")\n",
    "\n",
    "print(\"Shape of Train set\",trainData.shape)"
   ]
  },
  {
   "cell_type": "code",
   "execution_count": null,
   "metadata": {
    "colab": {
     "base_uri": "https://localhost:8080/"
    },
    "id": "dyj_niB1fUDL",
    "outputId": "be989612-dd75-4e16-e484-1823e4c13ac2"
   },
   "outputs": [
    {
     "name": "stdout",
     "output_type": "stream",
     "text": [
      "<class 'pandas.core.frame.DataFrame'>\n",
      "RangeIndex: 681284 entries, 0 to 681283\n",
      "Data columns (total 7 columns):\n",
      " #   Column  Non-Null Count   Dtype \n",
      "---  ------  --------------   ----- \n",
      " 0   id      681284 non-null  int64 \n",
      " 1   gender  681284 non-null  object\n",
      " 2   age     681284 non-null  int64 \n",
      " 3   topic   681284 non-null  object\n",
      " 4   sign    681284 non-null  object\n",
      " 5   date    681284 non-null  object\n",
      " 6   text    681284 non-null  object\n",
      "dtypes: int64(2), object(5)\n",
      "memory usage: 36.4+ MB\n"
     ]
    }
   ],
   "source": [
    "trainData.info()"
   ]
  },
  {
   "cell_type": "code",
   "execution_count": null,
   "metadata": {
    "colab": {
     "base_uri": "https://localhost:8080/",
     "height": 204
    },
    "id": "iXvw3diaOkiq",
    "outputId": "20566322-9338-4c83-df64-c3e71fdd5df9"
   },
   "outputs": [
    {
     "data": {
      "text/html": [
       "<div>\n",
       "<style scoped>\n",
       "    .dataframe tbody tr th:only-of-type {\n",
       "        vertical-align: middle;\n",
       "    }\n",
       "\n",
       "    .dataframe tbody tr th {\n",
       "        vertical-align: top;\n",
       "    }\n",
       "\n",
       "    .dataframe thead th {\n",
       "        text-align: right;\n",
       "    }\n",
       "</style>\n",
       "<table border=\"1\" class=\"dataframe\">\n",
       "  <thead>\n",
       "    <tr style=\"text-align: right;\">\n",
       "      <th></th>\n",
       "      <th>id</th>\n",
       "      <th>gender</th>\n",
       "      <th>age</th>\n",
       "      <th>topic</th>\n",
       "      <th>sign</th>\n",
       "      <th>date</th>\n",
       "      <th>text</th>\n",
       "    </tr>\n",
       "  </thead>\n",
       "  <tbody>\n",
       "    <tr>\n",
       "      <th>0</th>\n",
       "      <td>2059027</td>\n",
       "      <td>male</td>\n",
       "      <td>15</td>\n",
       "      <td>Student</td>\n",
       "      <td>Leo</td>\n",
       "      <td>14,May,2004</td>\n",
       "      <td>Info has been found (+/- 100 pages,...</td>\n",
       "    </tr>\n",
       "    <tr>\n",
       "      <th>1</th>\n",
       "      <td>2059027</td>\n",
       "      <td>male</td>\n",
       "      <td>15</td>\n",
       "      <td>Student</td>\n",
       "      <td>Leo</td>\n",
       "      <td>13,May,2004</td>\n",
       "      <td>These are the team members:   Drewe...</td>\n",
       "    </tr>\n",
       "    <tr>\n",
       "      <th>2</th>\n",
       "      <td>2059027</td>\n",
       "      <td>male</td>\n",
       "      <td>15</td>\n",
       "      <td>Student</td>\n",
       "      <td>Leo</td>\n",
       "      <td>12,May,2004</td>\n",
       "      <td>In het kader van kernfusie op aarde...</td>\n",
       "    </tr>\n",
       "    <tr>\n",
       "      <th>3</th>\n",
       "      <td>2059027</td>\n",
       "      <td>male</td>\n",
       "      <td>15</td>\n",
       "      <td>Student</td>\n",
       "      <td>Leo</td>\n",
       "      <td>12,May,2004</td>\n",
       "      <td>testing!!!  testing!!!</td>\n",
       "    </tr>\n",
       "    <tr>\n",
       "      <th>4</th>\n",
       "      <td>3581210</td>\n",
       "      <td>male</td>\n",
       "      <td>33</td>\n",
       "      <td>InvestmentBanking</td>\n",
       "      <td>Aquarius</td>\n",
       "      <td>11,June,2004</td>\n",
       "      <td>Thanks to Yahoo!'s Toolbar I can ...</td>\n",
       "    </tr>\n",
       "  </tbody>\n",
       "</table>\n",
       "</div>"
      ],
      "text/plain": [
       "        id  ...                                               text\n",
       "0  2059027  ...             Info has been found (+/- 100 pages,...\n",
       "1  2059027  ...             These are the team members:   Drewe...\n",
       "2  2059027  ...             In het kader van kernfusie op aarde...\n",
       "3  2059027  ...                   testing!!!  testing!!!          \n",
       "4  3581210  ...               Thanks to Yahoo!'s Toolbar I can ...\n",
       "\n",
       "[5 rows x 7 columns]"
      ]
     },
     "execution_count": 21,
     "metadata": {},
     "output_type": "execute_result"
    }
   ],
   "source": [
    "trainData.head()"
   ]
  },
  {
   "cell_type": "code",
   "execution_count": null,
   "metadata": {
    "colab": {
     "base_uri": "https://localhost:8080/",
     "height": 297
    },
    "id": "2StlFFEaQ74Y",
    "outputId": "1a497a39-64ba-4c2a-8dde-768d3ade7117"
   },
   "outputs": [
    {
     "data": {
      "text/html": [
       "<div>\n",
       "<style scoped>\n",
       "    .dataframe tbody tr th:only-of-type {\n",
       "        vertical-align: middle;\n",
       "    }\n",
       "\n",
       "    .dataframe tbody tr th {\n",
       "        vertical-align: top;\n",
       "    }\n",
       "\n",
       "    .dataframe thead th {\n",
       "        text-align: right;\n",
       "    }\n",
       "</style>\n",
       "<table border=\"1\" class=\"dataframe\">\n",
       "  <thead>\n",
       "    <tr style=\"text-align: right;\">\n",
       "      <th></th>\n",
       "      <th>id</th>\n",
       "      <th>age</th>\n",
       "    </tr>\n",
       "  </thead>\n",
       "  <tbody>\n",
       "    <tr>\n",
       "      <th>count</th>\n",
       "      <td>6.812840e+05</td>\n",
       "      <td>681284.000000</td>\n",
       "    </tr>\n",
       "    <tr>\n",
       "      <th>mean</th>\n",
       "      <td>2.397802e+06</td>\n",
       "      <td>23.932326</td>\n",
       "    </tr>\n",
       "    <tr>\n",
       "      <th>std</th>\n",
       "      <td>1.247723e+06</td>\n",
       "      <td>7.786009</td>\n",
       "    </tr>\n",
       "    <tr>\n",
       "      <th>min</th>\n",
       "      <td>5.114000e+03</td>\n",
       "      <td>13.000000</td>\n",
       "    </tr>\n",
       "    <tr>\n",
       "      <th>25%</th>\n",
       "      <td>1.239610e+06</td>\n",
       "      <td>17.000000</td>\n",
       "    </tr>\n",
       "    <tr>\n",
       "      <th>50%</th>\n",
       "      <td>2.607577e+06</td>\n",
       "      <td>24.000000</td>\n",
       "    </tr>\n",
       "    <tr>\n",
       "      <th>75%</th>\n",
       "      <td>3.525660e+06</td>\n",
       "      <td>26.000000</td>\n",
       "    </tr>\n",
       "    <tr>\n",
       "      <th>max</th>\n",
       "      <td>4.337650e+06</td>\n",
       "      <td>48.000000</td>\n",
       "    </tr>\n",
       "  </tbody>\n",
       "</table>\n",
       "</div>"
      ],
      "text/plain": [
       "                 id            age\n",
       "count  6.812840e+05  681284.000000\n",
       "mean   2.397802e+06      23.932326\n",
       "std    1.247723e+06       7.786009\n",
       "min    5.114000e+03      13.000000\n",
       "25%    1.239610e+06      17.000000\n",
       "50%    2.607577e+06      24.000000\n",
       "75%    3.525660e+06      26.000000\n",
       "max    4.337650e+06      48.000000"
      ]
     },
     "execution_count": 22,
     "metadata": {},
     "output_type": "execute_result"
    }
   ],
   "source": [
    "trainData.describe()"
   ]
  },
  {
   "cell_type": "code",
   "execution_count": null,
   "metadata": {
    "colab": {
     "base_uri": "https://localhost:8080/",
     "height": 173
    },
    "id": "OyLhEod3UizV",
    "outputId": "9380a05f-70c5-4157-a4c5-a9ed304cbc81"
   },
   "outputs": [
    {
     "data": {
      "text/html": [
       "<div>\n",
       "<style scoped>\n",
       "    .dataframe tbody tr th:only-of-type {\n",
       "        vertical-align: middle;\n",
       "    }\n",
       "\n",
       "    .dataframe tbody tr th {\n",
       "        vertical-align: top;\n",
       "    }\n",
       "\n",
       "    .dataframe thead th {\n",
       "        text-align: right;\n",
       "    }\n",
       "</style>\n",
       "<table border=\"1\" class=\"dataframe\">\n",
       "  <thead>\n",
       "    <tr style=\"text-align: right;\">\n",
       "      <th></th>\n",
       "      <th>gender</th>\n",
       "      <th>topic</th>\n",
       "      <th>sign</th>\n",
       "      <th>date</th>\n",
       "      <th>text</th>\n",
       "    </tr>\n",
       "  </thead>\n",
       "  <tbody>\n",
       "    <tr>\n",
       "      <th>count</th>\n",
       "      <td>681284</td>\n",
       "      <td>681284</td>\n",
       "      <td>681284</td>\n",
       "      <td>681284</td>\n",
       "      <td>681284</td>\n",
       "    </tr>\n",
       "    <tr>\n",
       "      <th>unique</th>\n",
       "      <td>2</td>\n",
       "      <td>40</td>\n",
       "      <td>12</td>\n",
       "      <td>2616</td>\n",
       "      <td>611652</td>\n",
       "    </tr>\n",
       "    <tr>\n",
       "      <th>top</th>\n",
       "      <td>male</td>\n",
       "      <td>indUnk</td>\n",
       "      <td>Cancer</td>\n",
       "      <td>02,August,2004</td>\n",
       "      <td>urlLink</td>\n",
       "    </tr>\n",
       "    <tr>\n",
       "      <th>freq</th>\n",
       "      <td>345193</td>\n",
       "      <td>251015</td>\n",
       "      <td>65048</td>\n",
       "      <td>16544</td>\n",
       "      <td>445</td>\n",
       "    </tr>\n",
       "  </tbody>\n",
       "</table>\n",
       "</div>"
      ],
      "text/plain": [
       "        gender   topic    sign            date                 text\n",
       "count   681284  681284  681284          681284               681284\n",
       "unique       2      40      12            2616               611652\n",
       "top       male  indUnk  Cancer  02,August,2004           urlLink   \n",
       "freq    345193  251015   65048           16544                  445"
      ]
     },
     "execution_count": 23,
     "metadata": {},
     "output_type": "execute_result"
    }
   ],
   "source": [
    "trainData.describe(include='object')"
   ]
  },
  {
   "cell_type": "code",
   "execution_count": null,
   "metadata": {
    "colab": {
     "base_uri": "https://localhost:8080/"
    },
    "id": "Mp-MnDmORs45",
    "outputId": "7e849276-a8d3-4fba-ec30-ffb280490ed0"
   },
   "outputs": [
    {
     "data": {
      "text/plain": [
       "id        0\n",
       "gender    0\n",
       "age       0\n",
       "topic     0\n",
       "sign      0\n",
       "date      0\n",
       "text      0\n",
       "dtype: int64"
      ]
     },
     "execution_count": 24,
     "metadata": {},
     "output_type": "execute_result"
    }
   ],
   "source": [
    "# missing data\n",
    "trainData.isnull().sum()"
   ]
  },
  {
   "cell_type": "code",
   "execution_count": null,
   "metadata": {
    "colab": {
     "base_uri": "https://localhost:8080/"
    },
    "id": "85i0bcM8SGYU",
    "outputId": "2858bedd-8735-48a4-e7ce-49c8e184b7bf"
   },
   "outputs": [
    {
     "name": "stdout",
     "output_type": "stream",
     "text": [
      "1, 2, 0.0%\n",
      "2, 26, 0.0%\n",
      "3, 40, 0.0%\n",
      "4, 12, 0.0%\n",
      "5, 2616, 0.4%\n"
     ]
    }
   ],
   "source": [
    "from numpy import unique\n",
    "list1=[]\n",
    "# summarize the number of unique values in each column\n",
    "for i in range(trainData.shape[1]):\n",
    "    num = len(unique(trainData.iloc[:, i]))\n",
    "    percentage = float(num) / trainData.shape[0] * 100\n",
    "    if percentage < 1:\n",
    "        list1.append(i)\n",
    "        print('%d, %d, %.1f%%' % (i, num, percentage))"
   ]
  },
  {
   "cell_type": "code",
   "execution_count": null,
   "metadata": {
    "colab": {
     "base_uri": "https://localhost:8080/"
    },
    "id": "BAn3RH5jTTWj",
    "outputId": "fa019df8-53c2-4709-cfeb-3bbcc2ae2d1c"
   },
   "outputs": [
    {
     "name": "stdout",
     "output_type": "stream",
     "text": [
      "unique id values :\n",
      "[2059027 3581210 3539003 ... 3561647 4260903 1713845]\n",
      "\n",
      "unique gender values :\n",
      "['male' 'female']\n",
      "\n",
      "unique age values :\n",
      "[15 33 14 25 17 23 37 26 24 27 45 34 41 44 16 39 35 36 46 42 13 38 43 40\n",
      " 47 48]\n",
      "\n",
      "unique topic values :\n",
      "['Student' 'InvestmentBanking' 'indUnk' 'Non-Profit' 'Banking' 'Education'\n",
      " 'Engineering' 'Science' 'Communications-Media' 'BusinessServices'\n",
      " 'Sports-Recreation' 'Arts' 'Internet' 'Museums-Libraries' 'Accounting'\n",
      " 'Technology' 'Law' 'Consulting' 'Automotive' 'Religion' 'Fashion'\n",
      " 'Publishing' 'Marketing' 'LawEnforcement-Security' 'HumanResources'\n",
      " 'Telecommunications' 'Military' 'Government' 'Transportation'\n",
      " 'Architecture' 'Advertising' 'Agriculture' 'Biotech' 'RealEstate'\n",
      " 'Manufacturing' 'Construction' 'Chemicals' 'Maritime' 'Tourism'\n",
      " 'Environment']\n",
      "\n",
      "unique sign values :\n",
      "['Leo' 'Aquarius' 'Aries' 'Capricorn' 'Gemini' 'Cancer' 'Sagittarius'\n",
      " 'Scorpio' 'Libra' 'Virgo' 'Taurus' 'Pisces']\n",
      "\n",
      "unique date values :\n",
      "['14,May,2004' '13,May,2004' '12,May,2004' ... '05,august,2004'\n",
      " '04,august,2004' '02,august,2004']\n",
      "\n",
      "unique text values :\n",
      "['           Info has been found (+/- 100 pages, and 4.5 MB of .pdf files) Now i have to wait untill our team leader has processed it and learns html.         '\n",
      " '           These are the team members:   Drewes van der Laag           urlLink mail  Ruiyu Xie                     urlLink mail  Bryan Aaldering (me)          urlLink mail          '\n",
      " \"           In het kader van kernfusie op aarde:  MAAK JE EIGEN WATERSTOFBOM   How to build an H-Bomb From: ascott@tartarus.uwa.edu.au (Andrew Scott) Newsgroups: rec.humor Subject: How To Build An H-Bomb (humorous!) Date: 7 Feb 1994 07:41:14 GMT Organization: The University of Western Australia  Original file dated 12th November 1990. Seemed to be a transcript of a 'Seven Days' article. Poorly formatted and corrupted. I have added the text between 'examine under a microscope' and 'malleable, like gold,' as it was missing. If anyone has the full text, please distribute. I am not responsible for the accuracy of this information. Converted to HTML by Dionisio@InfiNet.com 11/13/98. (Did a little spell-checking and some minor edits too.) Stolen from  urlLink http://my.ohio.voyager.net/~dionisio/fun/m...own-h-bomb.html  and reformatted the HTML. It now validates to XHTML 1.0 Strict. How to Build an H-Bomb Making and owning an H-bomb is the kind of challenge real Americans seek. Who wants to be a passive victim of nuclear war when, with a little effort, you can be an active participant? Bomb shelters are for losers. Who wants to huddle together underground eating canned Spam? Winners want to push the button themselves. Making your own H-bomb is a big step in nuclear assertiveness training -- it's called Taking Charge. We're sure you'll enjoy the risks and the heady thrill of playing nuclear chicken. Introduction When the Feds clamped down on The Progressive magazine for attempting to publish an article on the manufacture of the hydrogen bomb, it piqued our curiosity. Was it really true that atomic and hydrogen bomb technology was so simple you could build an H-bomb in your own kitchen? Seven Days decided to find out. Food editor Barbara Ehrenreich, investigative reporter Peter Biskind, Photographer Jane Melnick and nuclear scientist Michio Kaku were given three days to cook up a workable H-bomb. They did and we have decided to share their culinary secrets with you. Not that Seven Days supports nuclear terrorism. We don't. We would prefer to die slowly from familiar poisons like low-level radiation, microwaves, DDT, DBCP, aflatoxins, PBBs, PBCs, or food dyes, rather than unexpectedly, say as hostage to a Latvian nationalist brandishing a homemade bomb. In our view the real terrorists are the governments, American, Soviet, French, Chinese, and British, that are hoarding H-bombs for their own use, and worse still, those governments (U.S., French and German) that are eagerly peddling advanced nuclear technology to countries like South Africa, Brazil, and Argentina so that they can make their own bombs. When these bombs are used, and they will be, it will be the world's big-time nuclear peddlers, along with corporate suppliers like General Electric, Westinghouse, and Gulf Oil, that we can thank for it. Gagging The Progressive will do no more for national security than backyard bomb shelters because like it or not the news is out. The heart of the successful H-bomb is the successful A-bomb. Once you've got your A-bombs made the rest is frosting on the cake. All you have to do is set them up so that when they detonate they'll start off a hydrogen-fusion reaction.  Part 1: Making Your Bomb Step 1: Getting the Ingredients Uranium is the basic ingredient of the A-bomb. When a uranium atom's nucleus splits apart, it releases a tremendous amount of energy (for its size), and it emits neutrons which go on to split other nearby uranium nuclei, releasing more energy, in what is called a 'chain reaction'. (When atoms split, matter is converted into energy according to Einstein's equation E=MC2. What better way to mark his birthday than with your own atomic fireworks?) There are two kinds (isotopes) of uranium: the rare U-235, used in bombs, and the more common, heavier, but useless U-238. Natural uranium contains less than 1 percent U-235 and in order to be usable in bombs it has to be 'enriched' to 90 percent U-235 and only 10 percent U-238. Plutonium-239 can also be used in bombs as a substitute for U-235. Ten pounds of U-235 (or slightly less plutonium) is all that is necessary for a bomb. Less than ten pounds won't give you a critical mass. So purifying or enriching naturally occurring uranium is likely to be your first big hurdle. It is infinitely easy to steal ready-to-use enriched uranium or plutonium than to enrich some yourself. And stealing uranium is not as hard as it sounds. There are at least three sources of enriched uranium or plutonium... Enriched uranium is manufactured at a gaseous diffusion plant in Portsmouth, Ohio. From there it is shipped in 10 liter bottles by airplane and trucks to conversion plants that turn it into uranium oxide or uranium metal. Each 10 liter bottle contains 7 kilograms of U-235, and there are 20 bottles to a typical shipment. Conversion facilities exist at Hematite, Missouri; Apollo, Pennsylvania; and Erwin, Tennessee. The Kerr-McGee plant at Crescent Oklahoma -- where Karen Silkwood worked -- was a conversion plant that 'lost' 40 lbs of plutonium. Enriched uranium can be stolen from these plants or from fuel-fabricating plants like those in New Haven, San Diego; or Lynchburg, Virginia. (A former Kerr-McGee supervisor, James V. Smith, when asked at the Silkwood trial if there were any security precautions at the plant to prevent theft, testified that 'There were none of any kind, no guards, no fences, no nothing.') Plutonium can be obtained from places like United Nuclear in Pawling, New York; Nuclear Fuel Services in Erwin, Tennessee; General Electric in Pleasanton, California; Westinghouse in Cheswick, Pennsylvania; Nuclear Materials and Equipment Corporation (NUMEC) in Leechburg, Pennsylvania; and plants in Hanfford, Washington and Morris, Illinois. According to Rolling Stone magazine the Israelis were involved in the theft of plutonium from NUMEC. Finally you can steal enriched uranium or plutonium while it's en-route from conversion plants to fuel fabricating plants. It is usually transported (by air or truck) in the form of uranium oxide, a brownish powder resembling instant coffee, or as a metal, coming in small chunks called 'broken buttons.' Both forms are shipped in small cans stacked in 5-inch cylinders braced with welded struts in the center of ordinary 55 gallon steel drums. The drums weigh about 100 pounds and are clearly marked 'Fissible Material' or 'Danger, Plutonium.' A typical shipment might go from the enrichment plant at Portsmouth, Ohio to the conversion plant in Hematite Missouri then to Kansas City by truck where it would be flown to Los Angeles and then trucked down to the General Atomic plant in San Diego. The plans for the General Atomic plant are on file at the Nuclear Regulatory Commission's reading room at 1717 H Street NW Washington. A Xerox machine is provided for the convenience of the public. If you can't get hold of any enriched uranium you'll have to settle for commercial grade (20 percent U-235). This can be stolen from university reactors of a type called TRIGA Mark II, where security is even more casual than at commercial plants. If stealing uranium seems too tacky you can buy it. Unenriched uranium is available at any chemical supply house for $23 a pound. Commercial grade (3 to 20 percent enriched) is available for $40 a pound from Gulf Atomic. You'll have to enrich it further yourself. Quite frankly this can be something of a pain in the ass. You'll need to start with a little more than 50 pounds of commercial-grade uranium. (It's only 20 percent U-235 at best, and you need 10 pounds of U-235 so... ) But with a little kitchen-table chemistry you'll be able to convert the solid uranium oxide you've purchased into a liquid form. Once you've done that, you'll be able to separate the U-235 that you'll need from the U-238. First pour a few gallons of concentrated hydrofluoric acid into your uranium oxide, converting it to uranium tetrafluoride. (Safety note: Concentrated hydrofluoric acid is so corrosive that it will eat its way through glass, so store it only in plastic. Used 1-gallon plastic milk containers will do.) Now you have to convert your uranium tetrafluoride to uranium hexafluoride, the gaseous form of uranium, which is convenient for separating out the isotope U-235 from U-238. To get the hexafluoride form, bubble fluorine gas into your container of uranium tetrafluoride. Fluorine is available in pressurized tanks from chemical-supply firms. Be careful how you use it though because fluorine is several times more deadly than chlorine, the classic World War I poison gas. Chemists recommend that you carry out this step under a stove hood (the kind used to remove unpleasant cooking odors). If you've done your chemistry right you should now have a generous supply of uranium hexafluoride ready for enriching. In the old horse-and-buggy days of A-bomb manufacture the enrichment was carried out by passing the uranium hexafluoride through hundreds of miles of pipes, tubes, and membranes, until the U-235 was eventually separated from the U-238. This gaseous-diffusion process, as it was called is difficult, time-consuming, and expensive. Gaseous-diffusion plants cover hundreds of acres and cost in the neighborhood of $2-billion each. So forget it. There are easier, and cheaper, ways to enrich your uranium. First transform the gas into a liquid by subjecting it to pressure. You can use a bicycle pump for this. Then make a simple home centrifuge. Fill a standard-size bucket one-quarter full of liquid uranium hexafluoride. Attach a six-foot rope to the bucket handle. Now swing the rope (and attached bucket) around your head as fast as possible. Keep this up for about 45 minutes. Slow down gradually, and very gently put the bucket on the floor. The U-235, which is lighter, will have risen to the top, where it can be skimmed off like cream. Repeat this step until you have the required 10 pounds of uranium. (Safety note: Don't put all your enriched uranium hexafluoride in one bucket. Use at least two or three buckets and keep them in separate corners of the room. This will prevent the premature build-up of a critical mass.) Now it's time to convert your enriched uranium back to metal form. This is easily enough accomplished by spooning several ladlefuls of calcium (available in tablet form from your drugstore) into each bucket of uranium. The calcium will react with the uranium hexafluoride to produce calcium fluoride, a colorless salt which can be easily be separated from your pure enriched uranium metal. A few precautions: • While uranium is not dangerously radioactive in the amounts you'll be handling, if you plan to make more than one bomb it might be wise to wear gloves and a lead apron, the kind you can buy in dental supply stores. • Plutonium is one of the most toxic substances known. If inhaled, a thousandth of a gram can cause massive fibrosis of the lungs, a painful way to go. Even a millionth of a gram in the lungs will cause cancer. If eaten plutonium is metabolized like calcium. It goes straight to the bones where it gives out alpha particles preventing bone marrow from manufacturing red blood cells. The best way to avoid inhaling plutonium is to hold your breath while handling it. If this is too difficult wear a mask. To avoid ingesting plutonium orally follow this simple rule: never make an A-bomb on an empty stomach. • If you find yourself dozing off while you're working, or if you begin to glow in the dark, it might be wise to take a blood count. Prick your finger with a sterile pin, place a drop of blood on a microscope slide, cover it with a cover slip, and examine under a microscope. (Best results are obtained in the early morning.) When you get leukemia, immature cells are released into the bloodstream, and usually the number of white cells increases (though this increase might take almost 2 weeks). Red blood cells look kind of like donuts (without the hole), and are slightly smaller than the white cells, each of which has a nucleus. Immature red cells look similar to white cells (i.e.. slightly larger and have a nucleus). If you have more than about 1 white cell (including immature ones) to 400 red cells then start to worry. But, depending upon your plans for the eventual use of the bomb, a short life expectancy might not be a problem.  Step 2: Assembling the A-Bomb Now that you've acquired the enriched uranium, all that's left is to assemble your A-bomb. Go find a couple of stainless steel salad bowls. You also want to separate your 10 pounds of U-235 into two hunks. (Keep them apart!) The idea is to push each half your uranium into the inside of a bowl. Take one hunk of your uranium and beat it into the inside of the first bowl. Uranium is malleable, like gold, so you should have no trouble hammering it into the bowl to get a good fit. Take another five-pound hunk of uranium and fit it into a second stainless steel bowl. These two bowls of U-235 are the 'subcritical masses' which, when brought together forcefully, will provide the critical mass that makes your A-bomb go. Keep them a respectful distance apart while working because you don't want them to 'go critical' on you... At least not yet. Now hollow out the body of an old vacuum cleaner and place your two hemispherical bowls inside, open ends facing each other, no less than seven inches apart, using masking tape to set them up in position. The reason for the steel bowls and the vacuum cleaner, in case you're wondering, is that these help reflect the neutrons back into the uranium for a more efficient explosion. 'A loose neutron is a useless neutron' as the A-bomb pioneers used to say. As far as the A-bomb goes, you're almost done. The final problem is to figure out how to get the two U-235 hemispheres to smash into each other with sufficient force to set off a truly effective fission reaction. Almost any type of explosive can be used to drive them together. Gunpowder, for example, is easily made at home from potassium nitrate, sulfur, and carbon. Or, you can get some blasting caps or TNT. (Buy them or steal them from a construction site.) Best of all is C4 plastic explosive. You can mold it around your bowls, and it's fairly safe to work with. (But, it might be wise to shape it around an extra salad bowl in another room, and THEN fit it to your uranium-packed bowls. This is particularly true in winter, when a stray static electrical charge might induce ignition in the C4. A responsible bomb maker considers it impolite to accidentally destroy more of the neighborhood than absolutely necessary.) Once the explosives are in place all you need to do is hook up a simple detonation device with a few batteries, a switch, and some wire. Remember though that it is essential that the two charges -- one on each side of the casing -- go off simultaneously. Now put the whole thing in the casing of an old Hoover vacuum cleaner and you're finished with this part of the process. The rest is easy.  Step 3: Make More A-Bombs Following the Directions Above  A Word to the Wise About Wastes After your A-bomb is completed you'll have a pile of moderately fatal radioactive wastes like U-238. These are not dangerous, but you do have to get rid of them. You can flush leftovers down the toilet. (Don't worry about polluting the ocean, there is already so much radioactive waste there, a few more bucketfuls won't make any waves whatsoever.) If you're the fastidious type -- the kind who never leaves gum under their seat at the movies -- you can seal the nasty stuff in coffee cans and bury it in the backyard, just like Uncle Sam does. If the neighbor kids have a habit of trampling the lawn, tell them to play over by the waste. You'll soon find that they're spending most of their time in bed.  Going First Class If you're like us, you're feeling the economic pinch, and you'll want to make your bomb as inexpensively as possible, consonant of course with reasonable yield. The recipe we've given is for a budget-pleasing H-bomb, no frills, no flourishes; it's just a simple 5-megaton bomb, capable of wiping out the New York metropolitan area, the San Francisco Bay area, or Boston. But don't forget, your H-bomb will only be as good as the A-bombs in it. If you want to spend a little more money you can punch-up your A-bomb considerably. Instead of centrifuging your uranium by hand, you can buy a commercial centrifuge. (Fisher Scientific sells one for about $1000.) You also might want to be fussier about your design. The Hiroshima bomb, a relatively crude one, only fissioned 1 percent of it's uranium and yielded only 13 kilotons. In order to fission more of the uranium, the force of your explosive 'trigger' needs to be evenly diffused around the sphere; the same pressure has to be exerted on every point of the sphere simultaneously. (It was a technique for producing this sort of simultaneous detonation by fashioning the explosives into lenses that the government accused Julius and Ethel Rosenberg of trying to steal).  Part 2: Putting Your H-Bomb Together The heart of the H-bomb is the fusion process. Several A-bombs are detonated in such a way as to create the extremely high temperature (100 million degrees C) necessary to fuse lithium deuteride (LiD) into helium. When the lithium nucleus slams into the deuterium nucleus, two helium nuclei are created, and if this happens to enough deuterium nuclei rapidly enough, the result is an enormous amount of energy: the energy of the H-bomb. You don't have to worry about stealing lithium deuteride, it can be purchased from any chemical-supply house. It costs $1000 a pound. If your budget won't allow it you can substitute lithium hydride at $40 a pound. You will need at least 100 pounds. It's a corrosive and toxic powder so be careful. Place the lithium deuteride or hydride in glass jars and surround it with four A-bombs in their casings. Attach them to the same detonator so that they will go off simultaneously. The container for the whole thing is no problem. They can be placed anywhere: Inside an old stereo console, a discarded refrigerator, etc... When the detonator sets off the four A-bombs all eight hemispheres of fissionable material will slam into each other at the same time creating four critical masses and four detonations. This will raise the temperature of the lithium deuteride to 100 million degrees C fast enough (a few billionths of a second) so that the lithium will not be blown all over the neighborhood before the nuclei have time to fuse. The result, at least 1000 times the punch of the puny A-bomb that leveled Hiroshima (20 million tons of TNT vs. 20 thousand tons.)  Part 3: What to do With Your Bomb Now that you have a fully assembled H-bomb housed in an attractive console of your choice you may be wondering, 'What should I do with it?' Every family will have to answer this question according to its own tastes and preferences, but you may want to explore some possibilities which have been successfully pioneered by the American government. 1. Sell Your Bomb and Make a Pile of Money In these days of rising inflation, increasing unemployment, and an uncertain economic outlook, few businesses make as much sense as weapons production. If your career forecast is cloudy, bomb sales may be the only sure way to avoid the humiliation of receiving welfare, or unemployment. Regardless of your present income level, a home H-bomb business can be an invaluable income supplement, and certainly a profitable alternative to selling Tupperware or pirated Girl Scout cookies. Unfortunately for the family bomb business, big government has already cornered a large part of the world market. But this does not mean that there is a shortage of potential customers. The raid on Entebee was the Waterloo of hijacking, and many nationalist groups are now on the alert for new means to get their message across. They'd jump at the chance to get hold of an H-bomb. Emerging nations which can't ante up enough rice or sugar to buy themselves a reactor from G.E. or Westinghouse are also shopping around. You may wonder about the ethics of selling to nations, or groups, whose goals you may disapprove of. But here again, take a tip from our government: forget ideology -- it's cash that counts. And remember, H-bomb sales have a way of escalating, almost like a chain reaction. Suppose you make a sale to South Yemen which you believe to be a Soviet puppet. Well within a few days some discrete inquiries from North Yemen and possibly the Saudis, the Egyptians and the Ethiopians as well can be expected. Similarly, a sale to the IRA will generate a sale to the Ulster government; and a sale to the Tanzanians will bring the Ugandans running, and so forth. It doesn't matter WHICH side you're on, only how many sides there are. Don't forget about the possibility of repeat sales to the same customer. As the experience of both the U.S. and the U.S.S.R. has shown, each individual nation has a potentially infinite need for H-bombs. No customer -- no matter how small -- can ever have too many. 2. Use Your Bomb at Home Many families are attracted to the H-bomb simply as a 'deterrent.' A discrete sticker on the door or on the living room window saying 'This Home Protected by H-bomb' will discourage IRS investigators, census takers, and Jehovah's Witnesses. You'll be surprised how fast the crime rate will go down and property values will go up. And once the news gets out that you are a home H-bomb owner you'll find that you have unexpected leverage in neighborhood disputes over everything from parking places and stereo noise levels to school tax rates. So relax and enjoy the pride and excitement of home H-bomb ownership!  Is It For You? Let's be honest. The H-bomb isn't for everyone. Frankly there are people who can't handle it. They break out in hives at the very mention of mega-death, fallout, or radiation sickness. The following quiz will help you find out whether you have what it takes for home H-bomb ownership. If you can answer 'yes' to six or more of these questions, then you're emotionally eligible to join the nuclear club. If not, a more conventional weapon may be more your cup of tea, try botulism-toxin, laser rays, or nerve gas. 1. I ignore the demands of others. 2. I subscribe to one or more of the following: Soldier of Fortune, Hustler, Popular Mechanics, Self. 3. Though I have many interesting acquaintances, I am my own best friend. 4. I know what to say after you say 'Hello,' but I am seldom interested in pursuing the conversation. 5. I have seen the movie 'The Deer Hunter' more than once. 6. I know that everyone can be a winner if they want to, and I resent whiners. 7. I own one or more of the following: handgun, video game, trash compactor, snowmobile. 8. I am convinced that leukemia is psychosomatic. 9. I am aware that most vegetarians are sexually impotent. 10. I have read evidence that solar energy is a Communist conspiracy.  Myths About Nuclear War Ever since the first mushroom cloud over Hiroshima ushered in the atomic age, a small group of nay-sayers and doom-mongers has lobbied, campaigned and demonstrated to convince Americans that H-bomb ownership, along with nuclear power, is dangerous and unhealthy. Using their virtual stranglehold over the media, these people have tried to discredit everything nuclear from energy to war. They have vastly overrated the risks of nuclear bombs and left many Americans feeling demoralized and indecisive; not sure where the truth lies. Well, here are the myths, and here are the facts. Myth: After a nuclear exchange the earth will no longer be suitable for human habitation. Fact: This is completely false. According to one scientist (quoted in John McPee's The Curve of Binding Energy) 'The largest bomb that has ever been exploded anywhere was 60 megatons, and that is one-thousandth the force of an earthquake, one-thousandth the force of a hurricane. We have lived with earthquakes and hurricanes for a long time.' Another scientist adds, 'It is often assumed that a full blown nuclear war would be the end of life on earth. That is far from the truth. To end life on earth would take at least a thousand times the total yield of all the nuclear explosives existing in the world, and probably a lot more.' Even if humans succumbed, many forms of life would survive a nuclear free-for-all, cockroaches, certain forms of bacteria, and lichens, for instance. Myth: Radiation is bad for you. Fact: Everything is bad for you if you have too much of it. If you eat too many bananas you'll get a stomach-ache. If you get too much sun you can get sunburned (or even skin cancer). Same thing with radiation. Too much may make you feel under the weather, but nuclear industry officials insist that there is no evidence that low-level radiation has any really serious adverse effects. And, high-level radiation may bring unexpected benefits. It speeds up evolution by weeding out unwanted genetic types and creating new ones. (Remember the old saying, 'Two heads are better than one.') Nearer to home, it's plain that radiation will get rid of pesky crab grass and weeds, and teenagers will find that brief exposure to a nuclear burst vaporizes acne and other skin blemishes. (Many survivors of the Hiroshima bomb found that they were free from skin and it's attendant problems forever.) We hope this clears up any misconceptions you may have had. Enjoy your H-Bomb!           \"\n",
      " ...\n",
      " \"                  urlLink     I  felt kind of energetic today . I slept pretty good last night and got up at 8. I wanted to do so much today with the kids, but when the house is a mess I can't go anywhere until it's presentable. The kids really enjoy just going out on the block to ride bikes or play tag with friends, but we never got a chance to get out. Guilt. Well, we're going to Six Flags tomorrow, so that should make up for today!    I cut up another mango this morning. I onlyhave 2 left so I better get shopping. Bill's going tonight so I have to remember to tell him to pick some up. Later on I ate a few almonds and a few dried currants and at around 4pm I had a huge amount of watermelon. I actually feel full without feeling like I ate too much. Cool.  Kait made pasta alfredo for dinner. I will probably have a very small bowl of it with a very big salad. And I only had 2 cigs today. I may have one more after dinner though. Wow, I usually have about 10 a day. This week is going nicely so far.              \"\n",
      " \"                 Wow, I love fruit.  I read that in order to lose weight with raw food, you shouldn't eat stuff with a lot of fat or sweet fruits.  Of course my favorite things are stuff with a lot of fat and sweet fruits.  This morning I started with a banana.  Then I had such a delicious mango a little while later.  I never had mangos growing up.  We were your basic Northern European, Irish, English, Italian family complete with huge amounts of cooked food.  The only raw things I remember eating was an apple and banana here and there, celery (with cream cheese on it) and that bag of nuts at Thanksgiving, and the occasional salad after we moved in with my Italian stepdad.  We thought mangos and coconuts were weird and only saw them in the Spanish bodegas down the street.  Now I can't live without those.   A few hours later we all shared a big bowl of red grapes.  I feel so good after only fruit in the morning.  When I started this new way of eating, I knew I'd have to take it slow in order to stick with it and I decided the only step I will take for now is having only fruit in the morning.  I've done that before with Fit for Life, Somersizing, and Marilu Henner's Total Health Makeover.  I do stay raw usually until dinnertime, so I feel I'm ahead of the game.  Today's lunch and dinner were disastrous so let's not even go there.   I'm drinking mainly spring water or fresh juice now - no more pepsi or iced tea.  And I had 4 cigs today.  Maybe I'll quit before my birthday.  The better I feel, the less I want to smoke.  Tomorrow I'll break out that pilates tape I've been meaning to get to.  I only had 3 hours of sleep last night (because I had coffee at mom's last night so I wouldn't fall asleep driving home and it kept me awake until 5am!)  so I'm off to bed now.        \"\n",
      " \"                 I want to consider myself a rawfoodist.  Yes, I like to make it one word.  I love the whole concept.  I feel I have the gist of it down, but I'm still reading everything I can get my hands on about the subject.  Can changing one's diet like this really change the person?  I want to change.  I haven't been too thrilled with myself lately.  After 3 kids, my weight is up there and I look and feel like hell.  I started adding more and more raw food into my life a couple of weeks ago, but this week is my true beginning.  I am in love with the idea of natural hygiene and living the way I know we're supposed to.   I'm in what they call a 'transitional' phase right now.  I am eating a few complicated meals trying to get the taste and feel of cooked crappy food.   But I do appreciate the simple, mono foods as well.  I think I'm at around 75% raw at the moment with the expectation of getting to 95% in the near future.  The fun part of this whole thing is that I'm tasting new things such as young coconut, dates, and berries that are fresh and organic and not smushed little pathetic plastic-y things found in frozen pancakes.   Let me tell you what I ate today.  I started the morning with coffee.  Ok, I'm down to one cup one or two mornings a week.  Not bad for someone who relied on that thrice daily caffeine jolt just to get some housework done.  Lets pretend I didn't have that.  Anyway, I ate a banana and drove with everyone out to my mom's.  Bill (hubby dearest) took off today to spend some family time.  I actually brought a huge bage of food and my old juicer.   We stopped off at 7-11 where the kids all got a free slurpee (and Bill too)  and I got a great looking, huge salad for $3.99.  At mom's I cut up a nice mango and threw it in the salad (instead of dressing).  That was actually really yummy.  I never thought mango and onions would taste ok together (then Bill reminded me that Bobby Flay made mango salsa once).   Later on I juiced a bunch of carrots with a bit of apple - Kait (10) had some, too.  She loves fresh juice - and makes killer smoothies.  At dinnertime Dad ordered out pizza and salad.  So I had one slice of pizza with a giant sized plate of salad.  Hey, I'm not perfect.  I ended the night with one glass of zinfandel and totalled about 5 cigarettes for the day.  I am quitting this vile habit on my 35th birthday which is in exactly 22 days.   Most days are like this - last week was worse - next week will be better.  I really do love eating raw.  I have a bit of a hard time with peer pressure/will power/power of suggestion - call it what you want.  I'm overcoming that as well.   Here are the current stats:  Weight: 185.5  (I'm 5'4', so this sucks) Bust:  40' Waist:  37' Hips:  43' Upper Arm:  14' Thigh:  22'          \"]\n",
      "\n"
     ]
    }
   ],
   "source": [
    "for i in trainData.columns:\n",
    "    print(f\"unique {i} values :\")\n",
    "    print(f\"{trainData[i].unique()}\\n\")"
   ]
  },
  {
   "cell_type": "code",
   "execution_count": null,
   "metadata": {
    "colab": {
     "base_uri": "https://localhost:8080/",
     "height": 436
    },
    "id": "Csq86i4tJgja",
    "outputId": "c56b878c-fbd2-4349-86ad-490770e085c1"
   },
   "outputs": [
    {
     "name": "stdout",
     "output_type": "stream",
     "text": [
      "True\n"
     ]
    },
    {
     "data": {
      "text/html": [
       "<div>\n",
       "<style scoped>\n",
       "    .dataframe tbody tr th:only-of-type {\n",
       "        vertical-align: middle;\n",
       "    }\n",
       "\n",
       "    .dataframe tbody tr th {\n",
       "        vertical-align: top;\n",
       "    }\n",
       "\n",
       "    .dataframe thead th {\n",
       "        text-align: right;\n",
       "    }\n",
       "</style>\n",
       "<table border=\"1\" class=\"dataframe\">\n",
       "  <thead>\n",
       "    <tr style=\"text-align: right;\">\n",
       "      <th></th>\n",
       "      <th>id</th>\n",
       "      <th>gender</th>\n",
       "      <th>age</th>\n",
       "      <th>topic</th>\n",
       "      <th>sign</th>\n",
       "      <th>date</th>\n",
       "      <th>text</th>\n",
       "    </tr>\n",
       "  </thead>\n",
       "  <tbody>\n",
       "    <tr>\n",
       "      <th>2310</th>\n",
       "      <td>589736</td>\n",
       "      <td>male</td>\n",
       "      <td>35</td>\n",
       "      <td>Technology</td>\n",
       "      <td>Aries</td>\n",
       "      <td>05,August,2004</td>\n",
       "      <td>hey guys - i had the flu today - th...</td>\n",
       "    </tr>\n",
       "    <tr>\n",
       "      <th>3469</th>\n",
       "      <td>589736</td>\n",
       "      <td>male</td>\n",
       "      <td>35</td>\n",
       "      <td>Technology</td>\n",
       "      <td>Aries</td>\n",
       "      <td>05,August,2004</td>\n",
       "      <td></td>\n",
       "    </tr>\n",
       "    <tr>\n",
       "      <th>3578</th>\n",
       "      <td>589736</td>\n",
       "      <td>male</td>\n",
       "      <td>35</td>\n",
       "      <td>Technology</td>\n",
       "      <td>Aries</td>\n",
       "      <td>05,August,2004</td>\n",
       "      <td></td>\n",
       "    </tr>\n",
       "    <tr>\n",
       "      <th>3626</th>\n",
       "      <td>589736</td>\n",
       "      <td>male</td>\n",
       "      <td>35</td>\n",
       "      <td>Technology</td>\n",
       "      <td>Aries</td>\n",
       "      <td>05,August,2004</td>\n",
       "      <td></td>\n",
       "    </tr>\n",
       "    <tr>\n",
       "      <th>3627</th>\n",
       "      <td>589736</td>\n",
       "      <td>male</td>\n",
       "      <td>35</td>\n",
       "      <td>Technology</td>\n",
       "      <td>Aries</td>\n",
       "      <td>05,August,2004</td>\n",
       "      <td></td>\n",
       "    </tr>\n",
       "    <tr>\n",
       "      <th>...</th>\n",
       "      <td>...</td>\n",
       "      <td>...</td>\n",
       "      <td>...</td>\n",
       "      <td>...</td>\n",
       "      <td>...</td>\n",
       "      <td>...</td>\n",
       "      <td>...</td>\n",
       "    </tr>\n",
       "    <tr>\n",
       "      <th>679550</th>\n",
       "      <td>3446325</td>\n",
       "      <td>male</td>\n",
       "      <td>24</td>\n",
       "      <td>Advertising</td>\n",
       "      <td>Gemini</td>\n",
       "      <td>25,May,2004</td>\n",
       "      <td>Ok, this is very cool. AISO GrepLaw, De...</td>\n",
       "    </tr>\n",
       "    <tr>\n",
       "      <th>679551</th>\n",
       "      <td>3446325</td>\n",
       "      <td>male</td>\n",
       "      <td>24</td>\n",
       "      <td>Advertising</td>\n",
       "      <td>Gemini</td>\n",
       "      <td>25,May,2004</td>\n",
       "      <td>Ok, this is very cool. AISO GrepLaw, De...</td>\n",
       "    </tr>\n",
       "    <tr>\n",
       "      <th>679552</th>\n",
       "      <td>3446325</td>\n",
       "      <td>male</td>\n",
       "      <td>24</td>\n",
       "      <td>Advertising</td>\n",
       "      <td>Gemini</td>\n",
       "      <td>25,May,2004</td>\n",
       "      <td>Ok, this is very cool. AISO GrepLaw, De...</td>\n",
       "    </tr>\n",
       "    <tr>\n",
       "      <th>679553</th>\n",
       "      <td>3446325</td>\n",
       "      <td>male</td>\n",
       "      <td>24</td>\n",
       "      <td>Advertising</td>\n",
       "      <td>Gemini</td>\n",
       "      <td>25,May,2004</td>\n",
       "      <td>Ok, this is very cool. AISO GrepLaw, De...</td>\n",
       "    </tr>\n",
       "    <tr>\n",
       "      <th>679554</th>\n",
       "      <td>3446325</td>\n",
       "      <td>male</td>\n",
       "      <td>24</td>\n",
       "      <td>Advertising</td>\n",
       "      <td>Gemini</td>\n",
       "      <td>25,May,2004</td>\n",
       "      <td>Ok, this is very cool. AISO GrepLaw, De...</td>\n",
       "    </tr>\n",
       "  </tbody>\n",
       "</table>\n",
       "<p>4686 rows × 7 columns</p>\n",
       "</div>"
      ],
      "text/plain": [
       "             id  ...                                               text\n",
       "2310     589736  ...             hey guys - i had the flu today - th...\n",
       "3469     589736  ...                                                   \n",
       "3578     589736  ...                                                   \n",
       "3626     589736  ...                                                   \n",
       "3627     589736  ...                                                   \n",
       "...         ...  ...                                                ...\n",
       "679550  3446325  ...         Ok, this is very cool. AISO GrepLaw, De...\n",
       "679551  3446325  ...         Ok, this is very cool. AISO GrepLaw, De...\n",
       "679552  3446325  ...         Ok, this is very cool. AISO GrepLaw, De...\n",
       "679553  3446325  ...         Ok, this is very cool. AISO GrepLaw, De...\n",
       "679554  3446325  ...         Ok, this is very cool. AISO GrepLaw, De...\n",
       "\n",
       "[4686 rows x 7 columns]"
      ]
     },
     "execution_count": 27,
     "metadata": {},
     "output_type": "execute_result"
    }
   ],
   "source": [
    "#check for Duplicate values\n",
    "dups = trainData.duplicated()\n",
    "# report if there are any duplicates\n",
    "print(dups.any())\n",
    "# list all duplicate rows\n",
    "dup_df = pd.DataFrame(trainData[dups])\n",
    "dup_df"
   ]
  },
  {
   "cell_type": "code",
   "execution_count": null,
   "metadata": {
    "colab": {
     "base_uri": "https://localhost:8080/"
    },
    "id": "TGS5YqT1IVeS",
    "outputId": "3dabc385-d64f-4e6b-d828-d393a8002c87"
   },
   "outputs": [
    {
     "name": "stdout",
     "output_type": "stream",
     "text": [
      "shape before dropping duplicates (681284, 7)\n",
      "shape after dropping duplicates (676598, 7)\n"
     ]
    }
   ],
   "source": [
    "print(\"shape before dropping duplicates\" , trainData.shape)\n",
    "trainData.drop_duplicates(inplace=True)\n",
    "print(\"shape after dropping duplicates\" , trainData.shape)"
   ]
  },
  {
   "cell_type": "markdown",
   "metadata": {
    "id": "4RJRlkZweUIg"
   },
   "source": [
    "We can observe that id and date not are useful in prediction..lets remove them\n",
    "\n",
    "As data set is very huge...lets work with 100k records"
   ]
  },
  {
   "cell_type": "code",
   "execution_count": null,
   "metadata": {
    "colab": {
     "base_uri": "https://localhost:8080/"
    },
    "id": "jKgbUrUWeQxl",
    "outputId": "ad0ddc00-8081-4625-ee88-4a0f59985584"
   },
   "outputs": [
    {
     "name": "stdout",
     "output_type": "stream",
     "text": [
      "Shape of trainData (100000, 5)\n"
     ]
    }
   ],
   "source": [
    "trainData.drop(['id','date'], axis=1, inplace=True)\n",
    "trainData = trainData[:100000]\n",
    "print(\"Shape of trainData\", trainData.shape)"
   ]
  },
  {
   "cell_type": "code",
   "execution_count": null,
   "metadata": {
    "colab": {
     "base_uri": "https://localhost:8080/"
    },
    "id": "fm_QiiR0o9Gm",
    "outputId": "6095de3d-23ba-4886-99ca-b4e40f76537d"
   },
   "outputs": [
    {
     "name": "stdout",
     "output_type": "stream",
     "text": [
      "       Last week marked the one year anniversary of the last week of my old job.  I would be lying if I said that I was devastated to leave that job. There are certainly some people I miss working with, but there are also some people I'm glad I don't ever have to deal with again, and the work itself... not so much the fun.  Perhaps it was because I extended myself more than I should have, maybe it was because I answered my work administered cell phone every time it rang, no matter what time it was, but after almost two years of being a company manager I couldn't bear the thought of booking another flight, prepping another apartment or listening to one more upset actor.  I started to crack at the end of May and finally by August I was on my way out. I was so eager to leave at that point that I didn't even have another job lined up and only two months of rent saved.  Probably not the best idea in the Bay Area, but I felt like I had no other choice.  The last show I worked on was one with 'stars'.  It was important for me to keep these stars happy, that was part of my job.  I was to accomplish star bliss by being extremely pleasant, insanely attentive and upholding all of the commitments made by others, many of which I was not aware of.  Most of these promises were made by the Super Powerful Ultimate Director (SPUD) of the company.    The first time I was aware of these clandestine deals was when I booked some business class plane tickets instead of first class. Even though I had the executed contracts in my hands, stating what I could and couldn't do or buy, I received some angry calls from managers in L.A. about my 'out of line' purchases and was told that I was violating verbal agreements which were made by the SPUD  just yesterday .  I was asked more than once if I knew who I was dealing with.  I think I had a pretty good idea.  These people weren't even in town yet and I had knots in my stomach anticipating what else could possibly go wrong.   Then the best part came, I had the pleasure of picking up cast members at the airport.  It was a joy to be driving a filthy company car around and hear of all the promised wonders I was to provide for these stars; the special meals, the tours of the city and the comp tickets I had for them for other shows on their afternoon off. Granted, this was all part of my job and I had no problem fulfilling (or at least delegating) these requests, but it would have been nice if SPUD, who promised all these things, had let me know the specifics or even just said 'hey, I promised all these people so much stuff I don't even  know  what I said, so good luck!'  I ended up looking like a bobblehead on these rides with the stars, smiling and nodding while driving, taking mental notes of what I needed to do. Sleep was lost on these days, rage persisted, so to avoid a break down I had my intern take over for a few airport runs. He too became miffed with the entire experience.  He liked to take his own pristine car to the airport and came back steaming one time because one of the cast members, who seemed to have brief bouts with narcolepsy, ate a crumbly muffin while dozing off in the front seat of his new car.   The show ran for eight weeks, with the cast changing every two weeks, so every other week held new and wonderful surprises for me.  Upon each arrival I could expect the unexpected and nothing was out of the realm of possibility.  I think the worst incident was being obliged to find soul food in Berkeley at 10:00pm on Sunday night, or maybe it was the time I had to find comfortable quarters and a watchful eye for a dog who had just had hip surgery and was on a fair amount of pain killers.  The 12 - 16 hour days I worked during the rehearsal and run of this show were wearing me down.  I was officially miserable.  Something had to be done.  I talked to my boss, who was the  coolest  boss I've ever had, and she said she would see what they could do to compensate me. She told me she would talk to the SPUD and let me know what they come up with.    The next day I was called into the SPUD's office.  The SPUD thanked me for all my hard work over the last few months and assured me that I was doing a bang up job. I sat there patiently while she told me how lucky I was to work with such stars and what a privilege it was for me to be able to get up close and personal with each and every one.  I did my usual routine of nodding and smiling, just like in the car, waiting for some sort of bonus or a mention of some extra vacation time to fly my way, just something more than words.  I had enough of the words, I wanted more.  And more is what I got.  As the SPUD got to the end of her speech she informed me she wanted to give me something to show her gratitude.  SPUD rolled her chair over to her purse and pulled out her personal checkbook.  As she carefully wrote on a check and handed it to me she was proud to announce that she found out my wedding anniversary had recently passed and she knew Alex and I were going camping for the weekend.  This personal check from SPUD was to say thank you for everything.  This personal check from SPUD was to be used to buy a nice bottle of champagne for my anniversary getaway.  This personal check from SPUD had a note that said 'happy anniversary'.  This personal check from SPUD was for the amount of $25.00.  I wasn't sure what to do.  The whole series of events simultaneously confused, irritated and amused me.  I thanked SPUD and left.  I told my boss about it and she chuckled told me that wasn't what she had in mind or discussed with SPUD in terms of compensation, but what could we do?  I shoved the check in my pocket and went home for the day.  I thought about framing the check and putting it above my desk, but then decided to cash it and buy a case of beer and some beef jerky.  A few days later I was sitting at my desk and SPUD came into the office with her son, as she often did on Friday afternoons, to check in with everyone.  SPUD seemed surprised to see me at my desk and asked why I wasn't on my anniversary camping trip.  I explained that I would be leaving after work that day.  SPUD looked out the window at the gloomy cloud cover and the following dialogue took place:  SPUD: Too bad you'll have such shitty weather. me: We're actually going a little further south, so I think it should be okay. SPUD: Oh, well, if it does rain you can just stay in your tent and fuck all weekend! me: what? SPUD: Well, it's true!  Tell Alex I said that's a direct order!  As if this exchange was not unfortunate enough, please keep in mind that there were about seven other people milling around the office to witness it, one of them being SPUD's son.   And that, my friends, was the straw that broke this camel's back, and when I decided I would quit my job.   At least I got a case of beer out of it.         \n",
      "           Meanwhile, headlines from MSNBC.com:   'Pedestrians swarm the streets ... In face of blackout, people cope'  Well, I should hope they cope.  What did they expect?  'In face of blackout, massacre ensues'?  Also wondering what it means, exactly, that pedestrians 'swarm the streets.'  Are they masses of chaotic, swirling dots?  Are they agitated and feeling strongly aggressive?  Are they gathering in larger and larger numbers, helplessly answering a primal drive?  Or perhaps someone threatened the Queen?         \n",
      "        urlLink    We took a ride to the beach on Wednesday.  I ususally avoid going on the really hot days because of the crowds but I figured I'd take the neighbor kids with us and get some sun, salt and sand anyway.&nbsp; urlLink       \n",
      "       Character inside the character, personagem dentro da persona ou mera imagem, just an image, as a wall reflected inside a garden ou numa garagem qualquer - guardem isso como se guarda em celofane um segredo or a mystery.         \n",
      "       I'm feeling not so paranoid today!&nbsp;&nbsp; That wasn't the case earlier, but as the night wears on, I've been feeling better and more relaxed.&nbsp; Perhaps it's the realization that I leave tomorrow for&nbsp; a mini vacation at a cabin up north.  My mind works in weird yet wonderous ways... I got to thinking and I got to thinking after typing that last sentence, &nbsp;what is 'up north'?&nbsp; For someone in Florida heading up north for a vacation that could be just about anywhere.&nbsp; What about someone in Canada?&nbsp; How far up north could you go?  To me, up north is almost akin to a utopia - a place where everyone exisit in peace in seemingly perfect conditions.&nbsp; It's the ideal vacation spot where you will find relaxation and contentment.&nbsp; When things are troubling you, head 'up north'. &nbsp;Though so perfect in all it's makeup, up north also&nbsp;seems almost&nbsp;unreachable and unattainable&nbsp;as well - like a carrot dangled before your eyes.&nbsp; Up north is El Dorado - it's the Fountain of Youth.&nbsp;   Well, regardless of what it is, my daughter and I are heading there this weekend - at least we are going to attempt to find it!&nbsp; Sitting at our campfire with a trillion stars glistening overhead, no phones or computers in sight, I think we'll come darn close.           \n",
      "                  Curiosity killed the cat.             \n",
      "       i licked reb today...i am perpetually happy  dont ask.  anyway today was boring...as the days go on...i learn douchebag is even more of a douche than i originally thought.  he thinks hes intelligent and has a point to what he's saying...but he doesnt...douche.  otherwise nothing hapend today...actaully i gored my hand with a peice of wood and i kept poking pats penis iwth a lightsaber...once more...dont ask.  k thats it...bye           \n",
      "   For those who are opposed to gay marriage, for whatever reason, I'd like to ask a question. It's a simple, innocent one, but its very simplicity may lead you astray. So I need to add caveats, after I ask it. And that question is:     “What is it about gay marriage, which will harm  you ?” \n",
      "          They are a little slow but they get the idea. When I sold my condo a few years ago I told them that they should buy a townhouse and I'll just pay them rent. This way they have a second house that they can make money off of and I can still have a house (I hate paying property organizations like Paradigm).  Of course they just hated this idea, assuming I was trying to pull something over on them (as if) and since I didn't feel like going through the paperwork of getting another house until I figure out where I want to live, I just submitted and rented out this apartment.  Now fast forward to June 27. My mother calls me and we're talking about her trip this week. She's going to be seeing some old friends, one of whom owns four houses in the Charlotte, N.C. area. They rent three of them out to their kids and just bought a fourth for themselves. Of course they've retired early and make great money off the interest rates of the homes while charging their kids pretty minimal rent to stay there. The thinking is that they can help their kids save up and buy houses of their own.  Now all of a sudden my parents think this is a WONDERFUL idea. Just brilliant. They were asleep when I sold my condo and suggested this idea but now thou art awaken.   Sounds all good but I've got six months on my current lease and I'm stuck, plus there's no guarantee I'll want to live here when it's up. So now they want to do this thing fairly quickly (they are impatient/impulsive like that) and I'm stuck in rental hell. I'm so angry I can't even give them a shit-eating 'I told you so' grin.   So there are two options: either a) beg and plead the properties company to let me out of my lease (HA!) or b) Wait and see. The hope is I'll know whether I'm staying here or moving elsewhere by October and we can search for a place. The only saving grace could be if I get this particular job and I'll be forced to move somewhere in between Jacksonville and Atlanta. That could at least solve my lease problems because the paper will just give me the money to buy it out or take over the last six months and put an intern there or something.  Anyway...Parents are frustrating.          \n",
      "        I just read the following post by Anne van Kesteren:  urlLink Channel 9 does a markover and restyles a bit .  Apparently  urlLink Channel 9  at Msdn.com just got a redesign, where they claim to have worked on cross-browser compatibility.  I decided to test the site out in three browsers, namely Opera 7.51, and Firefox 0.9, and Internet Explorer 6, on my screen at 800x600 resolution. Here are the results:   Opera 7.51 - Fine  Firefox 0.9 - Fine  Internet Explorer 6 - Broken   Yes,  broken . And I have screenshots to prove it. I don't know if it is just my version (6.0.2800.1106 to be precise), but the site is in pieces with the boxes not being aligned correctly.  This must be the joke of the decade or something. I still cannot believe it myself. Microsoft actually goes and breaks their pages  for   in  their own browser, while having other browsers display the pages more-or-less correctly.  I think the problem is that the developers have been using a higher screen resolution. However, many people (like myself) are still using 800x600, so you  must  cater for that by testing. Obviously, this testing has not been done propperly.          \n"
     ]
    }
   ],
   "source": [
    "num_list = random.sample(range(len(trainData)), 10)\n",
    "for i in num_list:\n",
    "  print(trainData['text'][i])"
   ]
  },
  {
   "cell_type": "code",
   "execution_count": null,
   "metadata": {
    "colab": {
     "base_uri": "https://localhost:8080/",
     "height": 296
    },
    "id": "03kDXCN0dazn",
    "outputId": "ff10f57f-89b6-4121-ba9b-bf155ce9564a"
   },
   "outputs": [
    {
     "data": {
      "text/plain": [
       "<matplotlib.axes._subplots.AxesSubplot at 0x7f78caeaa710>"
      ]
     },
     "execution_count": 31,
     "metadata": {},
     "output_type": "execute_result"
    },
    {
     "data": {
      "image/png": "[encoded data removed]",
      "text/plain": [
       "<Figure size 432x288 with 1 Axes>"
      ]
     },
     "metadata": {},
     "output_type": "display_data"
    }
   ],
   "source": [
    "sns.countplot(x=trainData['age'])"
   ]
  },
  {
   "cell_type": "markdown",
   "metadata": {
    "id": "RnLDGiRheUeN"
   },
   "source": [
    "From above we can understand most blog authors are in age range of 14 to 36.\n",
    "Very less blog authors of age 40+"
   ]
  },
  {
   "cell_type": "code",
   "execution_count": null,
   "metadata": {
    "colab": {
     "base_uri": "https://localhost:8080/",
     "height": 483
    },
    "id": "A-NOpwkzklxb",
    "outputId": "ac40e5cf-c100-4dd1-f9a7-0e9ca36d0251"
   },
   "outputs": [
    {
     "data": {
      "image/png": "[encoded data removed]",
      "text/plain": [
       "<Figure size 432x576 with 1 Axes>"
      ]
     },
     "metadata": {},
     "output_type": "display_data"
    }
   ],
   "source": [
    "plt.figure(figsize = (6, 8))\n",
    "pd.value_counts(trainData['topic']).plot(kind=\"barh\")\n",
    "plt.show()"
   ]
  },
  {
   "cell_type": "markdown",
   "metadata": {
    "id": "Pm0Ez7hVnOMY"
   },
   "source": [
    "We can observe highest number of posts are on topics \"indUnk\" followed  by \"student\" and \"Technology\". Very less number of posts on \"Maritime\",\"environment\" and \"construction\""
   ]
  },
  {
   "cell_type": "code",
   "execution_count": null,
   "metadata": {
    "id": "tpYVizAEqegE"
   },
   "outputs": [],
   "source": [
    "wordnet_lemmatizer = WordNetLemmatizer()\n",
    "def clean_data(string):\n",
    "  \"\"\"\n",
    "  cleaning data before vectorization\n",
    "  \"\"\"\n",
    "  try:    \n",
    "    string = re.sub(r'^http?:\\/\\/<>.*[\\r\\n]*', '', string, flags=re.MULTILINE)\n",
    "    string = re.sub(r\"[^A-Za-z]\", \" \", string)         \n",
    "    words = string.strip().lower().split()    \n",
    "    words = [w for w in words if not w in set(stopwords.words('english')) or not w.isalpha()]\n",
    "    words = [wordnet_lemmatizer.lemmatize(w) for w in words]\n",
    "\n",
    "    return \" \".join(words)\n",
    "  except:\n",
    "    return \"\""
   ]
  },
  {
   "cell_type": "code",
   "execution_count": null,
   "metadata": {
    "colab": {
     "base_uri": "https://localhost:8080/",
     "height": 137
    },
    "id": "PSPOtZDgq5z1",
    "outputId": "64033aef-dc11-4c53-d1ea-ce32292ec0a5"
   },
   "outputs": [
    {
     "data": {
      "application/vnd.google.colaboratory.intrinsic+json": {
       "type": "string"
      },
      "text/plain": [
       "\"             So, I've been playing for the last few weeks, and I've been trying to increase my bankroll. I keep a lot of my bankroll off of any individual poker site. Mostly it is in my bank account, cash, or Neteller. However, every time I would break the $1000 barrier online, I'd quickly go on a losing streak and be down around $750-$800. This happened 4 times in 3 weeks. So, this past week, I told myself I wouldn't let it happen again. I decided to play some $20 Sit-'n-Go tourneys. I did pretty well, only managed to win one, but had plenty of second and third place finishes. Before I knew it, I was more than above my bankroll's glass ceiling. So, lets hope this sticks.  I recently read a post online that kind of bothered me. A guy was asking for advice on how to play in a casino for the first time. A gentleman replied that he shouldn't raise too much before the flop since everyone sees the flop with any two cards and will likely make 2 pair to beat your top pair top kicker, or big pair. I couldn't disagree with this more. In a loose game, you need to be raising these hands out, or at least make these chumps put in more 'dead money.' You can't play poker with the defeatist attitude that you're not going to play aggressively because you know a bad beat is going to happen. If you play this way, there is no way you can make a serious long term profit. You're constantly playing with the attitude that something is going to go wrong. You have to be accepting of bad beats, don't get angry. However, you also have to play your cards the best way possible, and that is to make weaker hands pay more to play. Would you not bet your top set if the board was two-suited because a flush might hit? No, that would be insane. The same goes with not raising pre-flop with AK or QQ because people play any Ace or Any King.  So, if you go to play in a casino, don't be a wuss. Raise when you should raise, and if you're in doubt, re-raise. :)  Also, I have no idea if anyone ever reads anything I write. I know one person has, but other than that, have no clue. So, I'd appreciate a comment now and then. Just a 'hey idiot, you suck' would even work.  John          \""
      ]
     },
     "execution_count": 34,
     "metadata": {},
     "output_type": "execute_result"
    }
   ],
   "source": [
    "trainData['text'][56182]"
   ]
  },
  {
   "cell_type": "code",
   "execution_count": null,
   "metadata": {
    "colab": {
     "base_uri": "https://localhost:8080/",
     "height": 137
    },
    "id": "Xiw5yfUTqxRO",
    "outputId": "934fd39b-4cda-40ff-dc9c-e8843a19e67d"
   },
   "outputs": [
    {
     "data": {
      "application/vnd.google.colaboratory.intrinsic+json": {
       "type": "string"
      },
      "text/plain": [
       "'playing last week trying increase bankroll keep lot bankroll individual poker site mostly bank account cash neteller however every time would break barrier online quickly go losing streak around happened time week past week told let happen decided play sit n go tourney pretty well managed win one plenty second third place finish knew bankroll glass ceiling let hope stick recently read post online kind bothered guy asking advice play casino first time gentleman replied raise much flop since everyone see flop two card likely make pair beat top pair top kicker big pair disagree loose game need raising hand least make chump put dead money play poker defeatist attitude going play aggressively know bad beat going happen play way way make serious long term profit constantly playing attitude something going go wrong accepting bad beat get angry however also play card best way possible make weaker hand pay play would bet top set board two suited flush might hit would insane go raising pre flop ak qq people play ace king go play casino wuss raise raise doubt raise also idea anyone ever read anything write know one person clue appreciate comment hey idiot suck would even work john'"
      ]
     },
     "execution_count": 35,
     "metadata": {},
     "output_type": "execute_result"
    }
   ],
   "source": [
    "clean_data(trainData['text'][56182])"
   ]
  },
  {
   "cell_type": "code",
   "execution_count": null,
   "metadata": {
    "colab": {
     "base_uri": "https://localhost:8080/",
     "height": 137
    },
    "id": "e_bRg0AWsQLk",
    "outputId": "8754f129-f4c9-491e-b939-4c949ab2e722"
   },
   "outputs": [
    {
     "data": {
      "application/vnd.google.colaboratory.intrinsic+json": {
       "type": "string"
      },
      "text/plain": [
       "\"           In het kader van kernfusie op aarde:  MAAK JE EIGEN WATERSTOFBOM   How to build an H-Bomb From: ascott@tartarus.uwa.edu.au (Andrew Scott) Newsgroups: rec.humor Subject: How To Build An H-Bomb (humorous!) Date: 7 Feb 1994 07:41:14 GMT Organization: The University of Western Australia  Original file dated 12th November 1990. Seemed to be a transcript of a 'Seven Days' article. Poorly formatted and corrupted. I have added the text between 'examine under a microscope' and 'malleable, like gold,' as it was missing. If anyone has the full text, please distribute. I am not responsible for the accuracy of this information. Converted to HTML by Dionisio@InfiNet.com 11/13/98. (Did a little spell-checking and some minor edits too.) Stolen from  urlLink http://my.ohio.voyager.net/~dionisio/fun/m...own-h-bomb.html  and reformatted the HTML. It now validates to XHTML 1.0 Strict. How to Build an H-Bomb Making and owning an H-bomb is the kind of challenge real Americans seek. Who wants to be a passive victim of nuclear war when, with a little effort, you can be an active participant? Bomb shelters are for losers. Who wants to huddle together underground eating canned Spam? Winners want to push the button themselves. Making your own H-bomb is a big step in nuclear assertiveness training -- it's called Taking Charge. We're sure you'll enjoy the risks and the heady thrill of playing nuclear chicken. Introduction When the Feds clamped down on The Progressive magazine for attempting to publish an article on the manufacture of the hydrogen bomb, it piqued our curiosity. Was it really true that atomic and hydrogen bomb technology was so simple you could build an H-bomb in your own kitchen? Seven Days decided to find out. Food editor Barbara Ehrenreich, investigative reporter Peter Biskind, Photographer Jane Melnick and nuclear scientist Michio Kaku were given three days to cook up a workable H-bomb. They did and we have decided to share their culinary secrets with you. Not that Seven Days supports nuclear terrorism. We don't. We would prefer to die slowly from familiar poisons like low-level radiation, microwaves, DDT, DBCP, aflatoxins, PBBs, PBCs, or food dyes, rather than unexpectedly, say as hostage to a Latvian nationalist brandishing a homemade bomb. In our view the real terrorists are the governments, American, Soviet, French, Chinese, and British, that are hoarding H-bombs for their own use, and worse still, those governments (U.S., French and German) that are eagerly peddling advanced nuclear technology to countries like South Africa, Brazil, and Argentina so that they can make their own bombs. When these bombs are used, and they will be, it will be the world's big-time nuclear peddlers, along with corporate suppliers like General Electric, Westinghouse, and Gulf Oil, that we can thank for it. Gagging The Progressive will do no more for national security than backyard bomb shelters because like it or not the news is out. The heart of the successful H-bomb is the successful A-bomb. Once you've got your A-bombs made the rest is frosting on the cake. All you have to do is set them up so that when they detonate they'll start off a hydrogen-fusion reaction.  Part 1: Making Your Bomb Step 1: Getting the Ingredients Uranium is the basic ingredient of the A-bomb. When a uranium atom's nucleus splits apart, it releases a tremendous amount of energy (for its size), and it emits neutrons which go on to split other nearby uranium nuclei, releasing more energy, in what is called a 'chain reaction'. (When atoms split, matter is converted into energy according to Einstein's equation E=MC2. What better way to mark his birthday than with your own atomic fireworks?) There are two kinds (isotopes) of uranium: the rare U-235, used in bombs, and the more common, heavier, but useless U-238. Natural uranium contains less than 1 percent U-235 and in order to be usable in bombs it has to be 'enriched' to 90 percent U-235 and only 10 percent U-238. Plutonium-239 can also be used in bombs as a substitute for U-235. Ten pounds of U-235 (or slightly less plutonium) is all that is necessary for a bomb. Less than ten pounds won't give you a critical mass. So purifying or enriching naturally occurring uranium is likely to be your first big hurdle. It is infinitely easy to steal ready-to-use enriched uranium or plutonium than to enrich some yourself. And stealing uranium is not as hard as it sounds. There are at least three sources of enriched uranium or plutonium... Enriched uranium is manufactured at a gaseous diffusion plant in Portsmouth, Ohio. From there it is shipped in 10 liter bottles by airplane and trucks to conversion plants that turn it into uranium oxide or uranium metal. Each 10 liter bottle contains 7 kilograms of U-235, and there are 20 bottles to a typical shipment. Conversion facilities exist at Hematite, Missouri; Apollo, Pennsylvania; and Erwin, Tennessee. The Kerr-McGee plant at Crescent Oklahoma -- where Karen Silkwood worked -- was a conversion plant that 'lost' 40 lbs of plutonium. Enriched uranium can be stolen from these plants or from fuel-fabricating plants like those in New Haven, San Diego; or Lynchburg, Virginia. (A former Kerr-McGee supervisor, James V. Smith, when asked at the Silkwood trial if there were any security precautions at the plant to prevent theft, testified that 'There were none of any kind, no guards, no fences, no nothing.') Plutonium can be obtained from places like United Nuclear in Pawling, New York; Nuclear Fuel Services in Erwin, Tennessee; General Electric in Pleasanton, California; Westinghouse in Cheswick, Pennsylvania; Nuclear Materials and Equipment Corporation (NUMEC) in Leechburg, Pennsylvania; and plants in Hanfford, Washington and Morris, Illinois. According to Rolling Stone magazine the Israelis were involved in the theft of plutonium from NUMEC. Finally you can steal enriched uranium or plutonium while it's en-route from conversion plants to fuel fabricating plants. It is usually transported (by air or truck) in the form of uranium oxide, a brownish powder resembling instant coffee, or as a metal, coming in small chunks called 'broken buttons.' Both forms are shipped in small cans stacked in 5-inch cylinders braced with welded struts in the center of ordinary 55 gallon steel drums. The drums weigh about 100 pounds and are clearly marked 'Fissible Material' or 'Danger, Plutonium.' A typical shipment might go from the enrichment plant at Portsmouth, Ohio to the conversion plant in Hematite Missouri then to Kansas City by truck where it would be flown to Los Angeles and then trucked down to the General Atomic plant in San Diego. The plans for the General Atomic plant are on file at the Nuclear Regulatory Commission's reading room at 1717 H Street NW Washington. A Xerox machine is provided for the convenience of the public. If you can't get hold of any enriched uranium you'll have to settle for commercial grade (20 percent U-235). This can be stolen from university reactors of a type called TRIGA Mark II, where security is even more casual than at commercial plants. If stealing uranium seems too tacky you can buy it. Unenriched uranium is available at any chemical supply house for $23 a pound. Commercial grade (3 to 20 percent enriched) is available for $40 a pound from Gulf Atomic. You'll have to enrich it further yourself. Quite frankly this can be something of a pain in the ass. You'll need to start with a little more than 50 pounds of commercial-grade uranium. (It's only 20 percent U-235 at best, and you need 10 pounds of U-235 so... ) But with a little kitchen-table chemistry you'll be able to convert the solid uranium oxide you've purchased into a liquid form. Once you've done that, you'll be able to separate the U-235 that you'll need from the U-238. First pour a few gallons of concentrated hydrofluoric acid into your uranium oxide, converting it to uranium tetrafluoride. (Safety note: Concentrated hydrofluoric acid is so corrosive that it will eat its way through glass, so store it only in plastic. Used 1-gallon plastic milk containers will do.) Now you have to convert your uranium tetrafluoride to uranium hexafluoride, the gaseous form of uranium, which is convenient for separating out the isotope U-235 from U-238. To get the hexafluoride form, bubble fluorine gas into your container of uranium tetrafluoride. Fluorine is available in pressurized tanks from chemical-supply firms. Be careful how you use it though because fluorine is several times more deadly than chlorine, the classic World War I poison gas. Chemists recommend that you carry out this step under a stove hood (the kind used to remove unpleasant cooking odors). If you've done your chemistry right you should now have a generous supply of uranium hexafluoride ready for enriching. In the old horse-and-buggy days of A-bomb manufacture the enrichment was carried out by passing the uranium hexafluoride through hundreds of miles of pipes, tubes, and membranes, until the U-235 was eventually separated from the U-238. This gaseous-diffusion process, as it was called is difficult, time-consuming, and expensive. Gaseous-diffusion plants cover hundreds of acres and cost in the neighborhood of $2-billion each. So forget it. There are easier, and cheaper, ways to enrich your uranium. First transform the gas into a liquid by subjecting it to pressure. You can use a bicycle pump for this. Then make a simple home centrifuge. Fill a standard-size bucket one-quarter full of liquid uranium hexafluoride. Attach a six-foot rope to the bucket handle. Now swing the rope (and attached bucket) around your head as fast as possible. Keep this up for about 45 minutes. Slow down gradually, and very gently put the bucket on the floor. The U-235, which is lighter, will have risen to the top, where it can be skimmed off like cream. Repeat this step until you have the required 10 pounds of uranium. (Safety note: Don't put all your enriched uranium hexafluoride in one bucket. Use at least two or three buckets and keep them in separate corners of the room. This will prevent the premature build-up of a critical mass.) Now it's time to convert your enriched uranium back to metal form. This is easily enough accomplished by spooning several ladlefuls of calcium (available in tablet form from your drugstore) into each bucket of uranium. The calcium will react with the uranium hexafluoride to produce calcium fluoride, a colorless salt which can be easily be separated from your pure enriched uranium metal. A few precautions: • While uranium is not dangerously radioactive in the amounts you'll be handling, if you plan to make more than one bomb it might be wise to wear gloves and a lead apron, the kind you can buy in dental supply stores. • Plutonium is one of the most toxic substances known. If inhaled, a thousandth of a gram can cause massive fibrosis of the lungs, a painful way to go. Even a millionth of a gram in the lungs will cause cancer. If eaten plutonium is metabolized like calcium. It goes straight to the bones where it gives out alpha particles preventing bone marrow from manufacturing red blood cells. The best way to avoid inhaling plutonium is to hold your breath while handling it. If this is too difficult wear a mask. To avoid ingesting plutonium orally follow this simple rule: never make an A-bomb on an empty stomach. • If you find yourself dozing off while you're working, or if you begin to glow in the dark, it might be wise to take a blood count. Prick your finger with a sterile pin, place a drop of blood on a microscope slide, cover it with a cover slip, and examine under a microscope. (Best results are obtained in the early morning.) When you get leukemia, immature cells are released into the bloodstream, and usually the number of white cells increases (though this increase might take almost 2 weeks). Red blood cells look kind of like donuts (without the hole), and are slightly smaller than the white cells, each of which has a nucleus. Immature red cells look similar to white cells (i.e.. slightly larger and have a nucleus). If you have more than about 1 white cell (including immature ones) to 400 red cells then start to worry. But, depending upon your plans for the eventual use of the bomb, a short life expectancy might not be a problem.  Step 2: Assembling the A-Bomb Now that you've acquired the enriched uranium, all that's left is to assemble your A-bomb. Go find a couple of stainless steel salad bowls. You also want to separate your 10 pounds of U-235 into two hunks. (Keep them apart!) The idea is to push each half your uranium into the inside of a bowl. Take one hunk of your uranium and beat it into the inside of the first bowl. Uranium is malleable, like gold, so you should have no trouble hammering it into the bowl to get a good fit. Take another five-pound hunk of uranium and fit it into a second stainless steel bowl. These two bowls of U-235 are the 'subcritical masses' which, when brought together forcefully, will provide the critical mass that makes your A-bomb go. Keep them a respectful distance apart while working because you don't want them to 'go critical' on you... At least not yet. Now hollow out the body of an old vacuum cleaner and place your two hemispherical bowls inside, open ends facing each other, no less than seven inches apart, using masking tape to set them up in position. The reason for the steel bowls and the vacuum cleaner, in case you're wondering, is that these help reflect the neutrons back into the uranium for a more efficient explosion. 'A loose neutron is a useless neutron' as the A-bomb pioneers used to say. As far as the A-bomb goes, you're almost done. The final problem is to figure out how to get the two U-235 hemispheres to smash into each other with sufficient force to set off a truly effective fission reaction. Almost any type of explosive can be used to drive them together. Gunpowder, for example, is easily made at home from potassium nitrate, sulfur, and carbon. Or, you can get some blasting caps or TNT. (Buy them or steal them from a construction site.) Best of all is C4 plastic explosive. You can mold it around your bowls, and it's fairly safe to work with. (But, it might be wise to shape it around an extra salad bowl in another room, and THEN fit it to your uranium-packed bowls. This is particularly true in winter, when a stray static electrical charge might induce ignition in the C4. A responsible bomb maker considers it impolite to accidentally destroy more of the neighborhood than absolutely necessary.) Once the explosives are in place all you need to do is hook up a simple detonation device with a few batteries, a switch, and some wire. Remember though that it is essential that the two charges -- one on each side of the casing -- go off simultaneously. Now put the whole thing in the casing of an old Hoover vacuum cleaner and you're finished with this part of the process. The rest is easy.  Step 3: Make More A-Bombs Following the Directions Above  A Word to the Wise About Wastes After your A-bomb is completed you'll have a pile of moderately fatal radioactive wastes like U-238. These are not dangerous, but you do have to get rid of them. You can flush leftovers down the toilet. (Don't worry about polluting the ocean, there is already so much radioactive waste there, a few more bucketfuls won't make any waves whatsoever.) If you're the fastidious type -- the kind who never leaves gum under their seat at the movies -- you can seal the nasty stuff in coffee cans and bury it in the backyard, just like Uncle Sam does. If the neighbor kids have a habit of trampling the lawn, tell them to play over by the waste. You'll soon find that they're spending most of their time in bed.  Going First Class If you're like us, you're feeling the economic pinch, and you'll want to make your bomb as inexpensively as possible, consonant of course with reasonable yield. The recipe we've given is for a budget-pleasing H-bomb, no frills, no flourishes; it's just a simple 5-megaton bomb, capable of wiping out the New York metropolitan area, the San Francisco Bay area, or Boston. But don't forget, your H-bomb will only be as good as the A-bombs in it. If you want to spend a little more money you can punch-up your A-bomb considerably. Instead of centrifuging your uranium by hand, you can buy a commercial centrifuge. (Fisher Scientific sells one for about $1000.) You also might want to be fussier about your design. The Hiroshima bomb, a relatively crude one, only fissioned 1 percent of it's uranium and yielded only 13 kilotons. In order to fission more of the uranium, the force of your explosive 'trigger' needs to be evenly diffused around the sphere; the same pressure has to be exerted on every point of the sphere simultaneously. (It was a technique for producing this sort of simultaneous detonation by fashioning the explosives into lenses that the government accused Julius and Ethel Rosenberg of trying to steal).  Part 2: Putting Your H-Bomb Together The heart of the H-bomb is the fusion process. Several A-bombs are detonated in such a way as to create the extremely high temperature (100 million degrees C) necessary to fuse lithium deuteride (LiD) into helium. When the lithium nucleus slams into the deuterium nucleus, two helium nuclei are created, and if this happens to enough deuterium nuclei rapidly enough, the result is an enormous amount of energy: the energy of the H-bomb. You don't have to worry about stealing lithium deuteride, it can be purchased from any chemical-supply house. It costs $1000 a pound. If your budget won't allow it you can substitute lithium hydride at $40 a pound. You will need at least 100 pounds. It's a corrosive and toxic powder so be careful. Place the lithium deuteride or hydride in glass jars and surround it with four A-bombs in their casings. Attach them to the same detonator so that they will go off simultaneously. The container for the whole thing is no problem. They can be placed anywhere: Inside an old stereo console, a discarded refrigerator, etc... When the detonator sets off the four A-bombs all eight hemispheres of fissionable material will slam into each other at the same time creating four critical masses and four detonations. This will raise the temperature of the lithium deuteride to 100 million degrees C fast enough (a few billionths of a second) so that the lithium will not be blown all over the neighborhood before the nuclei have time to fuse. The result, at least 1000 times the punch of the puny A-bomb that leveled Hiroshima (20 million tons of TNT vs. 20 thousand tons.)  Part 3: What to do With Your Bomb Now that you have a fully assembled H-bomb housed in an attractive console of your choice you may be wondering, 'What should I do with it?' Every family will have to answer this question according to its own tastes and preferences, but you may want to explore some possibilities which have been successfully pioneered by the American government. 1. Sell Your Bomb and Make a Pile of Money In these days of rising inflation, increasing unemployment, and an uncertain economic outlook, few businesses make as much sense as weapons production. If your career forecast is cloudy, bomb sales may be the only sure way to avoid the humiliation of receiving welfare, or unemployment. Regardless of your present income level, a home H-bomb business can be an invaluable income supplement, and certainly a profitable alternative to selling Tupperware or pirated Girl Scout cookies. Unfortunately for the family bomb business, big government has already cornered a large part of the world market. But this does not mean that there is a shortage of potential customers. The raid on Entebee was the Waterloo of hijacking, and many nationalist groups are now on the alert for new means to get their message across. They'd jump at the chance to get hold of an H-bomb. Emerging nations which can't ante up enough rice or sugar to buy themselves a reactor from G.E. or Westinghouse are also shopping around. You may wonder about the ethics of selling to nations, or groups, whose goals you may disapprove of. But here again, take a tip from our government: forget ideology -- it's cash that counts. And remember, H-bomb sales have a way of escalating, almost like a chain reaction. Suppose you make a sale to South Yemen which you believe to be a Soviet puppet. Well within a few days some discrete inquiries from North Yemen and possibly the Saudis, the Egyptians and the Ethiopians as well can be expected. Similarly, a sale to the IRA will generate a sale to the Ulster government; and a sale to the Tanzanians will bring the Ugandans running, and so forth. It doesn't matter WHICH side you're on, only how many sides there are. Don't forget about the possibility of repeat sales to the same customer. As the experience of both the U.S. and the U.S.S.R. has shown, each individual nation has a potentially infinite need for H-bombs. No customer -- no matter how small -- can ever have too many. 2. Use Your Bomb at Home Many families are attracted to the H-bomb simply as a 'deterrent.' A discrete sticker on the door or on the living room window saying 'This Home Protected by H-bomb' will discourage IRS investigators, census takers, and Jehovah's Witnesses. You'll be surprised how fast the crime rate will go down and property values will go up. And once the news gets out that you are a home H-bomb owner you'll find that you have unexpected leverage in neighborhood disputes over everything from parking places and stereo noise levels to school tax rates. So relax and enjoy the pride and excitement of home H-bomb ownership!  Is It For You? Let's be honest. The H-bomb isn't for everyone. Frankly there are people who can't handle it. They break out in hives at the very mention of mega-death, fallout, or radiation sickness. The following quiz will help you find out whether you have what it takes for home H-bomb ownership. If you can answer 'yes' to six or more of these questions, then you're emotionally eligible to join the nuclear club. If not, a more conventional weapon may be more your cup of tea, try botulism-toxin, laser rays, or nerve gas. 1. I ignore the demands of others. 2. I subscribe to one or more of the following: Soldier of Fortune, Hustler, Popular Mechanics, Self. 3. Though I have many interesting acquaintances, I am my own best friend. 4. I know what to say after you say 'Hello,' but I am seldom interested in pursuing the conversation. 5. I have seen the movie 'The Deer Hunter' more than once. 6. I know that everyone can be a winner if they want to, and I resent whiners. 7. I own one or more of the following: handgun, video game, trash compactor, snowmobile. 8. I am convinced that leukemia is psychosomatic. 9. I am aware that most vegetarians are sexually impotent. 10. I have read evidence that solar energy is a Communist conspiracy.  Myths About Nuclear War Ever since the first mushroom cloud over Hiroshima ushered in the atomic age, a small group of nay-sayers and doom-mongers has lobbied, campaigned and demonstrated to convince Americans that H-bomb ownership, along with nuclear power, is dangerous and unhealthy. Using their virtual stranglehold over the media, these people have tried to discredit everything nuclear from energy to war. They have vastly overrated the risks of nuclear bombs and left many Americans feeling demoralized and indecisive; not sure where the truth lies. Well, here are the myths, and here are the facts. Myth: After a nuclear exchange the earth will no longer be suitable for human habitation. Fact: This is completely false. According to one scientist (quoted in John McPee's The Curve of Binding Energy) 'The largest bomb that has ever been exploded anywhere was 60 megatons, and that is one-thousandth the force of an earthquake, one-thousandth the force of a hurricane. We have lived with earthquakes and hurricanes for a long time.' Another scientist adds, 'It is often assumed that a full blown nuclear war would be the end of life on earth. That is far from the truth. To end life on earth would take at least a thousand times the total yield of all the nuclear explosives existing in the world, and probably a lot more.' Even if humans succumbed, many forms of life would survive a nuclear free-for-all, cockroaches, certain forms of bacteria, and lichens, for instance. Myth: Radiation is bad for you. Fact: Everything is bad for you if you have too much of it. If you eat too many bananas you'll get a stomach-ache. If you get too much sun you can get sunburned (or even skin cancer). Same thing with radiation. Too much may make you feel under the weather, but nuclear industry officials insist that there is no evidence that low-level radiation has any really serious adverse effects. And, high-level radiation may bring unexpected benefits. It speeds up evolution by weeding out unwanted genetic types and creating new ones. (Remember the old saying, 'Two heads are better than one.') Nearer to home, it's plain that radiation will get rid of pesky crab grass and weeds, and teenagers will find that brief exposure to a nuclear burst vaporizes acne and other skin blemishes. (Many survivors of the Hiroshima bomb found that they were free from skin and it's attendant problems forever.) We hope this clears up any misconceptions you may have had. Enjoy your H-Bomb!           \""
      ]
     },
     "execution_count": 36,
     "metadata": {},
     "output_type": "execute_result"
    }
   ],
   "source": [
    "trainData['text'][2]"
   ]
  },
  {
   "cell_type": "code",
   "execution_count": null,
   "metadata": {
    "colab": {
     "base_uri": "https://localhost:8080/",
     "height": 137
    },
    "id": "g1GD2gcxsgPh",
    "outputId": "8923848b-6016-439f-ef4f-fdfde613514b"
   },
   "outputs": [
    {
     "data": {
      "application/vnd.google.colaboratory.intrinsic+json": {
       "type": "string"
      },
      "text/plain": [
       "'het kader van kernfusie op aarde maak je eigen waterstofbom build h bomb ascott tartarus uwa edu au andrew scott newsgroups rec humor subject build h bomb humorous date feb gmt organization university western australia original file dated th november seemed transcript seven day article poorly formatted corrupted added text examine microscope malleable like gold missing anyone full text please distribute responsible accuracy information converted html dionisio infinet com little spell checking minor edits stolen urllink http ohio voyager net dionisio fun h bomb html reformatted html validates xhtml strict build h bomb making owning h bomb kind challenge real american seek want passive victim nuclear war little effort active participant bomb shelter loser want huddle together underground eating canned spam winner want push button making h bomb big step nuclear assertiveness training called taking charge sure enjoy risk heady thrill playing nuclear chicken introduction fed clamped progressive magazine attempting publish article manufacture hydrogen bomb piqued curiosity really true atomic hydrogen bomb technology simple could build h bomb kitchen seven day decided find food editor barbara ehrenreich investigative reporter peter biskind photographer jane melnick nuclear scientist michio kaku given three day cook workable h bomb decided share culinary secret seven day support nuclear terrorism would prefer die slowly familiar poison like low level radiation microwave ddt dbcp aflatoxin pbbs pbcs food dye rather unexpectedly say hostage latvian nationalist brandishing homemade bomb view real terrorist government american soviet french chinese british hoarding h bomb use worse still government u french german eagerly peddling advanced nuclear technology country like south africa brazil argentina make bomb bomb used world big time nuclear peddler along corporate supplier like general electric westinghouse gulf oil thank gagging progressive national security backyard bomb shelter like news heart successful h bomb successful bomb got bomb made rest frosting cake set detonate start hydrogen fusion reaction part making bomb step getting ingredient uranium basic ingredient bomb uranium atom nucleus split apart release tremendous amount energy size emits neutron go split nearby uranium nucleus releasing energy called chain reaction atom split matter converted energy according einstein equation e mc better way mark birthday atomic firework two kind isotope uranium rare u used bomb common heavier useless u natural uranium contains le percent u order usable bomb enriched percent u percent u plutonium also used bomb substitute u ten pound u slightly le plutonium necessary bomb le ten pound give critical mass purifying enriching naturally occurring uranium likely first big hurdle infinitely easy steal ready use enriched uranium plutonium enrich stealing uranium hard sound least three source enriched uranium plutonium enriched uranium manufactured gaseous diffusion plant portsmouth ohio shipped liter bottle airplane truck conversion plant turn uranium oxide uranium metal liter bottle contains kilogram u bottle typical shipment conversion facility exist hematite missouri apollo pennsylvania erwin tennessee kerr mcgee plant crescent oklahoma karen silkwood worked conversion plant lost lb plutonium enriched uranium stolen plant fuel fabricating plant like new san diego lynchburg virginia former kerr mcgee supervisor james v smith asked silkwood trial security precaution plant prevent theft testified none kind guard fence nothing plutonium obtained place like united nuclear pawling new york nuclear fuel service erwin tennessee general electric pleasanton california westinghouse cheswick pennsylvania nuclear material equipment corporation numec leechburg pennsylvania plant hanfford washington morris illinois according rolling stone magazine israeli involved theft plutonium numec finally steal enriched uranium plutonium en route conversion plant fuel fabricating plant usually transported air truck form uranium oxide brownish powder resembling instant coffee metal coming small chunk called broken button form shipped small can stacked inch cylinder braced welded strut center ordinary gallon steel drum drum weigh pound clearly marked fissible material danger plutonium typical shipment might go enrichment plant portsmouth ohio conversion plant hematite missouri kansa city truck would flown los angeles trucked general atomic plant san diego plan general atomic plant file nuclear regulatory commission reading room h street nw washington xerox machine provided convenience public get hold enriched uranium settle commercial grade percent u stolen university reactor type called triga mark ii security even casual commercial plant stealing uranium seems tacky buy unenriched uranium available chemical supply house pound commercial grade percent enriched available pound gulf atomic enrich quite frankly something pain as need start little pound commercial grade uranium percent u best need pound u little kitchen table chemistry able convert solid uranium oxide purchased liquid form done able separate u need u first pour gallon concentrated hydrofluoric acid uranium oxide converting uranium tetrafluoride safety note concentrated hydrofluoric acid corrosive eat way glass store plastic used gallon plastic milk container convert uranium tetrafluoride uranium hexafluoride gaseous form uranium convenient separating isotope u u get hexafluoride form bubble fluorine gas container uranium tetrafluoride fluorine available pressurized tank chemical supply firm careful use though fluorine several time deadly chlorine classic world war poison gas chemist recommend carry step stove hood kind used remove unpleasant cooking odor done chemistry right generous supply uranium hexafluoride ready enriching old horse buggy day bomb manufacture enrichment carried passing uranium hexafluoride hundred mile pipe tube membrane u eventually separated u gaseous diffusion process called difficult time consuming expensive gaseous diffusion plant cover hundred acre cost neighborhood billion forget easier cheaper way enrich uranium first transform gas liquid subjecting pressure use bicycle pump make simple home centrifuge fill standard size bucket one quarter full liquid uranium hexafluoride attach six foot rope bucket handle swing rope attached bucket around head fast possible keep minute slow gradually gently put bucket floor u lighter risen top skimmed like cream repeat step required pound uranium safety note put enriched uranium hexafluoride one bucket use least two three bucket keep separate corner room prevent premature build critical mass time convert enriched uranium back metal form easily enough accomplished spooning several ladlefuls calcium available tablet form drugstore bucket uranium calcium react uranium hexafluoride produce calcium fluoride colorless salt easily separated pure enriched uranium metal precaution uranium dangerously radioactive amount handling plan make one bomb might wise wear glove lead apron kind buy dental supply store plutonium one toxic substance known inhaled thousandth gram cause massive fibrosis lung painful way go even millionth gram lung cause cancer eaten plutonium metabolized like calcium go straight bone give alpha particle preventing bone marrow manufacturing red blood cell best way avoid inhaling plutonium hold breath handling difficult wear mask avoid ingesting plutonium orally follow simple rule never make bomb empty stomach find dozing working begin glow dark might wise take blood count prick finger sterile pin place drop blood microscope slide cover cover slip examine microscope best result obtained early morning get leukemia immature cell released bloodstream usually number white cell increase though increase might take almost week red blood cell look kind like donut without hole slightly smaller white cell nucleus immature red cell look similar white cell e slightly larger nucleus white cell including immature one red cell start worry depending upon plan eventual use bomb short life expectancy might problem step assembling bomb acquired enriched uranium left assemble bomb go find couple stainless steel salad bowl also want separate pound u two hunk keep apart idea push half uranium inside bowl take one hunk uranium beat inside first bowl uranium malleable like gold trouble hammering bowl get good fit take another five pound hunk uranium fit second stainless steel bowl two bowl u subcritical mass brought together forcefully provide critical mass make bomb go keep respectful distance apart working want go critical least yet hollow body old vacuum cleaner place two hemispherical bowl inside open end facing le seven inch apart using masking tape set position reason steel bowl vacuum cleaner case wondering help reflect neutron back uranium efficient explosion loose neutron useless neutron bomb pioneer used say far bomb go almost done final problem figure get two u hemisphere smash sufficient force set truly effective fission reaction almost type explosive used drive together gunpowder example easily made home potassium nitrate sulfur carbon get blasting cap tnt buy steal construction site best c plastic explosive mold around bowl fairly safe work might wise shape around extra salad bowl another room fit uranium packed bowl particularly true winter stray static electrical charge might induce ignition c responsible bomb maker considers impolite accidentally destroy neighborhood absolutely necessary explosive place need hook simple detonation device battery switch wire remember though essential two charge one side casing go simultaneously put whole thing casing old hoover vacuum cleaner finished part process rest easy step make bomb following direction word wise waste bomb completed pile moderately fatal radioactive waste like u dangerous get rid flush leftover toilet worry polluting ocean already much radioactive waste bucketful make wave whatsoever fastidious type kind never leaf gum seat movie seal nasty stuff coffee can bury backyard like uncle sam neighbor kid habit trampling lawn tell play waste soon find spending time bed going first class like u feeling economic pinch want make bomb inexpensively possible consonant course reasonable yield recipe given budget pleasing h bomb frill flourish simple megaton bomb capable wiping new york metropolitan area san francisco bay area boston forget h bomb good bomb want spend little money punch bomb considerably instead centrifuging uranium hand buy commercial centrifuge fisher scientific sell one also might want fussier design hiroshima bomb relatively crude one fissioned percent uranium yielded kiloton order fission uranium force explosive trigger need evenly diffused around sphere pressure exerted every point sphere simultaneously technique producing sort simultaneous detonation fashioning explosive lens government accused julius ethel rosenberg trying steal part putting h bomb together heart h bomb fusion process several bomb detonated way create extremely high temperature million degree c necessary fuse lithium deuteride lid helium lithium nucleus slam deuterium nucleus two helium nucleus created happens enough deuterium nucleus rapidly enough result enormous amount energy energy h bomb worry stealing lithium deuteride purchased chemical supply house cost pound budget allow substitute lithium hydride pound need least pound corrosive toxic powder careful place lithium deuteride hydride glass jar surround four bomb casing attach detonator go simultaneously container whole thing problem placed anywhere inside old stereo console discarded refrigerator etc detonator set four bomb eight hemisphere fissionable material slam time creating four critical mass four detonation raise temperature lithium deuteride million degree c fast enough billionth second lithium blown neighborhood nucleus time fuse result least time punch puny bomb leveled hiroshima million ton tnt v thousand ton part bomb fully assembled h bomb housed attractive console choice may wondering every family answer question according taste preference may want explore possibility successfully pioneered american government sell bomb make pile money day rising inflation increasing unemployment uncertain economic outlook business make much sense weapon production career forecast cloudy bomb sale may sure way avoid humiliation receiving welfare unemployment regardless present income level home h bomb business invaluable income supplement certainly profitable alternative selling tupperware pirated girl scout cooky unfortunately family bomb business big government already cornered large part world market mean shortage potential customer raid entebee waterloo hijacking many nationalist group alert new mean get message across jump chance get hold h bomb emerging nation ante enough rice sugar buy reactor g e westinghouse also shopping around may wonder ethic selling nation group whose goal may disapprove take tip government forget ideology cash count remember h bomb sale way escalating almost like chain reaction suppose make sale south yemen believe soviet puppet well within day discrete inquiry north yemen possibly saudi egyptian ethiopian well expected similarly sale ira generate sale ulster government sale tanzanian bring ugandan running forth matter side many side forget possibility repeat sale customer experience u u r shown individual nation potentially infinite need h bomb customer matter small ever many use bomb home many family attracted h bomb simply deterrent discrete sticker door living room window saying home protected h bomb discourage irs investigator census taker jehovah witness surprised fast crime rate go property value go news get home h bomb owner find unexpected leverage neighborhood dispute everything parking place stereo noise level school tax rate relax enjoy pride excitement home h bomb ownership let honest h bomb everyone frankly people handle break hive mention mega death fallout radiation sickness following quiz help find whether take home h bomb ownership answer yes six question emotionally eligible join nuclear club conventional weapon may cup tea try botulism toxin laser ray nerve gas ignore demand others subscribe one following soldier fortune hustler popular mechanic self though many interesting acquaintance best friend know say say hello seldom interested pursuing conversation seen movie deer hunter know everyone winner want resent whiner one following handgun video game trash compactor snowmobile convinced leukemia psychosomatic aware vegetarian sexually impotent read evidence solar energy communist conspiracy myth nuclear war ever since first mushroom cloud hiroshima ushered atomic age small group nay sayers doom monger lobbied campaigned demonstrated convince american h bomb ownership along nuclear power dangerous unhealthy using virtual stranglehold medium people tried discredit everything nuclear energy war vastly overrated risk nuclear bomb left many american feeling demoralized indecisive sure truth lie well myth fact myth nuclear exchange earth longer suitable human habitation fact completely false according one scientist quoted john mcpee curve binding energy largest bomb ever exploded anywhere megaton one thousandth force earthquake one thousandth force hurricane lived earthquake hurricane long time another scientist add often assumed full blown nuclear war would end life earth far truth end life earth would take least thousand time total yield nuclear explosive existing world probably lot even human succumbed many form life would survive nuclear free cockroach certain form bacteria lichen instance myth radiation bad fact everything bad much eat many banana get stomach ache get much sun get sunburned even skin cancer thing radiation much may make feel weather nuclear industry official insist evidence low level radiation really serious adverse effect high level radiation may bring unexpected benefit speed evolution weeding unwanted genetic type creating new one remember old saying two head better one nearer home plain radiation get rid pesky crab grass weed teenager find brief exposure nuclear burst vaporizes acne skin blemish many survivor hiroshima bomb found free skin attendant problem forever hope clear misconception may enjoy h bomb'"
      ]
     },
     "execution_count": 37,
     "metadata": {},
     "output_type": "execute_result"
    }
   ],
   "source": [
    "clean_data(trainData['text'][2])"
   ]
  },
  {
   "cell_type": "code",
   "execution_count": null,
   "metadata": {
    "colab": {
     "background_save": true
    },
    "id": "3cdHnr_r2OqV",
    "outputId": "310df44f-3187-42e6-d534-aafb49f2ae4a"
   },
   "outputs": [
    {
     "data": {
      "text/html": [
       "<div>\n",
       "<style scoped>\n",
       "    .dataframe tbody tr th:only-of-type {\n",
       "        vertical-align: middle;\n",
       "    }\n",
       "\n",
       "    .dataframe tbody tr th {\n",
       "        vertical-align: top;\n",
       "    }\n",
       "\n",
       "    .dataframe thead th {\n",
       "        text-align: right;\n",
       "    }\n",
       "</style>\n",
       "<table border=\"1\" class=\"dataframe\">\n",
       "  <thead>\n",
       "    <tr style=\"text-align: right;\">\n",
       "      <th></th>\n",
       "      <th>gender</th>\n",
       "      <th>age</th>\n",
       "      <th>topic</th>\n",
       "      <th>sign</th>\n",
       "      <th>text</th>\n",
       "      <th>clean_text</th>\n",
       "    </tr>\n",
       "  </thead>\n",
       "  <tbody>\n",
       "    <tr>\n",
       "      <th>0</th>\n",
       "      <td>male</td>\n",
       "      <td>15</td>\n",
       "      <td>Student</td>\n",
       "      <td>Leo</td>\n",
       "      <td>Info has been found (+/- 100 pages,...</td>\n",
       "      <td>info found page mb pdf file wait untill team l...</td>\n",
       "    </tr>\n",
       "    <tr>\n",
       "      <th>1</th>\n",
       "      <td>male</td>\n",
       "      <td>15</td>\n",
       "      <td>Student</td>\n",
       "      <td>Leo</td>\n",
       "      <td>These are the team members:   Drewe...</td>\n",
       "      <td>team member drewes van der laag urllink mail r...</td>\n",
       "    </tr>\n",
       "    <tr>\n",
       "      <th>2</th>\n",
       "      <td>male</td>\n",
       "      <td>15</td>\n",
       "      <td>Student</td>\n",
       "      <td>Leo</td>\n",
       "      <td>In het kader van kernfusie op aarde...</td>\n",
       "      <td>het kader van kernfusie op aarde maak je eigen...</td>\n",
       "    </tr>\n",
       "    <tr>\n",
       "      <th>3</th>\n",
       "      <td>male</td>\n",
       "      <td>15</td>\n",
       "      <td>Student</td>\n",
       "      <td>Leo</td>\n",
       "      <td>testing!!!  testing!!!</td>\n",
       "      <td>testing testing</td>\n",
       "    </tr>\n",
       "    <tr>\n",
       "      <th>4</th>\n",
       "      <td>male</td>\n",
       "      <td>33</td>\n",
       "      <td>InvestmentBanking</td>\n",
       "      <td>Aquarius</td>\n",
       "      <td>Thanks to Yahoo!'s Toolbar I can ...</td>\n",
       "      <td>thanks yahoo toolbar capture url popups mean s...</td>\n",
       "    </tr>\n",
       "  </tbody>\n",
       "</table>\n",
       "</div>"
      ],
      "text/plain": [
       "  gender  ...                                         clean_text\n",
       "0   male  ...  info found page mb pdf file wait untill team l...\n",
       "1   male  ...  team member drewes van der laag urllink mail r...\n",
       "2   male  ...  het kader van kernfusie op aarde maak je eigen...\n",
       "3   male  ...                                    testing testing\n",
       "4   male  ...  thanks yahoo toolbar capture url popups mean s...\n",
       "\n",
       "[5 rows x 6 columns]"
      ]
     },
     "execution_count": null,
     "metadata": {},
     "output_type": "execute_result"
    }
   ],
   "source": [
    "trainData['clean_text'] = trainData['text'].apply(lambda x: clean_data(x))\n",
    "trainData.head()"
   ]
  },
  {
   "cell_type": "code",
   "execution_count": null,
   "metadata": {
    "colab": {
     "background_save": true
    },
    "id": "QIv7srD5sueq"
   },
   "outputs": [],
   "source": [
    "trainData['labels'] = trainData.apply(lambda x : [x['gender'],x['age'],x['topic'],x['sign']], axis=1)"
   ]
  },
  {
   "cell_type": "code",
   "execution_count": null,
   "metadata": {
    "colab": {
     "background_save": true
    },
    "id": "rkYeOfYfh1c0"
   },
   "outputs": [],
   "source": [
    "#drop  gender,age,topic & sign as we merged to labels column\n",
    "trainData.drop(columns=['gender','age','topic','sign','text'], axis=1, inplace=True)"
   ]
  },
  {
   "cell_type": "code",
   "execution_count": null,
   "metadata": {
    "colab": {
     "background_save": true
    },
    "id": "Y1Zy7uHNzl4j",
    "outputId": "e73ae3b6-907b-42df-d388-2508ef26c276"
   },
   "outputs": [
    {
     "data": {
      "text/html": [
       "<div>\n",
       "<style scoped>\n",
       "    .dataframe tbody tr th:only-of-type {\n",
       "        vertical-align: middle;\n",
       "    }\n",
       "\n",
       "    .dataframe tbody tr th {\n",
       "        vertical-align: top;\n",
       "    }\n",
       "\n",
       "    .dataframe thead th {\n",
       "        text-align: right;\n",
       "    }\n",
       "</style>\n",
       "<table border=\"1\" class=\"dataframe\">\n",
       "  <thead>\n",
       "    <tr style=\"text-align: right;\">\n",
       "      <th></th>\n",
       "      <th>clean_text</th>\n",
       "      <th>labels</th>\n",
       "    </tr>\n",
       "  </thead>\n",
       "  <tbody>\n",
       "    <tr>\n",
       "      <th>0</th>\n",
       "      <td>info found page mb pdf file wait untill team l...</td>\n",
       "      <td>[male, 15, Student, Leo]</td>\n",
       "    </tr>\n",
       "    <tr>\n",
       "      <th>1</th>\n",
       "      <td>team member drewes van der laag urllink mail r...</td>\n",
       "      <td>[male, 15, Student, Leo]</td>\n",
       "    </tr>\n",
       "    <tr>\n",
       "      <th>2</th>\n",
       "      <td>het kader van kernfusie op aarde maak je eigen...</td>\n",
       "      <td>[male, 15, Student, Leo]</td>\n",
       "    </tr>\n",
       "    <tr>\n",
       "      <th>3</th>\n",
       "      <td>testing testing</td>\n",
       "      <td>[male, 15, Student, Leo]</td>\n",
       "    </tr>\n",
       "    <tr>\n",
       "      <th>4</th>\n",
       "      <td>thanks yahoo toolbar capture url popups mean s...</td>\n",
       "      <td>[male, 33, InvestmentBanking, Aquarius]</td>\n",
       "    </tr>\n",
       "  </tbody>\n",
       "</table>\n",
       "</div>"
      ],
      "text/plain": [
       "                                          clean_text                                   labels\n",
       "0  info found page mb pdf file wait untill team l...                 [male, 15, Student, Leo]\n",
       "1  team member drewes van der laag urllink mail r...                 [male, 15, Student, Leo]\n",
       "2  het kader van kernfusie op aarde maak je eigen...                 [male, 15, Student, Leo]\n",
       "3                                    testing testing                 [male, 15, Student, Leo]\n",
       "4  thanks yahoo toolbar capture url popups mean s...  [male, 33, InvestmentBanking, Aquarius]"
      ]
     },
     "execution_count": null,
     "metadata": {},
     "output_type": "execute_result"
    }
   ],
   "source": [
    "trainData.head()"
   ]
  },
  {
   "cell_type": "code",
   "execution_count": null,
   "metadata": {
    "colab": {
     "background_save": true
    },
    "id": "w-EVXZhxjB4p"
   },
   "outputs": [],
   "source": [
    "#splitting X and Y\n",
    "X = trainData['clean_text']\n",
    "y = trainData['labels']"
   ]
  },
  {
   "cell_type": "markdown",
   "metadata": {
    "id": "wUy0_40W0vvg"
   },
   "source": [
    "**Using CountVectorizer**"
   ]
  },
  {
   "cell_type": "code",
   "execution_count": null,
   "metadata": {
    "colab": {
     "background_save": true
    },
    "id": "vCJcTRMgq2Us",
    "outputId": "64d0df74-e3e5-43e1-c04f-701ad58de3bf"
   },
   "outputs": [
    {
     "name": "stdout",
     "output_type": "stream",
     "text": [
      "  (0, 122017)\t1\n",
      "  (0, 86483)\t1\n",
      "  (0, 183680)\t1\n",
      "  (0, 156128)\t1\n",
      "  (0, 186938)\t1\n",
      "  (0, 81250)\t1\n",
      "  (0, 276549)\t1\n",
      "  (0, 271270)\t1\n",
      "  (0, 251004)\t1\n",
      "  (0, 135298)\t1\n",
      "  (0, 199300)\t1\n",
      "  (0, 135741)\t1\n",
      "  (0, 118515)\t1\n",
      "  (0, 86691)\t1\n",
      "  (0, 186939)\t1\n",
      "  (0, 276752)\t1\n",
      "  (0, 251072)\t1\n",
      "  (1, 251004)\t1\n",
      "  (1, 157561)\t1\n",
      "  (1, 274856)\t1\n",
      "  (1, 57956)\t1\n",
      "  (1, 271841)\t3\n",
      "  (1, 151141)\t3\n",
      "  (1, 294694)\t1\n",
      "  (1, 30550)\t1\n",
      "  :\t:\n",
      "  (99999, 187297)\t1\n",
      "  (99999, 155626)\t1\n",
      "  (99999, 30152)\t2\n",
      "  (99999, 266947)\t1\n",
      "  (99999, 108754)\t1\n",
      "  (99999, 225446)\t1\n",
      "  (99999, 244468)\t1\n",
      "  (99999, 10445)\t1\n",
      "  (99999, 253657)\t1\n",
      "  (99999, 240856)\t1\n",
      "  (99999, 74034)\t1\n",
      "  (99999, 10588)\t1\n",
      "  (99999, 125430)\t1\n",
      "  (99999, 225611)\t1\n",
      "  (99999, 188329)\t1\n",
      "  (99999, 227385)\t1\n",
      "  (99999, 141560)\t1\n",
      "  (99999, 213318)\t1\n",
      "  (99999, 250514)\t1\n",
      "  (99999, 31671)\t1\n",
      "  (99999, 253658)\t1\n",
      "  (99999, 244478)\t1\n",
      "  (99999, 198335)\t3\n",
      "  (99999, 100222)\t1\n",
      "  (99999, 31911)\t1\n"
     ]
    }
   ],
   "source": [
    "from sklearn.feature_extraction.text import CountVectorizer\n",
    "\n",
    "vectorizer = CountVectorizer(ngram_range=(1,2),max_df=0.9,min_df=5)\n",
    "X_cnt = vectorizer.fit_transform(X)\n",
    "print(X_cnt)  # returns the row number and column number of cells which have 1 as value"
   ]
  },
  {
   "cell_type": "code",
   "execution_count": null,
   "metadata": {
    "colab": {
     "background_save": true
    },
    "id": "FxMIgQpRv1pv",
    "outputId": "94e381ef-096d-4add-fb27-ab7bf9f7db46"
   },
   "outputs": [
    {
     "data": {
      "text/plain": [
       "<1x298244 sparse matrix of type '<class 'numpy.int64'>'\n",
       "\twith 11 stored elements in Compressed Sparse Row format>"
      ]
     },
     "execution_count": null,
     "metadata": {},
     "output_type": "execute_result"
    }
   ],
   "source": [
    "X_cnt[1]"
   ]
  },
  {
   "cell_type": "code",
   "execution_count": null,
   "metadata": {
    "colab": {
     "background_save": true
    },
    "id": "n0D3wGMGsn_U",
    "outputId": "f6204436-3e83-45a2-c06d-014d658dd879"
   },
   "outputs": [
    {
     "data": {
      "text/plain": [
       "['aa',\n",
       " 'aa meeting',\n",
       " 'aaa',\n",
       " 'aaaaaah',\n",
       " 'aaaaah',\n",
       " 'aaaaahhhhh',\n",
       " 'aaaah',\n",
       " 'aaaahhh',\n",
       " 'aaaand',\n",
       " 'aaah']"
      ]
     },
     "execution_count": null,
     "metadata": {},
     "output_type": "execute_result"
    }
   ],
   "source": [
    "vectorizer.get_feature_names()[0:10]"
   ]
  },
  {
   "cell_type": "code",
   "execution_count": null,
   "metadata": {
    "id": "hOlwItipKkNU"
   },
   "outputs": [],
   "source": [
    "label_counts=dict()\n",
    "\n",
    "for labels in trainData.labels.values:\n",
    "     for label in labels:\n",
    "        if label in label_counts:\n",
    "            label_counts[str(label)]+=1\n",
    "        else:\n",
    "            label_counts[str(label)]=1"
   ]
  },
  {
   "cell_type": "code",
   "execution_count": null,
   "metadata": {
    "colab": {
     "base_uri": "https://localhost:8080/"
    },
    "id": "5g89GCNf2YFm",
    "outputId": "511e3531-33f9-44fd-b9ea-0e7621f5cf17"
   },
   "outputs": [
    {
     "data": {
      "text/plain": [
       "{'13': 1,\n",
       " '14': 1,\n",
       " '15': 1,\n",
       " '16': 1,\n",
       " '17': 1,\n",
       " '23': 1,\n",
       " '24': 1,\n",
       " '25': 1,\n",
       " '26': 1,\n",
       " '27': 1,\n",
       " '33': 1,\n",
       " '34': 1,\n",
       " '35': 1,\n",
       " '36': 1,\n",
       " '37': 1,\n",
       " '38': 1,\n",
       " '39': 1,\n",
       " '40': 1,\n",
       " '41': 1,\n",
       " '42': 1,\n",
       " '43': 1,\n",
       " '44': 1,\n",
       " '45': 1,\n",
       " '46': 1,\n",
       " '47': 1,\n",
       " '48': 1,\n",
       " 'Accounting': 409,\n",
       " 'Advertising': 778,\n",
       " 'Agriculture': 168,\n",
       " 'Aquarius': 9118,\n",
       " 'Architecture': 80,\n",
       " 'Aries': 10609,\n",
       " 'Arts': 5029,\n",
       " 'Automotive': 124,\n",
       " 'Banking': 344,\n",
       " 'Biotech': 324,\n",
       " 'BusinessServices': 620,\n",
       " 'Cancer': 9147,\n",
       " 'Capricorn': 8714,\n",
       " 'Chemicals': 305,\n",
       " 'Communications-Media': 2811,\n",
       " 'Construction': 250,\n",
       " 'Consulting': 937,\n",
       " 'Education': 5545,\n",
       " 'Engineering': 2317,\n",
       " 'Environment': 6,\n",
       " 'Fashion': 1898,\n",
       " 'Gemini': 8921,\n",
       " 'Government': 2054,\n",
       " 'HumanResources': 209,\n",
       " 'Internet': 2231,\n",
       " 'InvestmentBanking': 244,\n",
       " 'Law': 360,\n",
       " 'LawEnforcement-Security': 367,\n",
       " 'Leo': 8348,\n",
       " 'Libra': 7290,\n",
       " 'Manufacturing': 542,\n",
       " 'Maritime': 59,\n",
       " 'Marketing': 725,\n",
       " 'Military': 790,\n",
       " 'Museums-Libraries': 308,\n",
       " 'Non-Profit': 1377,\n",
       " 'Pisces': 7452,\n",
       " 'Publishing': 1071,\n",
       " 'RealEstate': 149,\n",
       " 'Religion': 1093,\n",
       " 'Sagittarius': 7336,\n",
       " 'Science': 1086,\n",
       " 'Scorpio': 7072,\n",
       " 'Sports-Recreation': 406,\n",
       " 'Student': 22614,\n",
       " 'Taurus': 8541,\n",
       " 'Technology': 8442,\n",
       " 'Telecommunications': 162,\n",
       " 'Tourism': 253,\n",
       " 'Transportation': 610,\n",
       " 'Virgo': 7452,\n",
       " 'female': 46528,\n",
       " 'indUnk': 32903,\n",
       " 'male': 53472}"
      ]
     },
     "execution_count": 51,
     "metadata": {},
     "output_type": "execute_result"
    }
   ],
   "source": [
    "label_counts"
   ]
  },
  {
   "cell_type": "code",
   "execution_count": null,
   "metadata": {
    "colab": {
     "base_uri": "https://localhost:8080/"
    },
    "id": "KwMyGlwul_hd",
    "outputId": "304d7ac1-0368-4f1b-966a-6f16d8866460"
   },
   "outputs": [
    {
     "data": {
      "text/plain": [
       "0                        [male, 15, Student, Leo]\n",
       "1                        [male, 15, Student, Leo]\n",
       "2                        [male, 15, Student, Leo]\n",
       "3                        [male, 15, Student, Leo]\n",
       "4         [male, 33, InvestmentBanking, Aquarius]\n",
       "                           ...                   \n",
       "100832                   [male, 17, Student, Leo]\n",
       "100833                   [male, 17, Student, Leo]\n",
       "100834                   [male, 17, Student, Leo]\n",
       "100835                   [male, 17, Student, Leo]\n",
       "100836                   [male, 17, Student, Leo]\n",
       "Name: labels, Length: 100000, dtype: object"
      ]
     },
     "execution_count": 52,
     "metadata": {},
     "output_type": "execute_result"
    }
   ],
   "source": [
    "y"
   ]
  },
  {
   "cell_type": "code",
   "execution_count": null,
   "metadata": {
    "colab": {
     "base_uri": "https://localhost:8080/"
    },
    "id": "1Y5l9obnxK1_",
    "outputId": "85fd77ab-9b05-4754-9158-d9894b86f892"
   },
   "outputs": [
    {
     "name": "stderr",
     "output_type": "stream",
     "text": [
      "/usr/local/lib/python3.7/dist-packages/sklearn/preprocessing/_label.py:987: UserWarning: unknown class(es) [13, 14, 15, 16, 17, 23, 24, 25, 26, 27, 33, 34, 35, 36, 37, 38, 39, 40, 41, 42, 43, 44, 45, 46, 47, 48] will be ignored\n",
      "  .format(sorted(unknown, key=str)))\n"
     ]
    }
   ],
   "source": [
    "from sklearn.preprocessing import MultiLabelBinarizer \n",
    "mlb = MultiLabelBinarizer(classes=sorted(label_counts.keys()))\n",
    "y_mlb = mlb.fit_transform(y)"
   ]
  },
  {
   "cell_type": "code",
   "execution_count": null,
   "metadata": {
    "colab": {
     "base_uri": "https://localhost:8080/"
    },
    "id": "d-Owq_wK3__S",
    "outputId": "3fe9b368-4722-4a9f-d45b-8c4a7ab73d43"
   },
   "outputs": [
    {
     "name": "stdout",
     "output_type": "stream",
     "text": [
      "[[0 0 0 0 0 0 0 0 0 0 0 0 0 0 0 0 0 0 0 0 0 0 0 0 0 0 0 0 0 0 0 0 0 0 0 0\n",
      "  0 0 0 0 0 0 0 0 0 0 0 0 0 0 0 0 0 0 1 0 0 0 0 0 0 0 0 0 0 0 0 0 0 0 1 0\n",
      "  0 0 0 0 0 0 0 1]\n",
      " [0 0 0 0 0 0 0 0 0 0 0 0 0 0 0 0 0 0 0 0 0 0 0 0 0 0 0 0 0 0 0 0 0 0 0 0\n",
      "  0 0 0 0 0 0 0 0 0 0 0 0 0 0 0 0 0 0 1 0 0 0 0 0 0 0 0 0 0 0 0 0 0 0 1 0\n",
      "  0 0 0 0 0 0 0 1]\n",
      " [0 0 0 0 0 0 0 0 0 0 0 0 0 0 0 0 0 0 0 0 0 0 0 0 0 0 0 0 0 0 0 0 0 0 0 0\n",
      "  0 0 0 0 0 0 0 0 0 0 0 0 0 0 0 0 0 0 1 0 0 0 0 0 0 0 0 0 0 0 0 0 0 0 1 0\n",
      "  0 0 0 0 0 0 0 1]\n",
      " [0 0 0 0 0 0 0 0 0 0 0 0 0 0 0 0 0 0 0 0 0 0 0 0 0 0 0 0 0 0 0 0 0 0 0 0\n",
      "  0 0 0 0 0 0 0 0 0 0 0 0 0 0 0 0 0 0 1 0 0 0 0 0 0 0 0 0 0 0 0 0 0 0 1 0\n",
      "  0 0 0 0 0 0 0 1]\n",
      " [0 0 0 0 0 0 0 0 0 0 0 0 0 0 0 0 0 0 0 0 0 0 0 0 0 0 0 0 0 1 0 0 0 0 0 0\n",
      "  0 0 0 0 0 0 0 0 0 0 0 0 0 0 0 1 0 0 0 0 0 0 0 0 0 0 0 0 0 0 0 0 0 0 0 0\n",
      "  0 0 0 0 0 0 0 1]]\n"
     ]
    }
   ],
   "source": [
    "print(y_mlb[0:5])"
   ]
  },
  {
   "cell_type": "code",
   "execution_count": null,
   "metadata": {
    "colab": {
     "base_uri": "https://localhost:8080/"
    },
    "id": "p8jjoguhm1wX",
    "outputId": "9836aa60-b96c-4514-dcb0-0f6c7874d717"
   },
   "outputs": [
    {
     "name": "stdout",
     "output_type": "stream",
     "text": [
      "x_train shape:  (80000, 298244)\n",
      "y_train shape:  (80000, 80)\n",
      "x_test shape:  (20000, 298244)\n",
      "y_test shape:  (20000, 80)\n"
     ]
    }
   ],
   "source": [
    "from sklearn.model_selection import train_test_split\n",
    "# split X and y into training and testing sets\n",
    "X_train, X_test, y_train, y_test = train_test_split(X_cnt,y_mlb, random_state=2,test_size = 0.2)\n",
    "\n",
    "print('x_train shape: ', X_train.shape)\n",
    "print('y_train shape: ', y_train.shape)\n",
    "print('x_test shape: ', X_test.shape)\n",
    "print('y_test shape: ', y_test.shape)"
   ]
  },
  {
   "cell_type": "code",
   "execution_count": null,
   "metadata": {
    "colab": {
     "base_uri": "https://localhost:8080/"
    },
    "id": "TqB5ZEQaq1ZV",
    "outputId": "54a7e383-59c9-48ea-ed1c-a5aead6e2f49"
   },
   "outputs": [
    {
     "data": {
      "text/plain": [
       "<1x298244 sparse matrix of type '<class 'numpy.int64'>'\n",
       "\twith 77 stored elements in Compressed Sparse Row format>"
      ]
     },
     "execution_count": 56,
     "metadata": {},
     "output_type": "execute_result"
    }
   ],
   "source": [
    "X_train[0]"
   ]
  },
  {
   "cell_type": "code",
   "execution_count": null,
   "metadata": {
    "colab": {
     "base_uri": "https://localhost:8080/"
    },
    "id": "hRatc4MhrWbE",
    "outputId": "49e3098a-1ec4-4ac1-91b1-e18e094868ea"
   },
   "outputs": [
    {
     "data": {
      "text/plain": [
       "array([0, 0, 0, 0, 0, 0, 0, 0, 0, 0, 0, 0, 0, 0, 0, 0, 0, 0, 0, 0, 0, 0,\n",
       "       0, 0, 0, 0, 0, 0, 0, 0, 0, 1, 0, 0, 0, 0, 0, 0, 0, 0, 0, 0, 0, 0,\n",
       "       0, 0, 0, 0, 0, 0, 0, 0, 0, 0, 0, 0, 0, 0, 0, 0, 0, 0, 0, 0, 0, 0,\n",
       "       0, 0, 0, 0, 0, 0, 0, 0, 0, 0, 0, 1, 1, 0])"
      ]
     },
     "execution_count": 57,
     "metadata": {},
     "output_type": "execute_result"
    }
   ],
   "source": [
    "y_train[0]"
   ]
  },
  {
   "cell_type": "markdown",
   "metadata": {
    "id": "MEzc_9nt1NTm"
   },
   "source": [
    "**Using LogisticRegression with CountVectorizer**"
   ]
  },
  {
   "cell_type": "code",
   "execution_count": null,
   "metadata": {
    "colab": {
     "base_uri": "https://localhost:8080/"
    },
    "id": "B4BPrN9t4y_w",
    "outputId": "1516afb2-aa45-4592-c4ad-9de9cc964006"
   },
   "outputs": [
    {
     "data": {
      "text/plain": [
       "OneVsRestClassifier(estimator=LogisticRegression(C=1.0, class_weight=None,\n",
       "                                                 dual=False, fit_intercept=True,\n",
       "                                                 intercept_scaling=1,\n",
       "                                                 l1_ratio=None, max_iter=100,\n",
       "                                                 multi_class='ovr', n_jobs=None,\n",
       "                                                 penalty='l2',\n",
       "                                                 random_state=None,\n",
       "                                                 solver='lbfgs', tol=0.0001,\n",
       "                                                 verbose=0, warm_start=False),\n",
       "                    n_jobs=None)"
      ]
     },
     "execution_count": 58,
     "metadata": {},
     "output_type": "execute_result"
    }
   ],
   "source": [
    "import warnings # to ignore warnings\n",
    "warnings.filterwarnings('ignore')\n",
    "\n",
    "from sklearn.multiclass import OneVsRestClassifier\n",
    "from sklearn.linear_model import LogisticRegression\n",
    "\n",
    "lr = LogisticRegression(solver='lbfgs', multi_class='ovr')\n",
    "model = OneVsRestClassifier(lr)\n",
    "\n",
    "model.fit(X_train, y_train)"
   ]
  },
  {
   "cell_type": "code",
   "execution_count": null,
   "metadata": {
    "colab": {
     "base_uri": "https://localhost:8080/"
    },
    "id": "qaI694JE5pk5",
    "outputId": "11586888-67bc-472d-f9a6-d9a6490df01c"
   },
   "outputs": [
    {
     "data": {
      "text/plain": [
       "array([[0, 0, 0, 0, 0, 0, 0, 0, 0, 0, 0, 0, 0, 0, 0, 0, 0, 0, 0, 0, 0, 0,\n",
       "        0, 0, 0, 0, 0, 0, 0, 0, 0, 0, 0, 0, 0, 0, 0, 0, 0, 0, 0, 0, 0, 0,\n",
       "        0, 0, 0, 0, 0, 0, 0, 0, 0, 0, 0, 0, 0, 0, 0, 0, 0, 0, 0, 0, 0, 0,\n",
       "        0, 0, 0, 0, 0, 0, 0, 0, 0, 0, 0, 0, 0, 1],\n",
       "       [0, 0, 0, 0, 0, 0, 0, 0, 0, 0, 0, 0, 0, 0, 0, 0, 0, 0, 0, 0, 0, 0,\n",
       "        0, 0, 0, 0, 0, 0, 0, 0, 0, 0, 0, 0, 0, 0, 0, 0, 0, 0, 0, 0, 0, 0,\n",
       "        0, 0, 0, 1, 0, 0, 0, 0, 0, 0, 0, 0, 0, 0, 0, 0, 0, 0, 0, 0, 0, 0,\n",
       "        0, 0, 0, 0, 1, 0, 0, 0, 0, 0, 0, 1, 0, 0],\n",
       "       [0, 0, 0, 0, 0, 0, 0, 0, 0, 0, 0, 0, 0, 0, 0, 0, 0, 0, 0, 0, 0, 0,\n",
       "        0, 0, 0, 0, 0, 0, 0, 0, 0, 0, 0, 0, 0, 0, 0, 0, 0, 0, 0, 0, 0, 0,\n",
       "        0, 0, 0, 0, 0, 0, 0, 0, 0, 0, 0, 0, 0, 0, 0, 0, 0, 0, 0, 0, 0, 0,\n",
       "        0, 0, 0, 0, 0, 0, 0, 0, 0, 0, 0, 0, 0, 1],\n",
       "       [0, 0, 0, 0, 0, 0, 0, 0, 0, 0, 0, 0, 0, 0, 0, 0, 0, 0, 0, 0, 0, 0,\n",
       "        0, 0, 0, 0, 0, 0, 0, 0, 0, 0, 0, 0, 0, 0, 0, 0, 0, 0, 0, 0, 0, 0,\n",
       "        0, 0, 0, 0, 0, 0, 0, 0, 0, 0, 0, 0, 0, 0, 0, 0, 0, 0, 0, 0, 0, 0,\n",
       "        0, 0, 0, 0, 0, 0, 0, 0, 0, 0, 0, 0, 0, 1],\n",
       "       [0, 0, 0, 0, 0, 0, 0, 0, 0, 0, 0, 0, 0, 0, 0, 0, 0, 0, 0, 0, 0, 0,\n",
       "        0, 0, 0, 0, 0, 0, 0, 0, 0, 0, 0, 0, 0, 0, 0, 0, 0, 0, 0, 0, 0, 0,\n",
       "        0, 0, 0, 0, 0, 0, 0, 0, 0, 0, 0, 0, 0, 0, 0, 0, 0, 0, 0, 0, 0, 0,\n",
       "        0, 0, 0, 0, 1, 0, 0, 0, 0, 0, 0, 0, 0, 1]])"
      ]
     },
     "execution_count": 59,
     "metadata": {},
     "output_type": "execute_result"
    }
   ],
   "source": [
    "y_pred_test = model.predict(X_test)\n",
    "y_pred_test[0:5]"
   ]
  },
  {
   "cell_type": "code",
   "execution_count": null,
   "metadata": {
    "colab": {
     "base_uri": "https://localhost:8080/"
    },
    "id": "uHs8v3pntjJl",
    "outputId": "e08ebd92-da3c-433a-9ed1-fab5b124d709"
   },
   "outputs": [
    {
     "data": {
      "text/plain": [
       "array([[0, 0, 0, 0, 0, 0, 0, 0, 0, 0, 0, 0, 0, 0, 0, 0, 0, 0, 0, 0, 0, 0,\n",
       "        0, 0, 0, 0, 0, 0, 0, 0, 0, 1, 0, 0, 0, 0, 0, 0, 0, 0, 0, 0, 0, 0,\n",
       "        0, 0, 1, 0, 0, 0, 0, 0, 0, 0, 0, 0, 0, 0, 0, 0, 0, 0, 0, 0, 0, 0,\n",
       "        0, 0, 0, 0, 0, 0, 0, 0, 0, 0, 0, 0, 0, 1],\n",
       "       [0, 0, 0, 0, 0, 0, 0, 0, 0, 0, 0, 0, 0, 0, 0, 0, 0, 0, 0, 0, 0, 0,\n",
       "        0, 0, 0, 0, 0, 0, 0, 0, 0, 0, 0, 0, 0, 0, 0, 1, 0, 0, 0, 0, 0, 0,\n",
       "        0, 0, 0, 0, 0, 0, 0, 0, 0, 0, 0, 0, 0, 0, 0, 0, 0, 0, 0, 0, 0, 0,\n",
       "        0, 0, 0, 0, 1, 0, 0, 0, 0, 0, 0, 0, 0, 1],\n",
       "       [0, 0, 0, 0, 0, 0, 0, 0, 0, 0, 0, 0, 0, 0, 0, 0, 0, 0, 0, 0, 0, 0,\n",
       "        0, 0, 0, 0, 0, 0, 0, 0, 0, 0, 0, 0, 0, 0, 0, 0, 0, 0, 0, 0, 0, 0,\n",
       "        0, 0, 0, 0, 0, 0, 0, 0, 0, 0, 0, 0, 0, 0, 0, 0, 0, 0, 0, 0, 0, 0,\n",
       "        1, 0, 0, 0, 0, 0, 0, 0, 0, 0, 0, 0, 1, 1],\n",
       "       [0, 0, 0, 0, 0, 0, 0, 0, 0, 0, 0, 0, 0, 0, 0, 0, 0, 0, 0, 0, 0, 0,\n",
       "        0, 0, 0, 0, 0, 0, 0, 0, 0, 0, 0, 0, 1, 0, 0, 0, 0, 0, 0, 0, 0, 0,\n",
       "        0, 0, 0, 0, 0, 0, 0, 0, 0, 0, 0, 0, 0, 0, 0, 0, 0, 0, 0, 0, 0, 0,\n",
       "        1, 0, 0, 0, 0, 0, 0, 0, 0, 0, 0, 0, 0, 1],\n",
       "       [0, 0, 0, 0, 0, 0, 0, 0, 0, 0, 0, 0, 0, 0, 0, 0, 0, 0, 0, 0, 0, 0,\n",
       "        0, 0, 0, 0, 0, 0, 0, 0, 0, 1, 0, 0, 0, 0, 0, 0, 0, 0, 0, 0, 0, 0,\n",
       "        0, 0, 0, 0, 0, 0, 0, 0, 0, 0, 0, 0, 0, 0, 0, 0, 0, 0, 0, 0, 0, 0,\n",
       "        0, 0, 0, 0, 1, 0, 0, 0, 0, 0, 0, 0, 0, 1]])"
      ]
     },
     "execution_count": 60,
     "metadata": {},
     "output_type": "execute_result"
    }
   ],
   "source": [
    "y_test[0:5]"
   ]
  },
  {
   "cell_type": "code",
   "execution_count": null,
   "metadata": {
    "id": "aXqjVARQ1Q0_"
   },
   "outputs": [],
   "source": [
    "from sklearn.metrics import accuracy_score\n",
    "from sklearn.metrics import f1_score\n",
    "from sklearn.metrics import precision_score\n",
    "from sklearn.metrics import recall_score\n",
    "\n",
    "def print_eval_scores():\n",
    "   ## evaluating model performance via accuracy score\n",
    "   print(\" accuracy score : \", accuracy_score(y_test, y_pred_test))\n",
    "\n",
    "   ## evaluating performance of the model using f1 score \n",
    "   print(\" f1 score : \" ,f1_score(y_test, y_pred_test,average='micro'))\n",
    "\n",
    "   ## evaluating performance of the model using recall_score\n",
    "   print(\" recall_score : \", recall_score(y_test,y_pred_test,average='micro'))\n",
    "\n",
    "   ## evaluating performance of the model using precision_score\n",
    "   print(\" precision_score : \", precision_score(y_test,y_pred_test,average='micro'))"
   ]
  },
  {
   "cell_type": "code",
   "execution_count": null,
   "metadata": {
    "colab": {
     "base_uri": "https://localhost:8080/"
    },
    "id": "oBQDRsqKrJsb",
    "outputId": "6850165d-afef-471b-8979-347ea0ab4ba4"
   },
   "outputs": [
    {
     "name": "stdout",
     "output_type": "stream",
     "text": [
      " accuracy score :  0.13175\n",
      " f1 score :  0.5015437167443999\n",
      " recall_score :  0.38175\n",
      " precision_score :  0.7309017805858702\n"
     ]
    }
   ],
   "source": [
    "print_eval_scores()"
   ]
  },
  {
   "cell_type": "markdown",
   "metadata": {
    "id": "81vaZezDu_jN"
   },
   "source": [
    "Got very less accuracy score i.e. 13% even though precision(percent of predictions) were correct is 73% But F1 score(correct positive predictions) is 50% only."
   ]
  },
  {
   "cell_type": "code",
   "execution_count": null,
   "metadata": {
    "colab": {
     "base_uri": "https://localhost:8080/"
    },
    "id": "aMKKZCz0wbZ1",
    "outputId": "6bf17a2a-c252-424e-9393-0aa735b417a3"
   },
   "outputs": [
    {
     "name": "stdout",
     "output_type": "stream",
     "text": [
      "              precision    recall  f1-score   support\n",
      "\n",
      "           0       0.00      0.00      0.00         0\n",
      "           1       0.00      0.00      0.00         0\n",
      "           2       0.00      0.00      0.00         0\n",
      "           3       0.00      0.00      0.00         0\n",
      "           4       0.00      0.00      0.00         0\n",
      "           5       0.00      0.00      0.00         0\n",
      "           6       0.00      0.00      0.00         0\n",
      "           7       0.00      0.00      0.00         0\n",
      "           8       0.00      0.00      0.00         0\n",
      "           9       0.00      0.00      0.00         0\n",
      "          10       0.00      0.00      0.00         0\n",
      "          11       0.00      0.00      0.00         0\n",
      "          12       0.00      0.00      0.00         0\n",
      "          13       0.00      0.00      0.00         0\n",
      "          14       0.00      0.00      0.00         0\n",
      "          15       0.00      0.00      0.00         0\n",
      "          16       0.00      0.00      0.00         0\n",
      "          17       0.00      0.00      0.00         0\n",
      "          18       0.00      0.00      0.00         0\n",
      "          19       0.00      0.00      0.00         0\n",
      "          20       0.00      0.00      0.00         0\n",
      "          21       0.00      0.00      0.00         0\n",
      "          22       0.00      0.00      0.00         0\n",
      "          23       0.00      0.00      0.00         0\n",
      "          24       0.00      0.00      0.00         0\n",
      "          25       0.00      0.00      0.00         0\n",
      "          26       0.58      0.09      0.16        78\n",
      "          27       0.77      0.28      0.41       159\n",
      "          28       0.60      0.08      0.14        39\n",
      "          29       0.73      0.26      0.38      1810\n",
      "          30       0.00      0.00      0.00         9\n",
      "          31       0.69      0.23      0.35      2148\n",
      "          32       0.47      0.15      0.23       985\n",
      "          33       0.50      0.19      0.28        21\n",
      "          34       0.69      0.15      0.24        61\n",
      "          35       0.46      0.10      0.16        60\n",
      "          36       0.50      0.05      0.10       111\n",
      "          37       0.66      0.19      0.29      1878\n",
      "          38       0.77      0.22      0.34      1799\n",
      "          39       0.81      0.21      0.34        80\n",
      "          40       0.54      0.09      0.15       558\n",
      "          41       0.14      0.02      0.03        52\n",
      "          42       0.79      0.13      0.23       203\n",
      "          43       0.77      0.29      0.42      1105\n",
      "          44       0.78      0.25      0.38       489\n",
      "          45       0.00      0.00      0.00         1\n",
      "          46       0.86      0.37      0.51       401\n",
      "          47       0.71      0.20      0.31      1759\n",
      "          48       0.76      0.23      0.35       391\n",
      "          49       0.38      0.07      0.11        45\n",
      "          50       0.51      0.08      0.13       456\n",
      "          51       0.78      0.23      0.35        62\n",
      "          52       0.31      0.07      0.12        69\n",
      "          53       0.67      0.20      0.31        89\n",
      "          54       0.60      0.16      0.25      1620\n",
      "          55       0.82      0.28      0.42      1414\n",
      "          56       0.68      0.17      0.27       111\n",
      "          57       1.00      0.22      0.36         9\n",
      "          58       0.59      0.09      0.15       147\n",
      "          59       0.71      0.16      0.26       160\n",
      "          60       0.90      0.43      0.58        61\n",
      "          61       0.61      0.06      0.11       268\n",
      "          62       0.71      0.21      0.32      1435\n",
      "          63       0.81      0.25      0.38       224\n",
      "          64       0.20      0.03      0.06        31\n",
      "          65       0.59      0.17      0.27       186\n",
      "          66       0.53      0.15      0.24      1499\n",
      "          67       0.53      0.11      0.18       228\n",
      "          68       0.68      0.14      0.23      1424\n",
      "          69       0.74      0.17      0.28        99\n",
      "          70       0.68      0.39      0.50      4400\n",
      "          71       0.60      0.20      0.30      1689\n",
      "          72       0.72      0.22      0.33      1672\n",
      "          73       0.00      0.00      0.00        27\n",
      "          74       0.12      0.05      0.07        61\n",
      "          75       0.98      0.41      0.58       128\n",
      "          76       0.64      0.16      0.25      1525\n",
      "          77       0.78      0.60      0.68      9177\n",
      "          78       0.64      0.37      0.47      6664\n",
      "          79       0.79      0.69      0.74     10823\n",
      "\n",
      "   micro avg       0.73      0.38      0.50     60000\n",
      "   macro avg       0.41      0.13      0.19     60000\n",
      "weighted avg       0.71      0.38      0.47     60000\n",
      " samples avg       0.62      0.38      0.45     60000\n",
      "\n"
     ]
    }
   ],
   "source": [
    "from sklearn.metrics import classification_report\n",
    "print(classification_report(y_test, y_pred_test))"
   ]
  },
  {
   "cell_type": "code",
   "execution_count": null,
   "metadata": {
    "colab": {
     "base_uri": "https://localhost:8080/"
    },
    "id": "1f7jpfB8uuw7",
    "outputId": "0c0fa66d-1546-4140-a33b-ebe12d533cf1"
   },
   "outputs": [
    {
     "name": "stdout",
     "output_type": "stream",
     "text": [
      "actuals\n",
      "[('Aries', 'Fashion', 'male'), ('Cancer', 'Student', 'male'), ('Sagittarius', 'indUnk', 'male'), ('Banking', 'Sagittarius', 'male'), ('Aries', 'Student', 'male')]\n",
      "\n",
      "predicted\n",
      "[('male',), ('Gemini', 'Student', 'female'), ('male',), ('male',), ('Student', 'male')]\n"
     ]
    }
   ],
   "source": [
    "print(\"actuals\")\n",
    "print(mlb.inverse_transform(y_test)[0:5])\n",
    "print(\"\")\n",
    "print(\"predicted\")\n",
    "print(mlb.inverse_transform(y_pred_test)[0:5])"
   ]
  },
  {
   "cell_type": "markdown",
   "metadata": {
    "id": "3_1EUmcpSfvv"
   },
   "source": [
    "working with **TFIDF** "
   ]
  },
  {
   "cell_type": "code",
   "execution_count": null,
   "metadata": {
    "id": "i18ZDz6kVIJ4"
   },
   "outputs": [],
   "source": [
    "tfidf_vectorizer = TfidfVectorizer(ngram_range=(1,2),max_df=0.9,min_df=5 )\n",
    "tfidf_vectorizer.fit(X)\n",
    "X_tf = tfidf_vectorizer.transform(X)"
   ]
  },
  {
   "cell_type": "code",
   "execution_count": null,
   "metadata": {
    "colab": {
     "base_uri": "https://localhost:8080/"
    },
    "id": "d7SWm7hMXArS",
    "outputId": "a7dc167a-688d-4706-9bdb-8985a5f30222"
   },
   "outputs": [
    {
     "data": {
      "text/plain": [
       "<1x298244 sparse matrix of type '<class 'numpy.float64'>'\n",
       "\twith 17 stored elements in Compressed Sparse Row format>"
      ]
     },
     "execution_count": 66,
     "metadata": {},
     "output_type": "execute_result"
    }
   ],
   "source": [
    "X_tf[0]"
   ]
  },
  {
   "cell_type": "code",
   "execution_count": null,
   "metadata": {
    "colab": {
     "base_uri": "https://localhost:8080/"
    },
    "id": "fEwbN28eXH8H",
    "outputId": "e4cbb986-1948-41e2-f559-4d4cb62478f2"
   },
   "outputs": [
    {
     "data": {
      "text/plain": [
       "['aa',\n",
       " 'aa meeting',\n",
       " 'aaa',\n",
       " 'aaaaaah',\n",
       " 'aaaaah',\n",
       " 'aaaaahhhhh',\n",
       " 'aaaah',\n",
       " 'aaaahhh',\n",
       " 'aaaand',\n",
       " 'aaah']"
      ]
     },
     "execution_count": 67,
     "metadata": {},
     "output_type": "execute_result"
    }
   ],
   "source": [
    "tfidf_vectorizer.get_feature_names()[0:10]"
   ]
  },
  {
   "cell_type": "code",
   "execution_count": null,
   "metadata": {
    "colab": {
     "base_uri": "https://localhost:8080/"
    },
    "id": "_z-izCwPXLIK",
    "outputId": "5be72920-5442-45a8-9853-d8665ab3808a"
   },
   "outputs": [
    {
     "data": {
      "text/plain": [
       "{'13': 1,\n",
       " '14': 1,\n",
       " '15': 1,\n",
       " '16': 1,\n",
       " '17': 1,\n",
       " '23': 1,\n",
       " '24': 1,\n",
       " '25': 1,\n",
       " '26': 1,\n",
       " '27': 1,\n",
       " '33': 1,\n",
       " '34': 1,\n",
       " '35': 1,\n",
       " '36': 1,\n",
       " '37': 1,\n",
       " '38': 1,\n",
       " '39': 1,\n",
       " '40': 1,\n",
       " '41': 1,\n",
       " '42': 1,\n",
       " '43': 1,\n",
       " '44': 1,\n",
       " '45': 1,\n",
       " '46': 1,\n",
       " '47': 1,\n",
       " '48': 1,\n",
       " 'Accounting': 409,\n",
       " 'Advertising': 778,\n",
       " 'Agriculture': 168,\n",
       " 'Aquarius': 9118,\n",
       " 'Architecture': 80,\n",
       " 'Aries': 10609,\n",
       " 'Arts': 5029,\n",
       " 'Automotive': 124,\n",
       " 'Banking': 344,\n",
       " 'Biotech': 324,\n",
       " 'BusinessServices': 620,\n",
       " 'Cancer': 9147,\n",
       " 'Capricorn': 8714,\n",
       " 'Chemicals': 305,\n",
       " 'Communications-Media': 2811,\n",
       " 'Construction': 250,\n",
       " 'Consulting': 937,\n",
       " 'Education': 5545,\n",
       " 'Engineering': 2317,\n",
       " 'Environment': 6,\n",
       " 'Fashion': 1898,\n",
       " 'Gemini': 8921,\n",
       " 'Government': 2054,\n",
       " 'HumanResources': 209,\n",
       " 'Internet': 2231,\n",
       " 'InvestmentBanking': 244,\n",
       " 'Law': 360,\n",
       " 'LawEnforcement-Security': 367,\n",
       " 'Leo': 8348,\n",
       " 'Libra': 7290,\n",
       " 'Manufacturing': 542,\n",
       " 'Maritime': 59,\n",
       " 'Marketing': 725,\n",
       " 'Military': 790,\n",
       " 'Museums-Libraries': 308,\n",
       " 'Non-Profit': 1377,\n",
       " 'Pisces': 7452,\n",
       " 'Publishing': 1071,\n",
       " 'RealEstate': 149,\n",
       " 'Religion': 1093,\n",
       " 'Sagittarius': 7336,\n",
       " 'Science': 1086,\n",
       " 'Scorpio': 7072,\n",
       " 'Sports-Recreation': 406,\n",
       " 'Student': 22614,\n",
       " 'Taurus': 8541,\n",
       " 'Technology': 8442,\n",
       " 'Telecommunications': 162,\n",
       " 'Tourism': 253,\n",
       " 'Transportation': 610,\n",
       " 'Virgo': 7452,\n",
       " 'female': 46528,\n",
       " 'indUnk': 32903,\n",
       " 'male': 53472}"
      ]
     },
     "execution_count": 68,
     "metadata": {},
     "output_type": "execute_result"
    }
   ],
   "source": [
    "label_counts=dict()\n",
    "\n",
    "for labels in trainData.labels.values:\n",
    "     for label in labels:\n",
    "        if label in label_counts:\n",
    "            label_counts[str(label)]+=1\n",
    "        else:\n",
    "            label_counts[str(label)]=1\n",
    "\n",
    "\n",
    "label_counts"
   ]
  },
  {
   "cell_type": "code",
   "execution_count": null,
   "metadata": {
    "id": "m3zthG7nXUx0"
   },
   "outputs": [],
   "source": [
    "from sklearn.preprocessing import MultiLabelBinarizer \n",
    "mlb = MultiLabelBinarizer(classes=sorted(label_counts.keys()))\n",
    "y_mlb = mlb.fit_transform(y)"
   ]
  },
  {
   "cell_type": "code",
   "execution_count": null,
   "metadata": {
    "colab": {
     "base_uri": "https://localhost:8080/"
    },
    "id": "Bp-JM9-T1_pJ",
    "outputId": "65e482a2-3ff7-4153-fd8c-a09a64508cc4"
   },
   "outputs": [
    {
     "data": {
      "text/plain": [
       "array(['13', '14', '15', '16', '17', '23', '24', '25', '26', '27', '33',\n",
       "       '34', '35', '36', '37', '38', '39', '40', '41', '42', '43', '44',\n",
       "       '45', '46', '47', '48', 'Accounting', 'Advertising', 'Agriculture',\n",
       "       'Aquarius', 'Architecture', 'Aries', 'Arts', 'Automotive',\n",
       "       'Banking', 'Biotech', 'BusinessServices', 'Cancer', 'Capricorn',\n",
       "       'Chemicals', 'Communications-Media', 'Construction', 'Consulting',\n",
       "       'Education', 'Engineering', 'Environment', 'Fashion', 'Gemini',\n",
       "       'Government', 'HumanResources', 'Internet', 'InvestmentBanking',\n",
       "       'Law', 'LawEnforcement-Security', 'Leo', 'Libra', 'Manufacturing',\n",
       "       'Maritime', 'Marketing', 'Military', 'Museums-Libraries',\n",
       "       'Non-Profit', 'Pisces', 'Publishing', 'RealEstate', 'Religion',\n",
       "       'Sagittarius', 'Science', 'Scorpio', 'Sports-Recreation',\n",
       "       'Student', 'Taurus', 'Technology', 'Telecommunications', 'Tourism',\n",
       "       'Transportation', 'Virgo', 'female', 'indUnk', 'male'],\n",
       "      dtype=object)"
      ]
     },
     "execution_count": 70,
     "metadata": {},
     "output_type": "execute_result"
    }
   ],
   "source": [
    "mlb.classes_"
   ]
  },
  {
   "cell_type": "code",
   "execution_count": null,
   "metadata": {
    "colab": {
     "base_uri": "https://localhost:8080/"
    },
    "id": "oCbCGFAXXZl5",
    "outputId": "a89997fc-7af3-4e69-a436-fbcc7e9ff048"
   },
   "outputs": [
    {
     "name": "stdout",
     "output_type": "stream",
     "text": [
      "x_train shape:  (80000, 298244)\n",
      "y_train shape:  (80000, 80)\n",
      "x_test shape:  (20000, 298244)\n",
      "y_test shape:  (20000, 80)\n"
     ]
    }
   ],
   "source": [
    "from sklearn.model_selection import train_test_split\n",
    "# split X and y into training and testing sets\n",
    "X_train, X_test, y_train, y_test = train_test_split(X_tf,y_mlb, random_state=2,test_size = 0.2)\n",
    "\n",
    "print('x_train shape: ', X_train.shape)\n",
    "print('y_train shape: ', y_train.shape)\n",
    "print('x_test shape: ', X_test.shape)\n",
    "print('y_test shape: ', y_test.shape)"
   ]
  },
  {
   "cell_type": "markdown",
   "metadata": {
    "id": "yY16-eYdzncW"
   },
   "source": [
    "**Using Naive Bayes**"
   ]
  },
  {
   "cell_type": "code",
   "execution_count": null,
   "metadata": {
    "colab": {
     "base_uri": "https://localhost:8080/"
    },
    "id": "YMqzORPyYRcb",
    "outputId": "e18e8f1d-9687-4530-f531-b8e6b3d4986f"
   },
   "outputs": [
    {
     "name": "stdout",
     "output_type": "stream",
     "text": [
      "[[0 0 0 0 0 0 0 0 0 0 0 0 0 0 0 0 0 0 0 0 0 0 0 0 0 0 0 0 0 0 0 0 0 0 0 0\n",
      "  0 0 0 0 0 0 0 0 0 0 0 0 0 0 0 0 0 0 0 0 0 0 0 0 0 0 0 0 0 0 0 0 0 0 0 0\n",
      "  0 0 0 0 0 0 0 1]\n",
      " [0 0 0 0 0 0 0 0 0 0 0 0 0 0 0 0 0 0 0 0 0 0 0 0 0 0 0 0 0 0 0 0 0 0 0 0\n",
      "  0 0 0 0 0 0 0 0 0 0 0 0 0 0 0 0 0 0 0 0 0 0 0 0 0 0 0 0 0 0 0 0 0 0 0 0\n",
      "  0 0 0 0 0 1 0 0]\n",
      " [0 0 0 0 0 0 0 0 0 0 0 0 0 0 0 0 0 0 0 0 0 0 0 0 0 0 0 0 0 0 0 0 0 0 0 0\n",
      "  0 0 0 0 0 0 0 0 0 0 0 0 0 0 0 0 0 0 0 0 0 0 0 0 0 0 0 0 0 0 0 0 0 0 0 0\n",
      "  0 0 0 0 0 0 0 1]\n",
      " [0 0 0 0 0 0 0 0 0 0 0 0 0 0 0 0 0 0 0 0 0 0 0 0 0 0 0 0 0 0 0 0 0 0 0 0\n",
      "  0 0 0 0 0 0 0 0 0 0 0 0 0 0 0 0 0 0 0 0 0 0 0 0 0 0 0 0 0 0 0 0 0 0 0 0\n",
      "  0 0 0 0 0 0 0 1]\n",
      " [0 0 0 0 0 0 0 0 0 0 0 0 0 0 0 0 0 0 0 0 0 0 0 0 0 0 0 0 0 0 0 0 0 0 0 0\n",
      "  0 0 0 0 0 0 0 0 0 0 0 0 0 0 0 0 0 0 0 0 0 0 0 0 0 0 0 0 0 0 0 0 0 0 0 0\n",
      "  0 0 0 0 0 1 0 0]]\n"
     ]
    }
   ],
   "source": [
    "import warnings # to ignore warnings\n",
    "warnings.filterwarnings('ignore')\n",
    "\n",
    "from sklearn.multiclass import OneVsRestClassifier\n",
    "from sklearn.naive_bayes import MultinomialNB\n",
    "\n",
    "nb = MultinomialNB(alpha=1.0)\n",
    "model1 = OneVsRestClassifier(nb)\n",
    "model1.fit(X_train, y_train)\n",
    "y_pred_test = model1.predict(X_test)\n",
    "print(y_pred_test[0:5])"
   ]
  },
  {
   "cell_type": "code",
   "execution_count": null,
   "metadata": {
    "colab": {
     "base_uri": "https://localhost:8080/"
    },
    "id": "gNwLU4AsZpWk",
    "outputId": "d9dc423d-e0cc-4418-92c1-c4fa9facbf72"
   },
   "outputs": [
    {
     "name": "stdout",
     "output_type": "stream",
     "text": [
      "              precision    recall  f1-score   support\n",
      "\n",
      "           0       0.00      0.00      0.00         0\n",
      "           1       0.00      0.00      0.00         0\n",
      "           2       0.00      0.00      0.00         0\n",
      "           3       0.00      0.00      0.00         0\n",
      "           4       0.00      0.00      0.00         0\n",
      "           5       0.00      0.00      0.00         0\n",
      "           6       0.00      0.00      0.00         0\n",
      "           7       0.00      0.00      0.00         0\n",
      "           8       0.00      0.00      0.00         0\n",
      "           9       0.00      0.00      0.00         0\n",
      "          10       0.00      0.00      0.00         0\n",
      "          11       0.00      0.00      0.00         0\n",
      "          12       0.00      0.00      0.00         0\n",
      "          13       0.00      0.00      0.00         0\n",
      "          14       0.00      0.00      0.00         0\n",
      "          15       0.00      0.00      0.00         0\n",
      "          16       0.00      0.00      0.00         0\n",
      "          17       0.00      0.00      0.00         0\n",
      "          18       0.00      0.00      0.00         0\n",
      "          19       0.00      0.00      0.00         0\n",
      "          20       0.00      0.00      0.00         0\n",
      "          21       0.00      0.00      0.00         0\n",
      "          22       0.00      0.00      0.00         0\n",
      "          23       0.00      0.00      0.00         0\n",
      "          24       0.00      0.00      0.00         0\n",
      "          25       0.00      0.00      0.00         0\n",
      "          26       0.00      0.00      0.00        78\n",
      "          27       1.00      0.06      0.11       159\n",
      "          28       0.00      0.00      0.00        39\n",
      "          29       1.00      0.01      0.01      1810\n",
      "          30       0.00      0.00      0.00         9\n",
      "          31       1.00      0.02      0.05      2148\n",
      "          32       0.82      0.01      0.03       985\n",
      "          33       0.00      0.00      0.00        21\n",
      "          34       0.00      0.00      0.00        61\n",
      "          35       0.00      0.00      0.00        60\n",
      "          36       0.00      0.00      0.00       111\n",
      "          37       0.90      0.02      0.05      1878\n",
      "          38       1.00      0.00      0.00      1799\n",
      "          39       0.00      0.00      0.00        80\n",
      "          40       0.00      0.00      0.00       558\n",
      "          41       0.00      0.00      0.00        52\n",
      "          42       0.00      0.00      0.00       203\n",
      "          43       1.00      0.01      0.02      1105\n",
      "          44       0.00      0.00      0.00       489\n",
      "          45       0.00      0.00      0.00         1\n",
      "          46       0.00      0.00      0.00       401\n",
      "          47       1.00      0.02      0.04      1759\n",
      "          48       0.00      0.00      0.00       391\n",
      "          49       0.00      0.00      0.00        45\n",
      "          50       0.00      0.00      0.00       456\n",
      "          51       0.00      0.00      0.00        62\n",
      "          52       0.00      0.00      0.00        69\n",
      "          53       0.00      0.00      0.00        89\n",
      "          54       1.00      0.00      0.00      1620\n",
      "          55       1.00      0.01      0.03      1414\n",
      "          56       0.00      0.00      0.00       111\n",
      "          57       0.00      0.00      0.00         9\n",
      "          58       0.00      0.00      0.00       147\n",
      "          59       0.00      0.00      0.00       160\n",
      "          60       0.00      0.00      0.00        61\n",
      "          61       0.00      0.00      0.00       268\n",
      "          62       1.00      0.04      0.08      1435\n",
      "          63       0.00      0.00      0.00       224\n",
      "          64       0.00      0.00      0.00        31\n",
      "          65       0.00      0.00      0.00       186\n",
      "          66       0.40      0.00      0.00      1499\n",
      "          67       0.00      0.00      0.00       228\n",
      "          68       1.00      0.00      0.01      1424\n",
      "          69       0.00      0.00      0.00        99\n",
      "          70       0.89      0.05      0.09      4400\n",
      "          71       1.00      0.00      0.01      1689\n",
      "          72       1.00      0.01      0.01      1672\n",
      "          73       0.00      0.00      0.00        27\n",
      "          74       0.00      0.00      0.00        61\n",
      "          75       1.00      0.25      0.40       128\n",
      "          76       1.00      0.00      0.00      1525\n",
      "          77       0.71      0.70      0.71      9177\n",
      "          78       0.93      0.04      0.08      6664\n",
      "          79       0.75      0.76      0.76     10823\n",
      "\n",
      "   micro avg       0.74      0.26      0.38     60000\n",
      "   macro avg       0.24      0.03      0.03     60000\n",
      "weighted avg       0.79      0.26      0.27     60000\n",
      " samples avg       0.73      0.26      0.38     60000\n",
      "\n"
     ]
    }
   ],
   "source": [
    "from sklearn.metrics import classification_report\n",
    "print(classification_report(y_test, y_pred_test))"
   ]
  },
  {
   "cell_type": "code",
   "execution_count": null,
   "metadata": {
    "colab": {
     "base_uri": "https://localhost:8080/"
    },
    "id": "80dTDNKhZuX0",
    "outputId": "83fb1cc1-f4f8-4c5b-ae57-6d2d28139c85"
   },
   "outputs": [
    {
     "name": "stdout",
     "output_type": "stream",
     "text": [
      " accuracy score :  0.0111\n",
      " f1 score :  0.38370899739116454\n",
      " recall_score :  0.25861666666666666\n",
      " precision_score :  0.7431869342401456\n"
     ]
    }
   ],
   "source": [
    "print_eval_scores()"
   ]
  },
  {
   "cell_type": "markdown",
   "metadata": {
    "id": "tRsQvzckv7lw"
   },
   "source": [
    "Naive Bayes performed very poor. Got very less accuracy 1%."
   ]
  },
  {
   "cell_type": "code",
   "execution_count": null,
   "metadata": {
    "colab": {
     "base_uri": "https://localhost:8080/"
    },
    "id": "TDduETnc7Yqi",
    "outputId": "2904497a-6a73-4c4c-8bed-a157608ffdeb"
   },
   "outputs": [
    {
     "name": "stdout",
     "output_type": "stream",
     "text": [
      "actuals : ('Capricorn', 'Student', 'female')\n",
      "predicted : ('male',)\n",
      "\n",
      "actuals : ('Advertising', 'Cancer', 'male')\n",
      "predicted : ('Advertising', 'Cancer', 'male')\n",
      "\n",
      "actuals : ('Cancer', 'female', 'indUnk')\n",
      "predicted : ('male',)\n",
      "\n",
      "actuals : ('Pisces', 'female', 'indUnk')\n",
      "predicted : ('female',)\n",
      "\n",
      "actuals : ('Libra', 'Publishing', 'male')\n",
      "predicted : ('male',)\n",
      "\n"
     ]
    }
   ],
   "source": [
    "num_list = random.sample(range(len(y_test)), 5)\n",
    "\n",
    "for i in num_list:\n",
    "  print(\"actuals :\" , mlb.inverse_transform(y_test)[i])\n",
    "  print(\"predicted :\", mlb.inverse_transform(y_pred_test)[i])\n",
    "  print()"
   ]
  },
  {
   "cell_type": "markdown",
   "metadata": {
    "id": "7pYEqqNUwPB4"
   },
   "source": [
    "We got one lucky prediction :D Identified all correctly."
   ]
  },
  {
   "cell_type": "markdown",
   "metadata": {
    "id": "j9ZvnJVqzxk5"
   },
   "source": [
    "***Using LogisticRegression***"
   ]
  },
  {
   "cell_type": "code",
   "execution_count": null,
   "metadata": {
    "colab": {
     "base_uri": "https://localhost:8080/"
    },
    "id": "mN4Tl2ZeXhJd",
    "outputId": "b692d8d9-5cfc-4aa4-bdf7-4d2527a3c8ac"
   },
   "outputs": [
    {
     "name": "stdout",
     "output_type": "stream",
     "text": [
      "[[0 0 0 0 0 0 0 0 0 0 0 0 0 0 0 0 0 0 0 0 0 0 0 0 0 0 0 0 0 0 0 0 0 0 0 0\n",
      "  0 0 0 0 0 0 0 0 0 0 0 0 0 0 0 0 0 0 0 0 0 0 0 0 0 0 0 0 0 0 0 0 0 0 0 0\n",
      "  0 0 0 0 0 0 0 1]\n",
      " [0 0 0 0 0 0 0 0 0 0 0 0 0 0 0 0 0 0 0 0 0 0 0 0 0 0 0 0 0 0 0 0 0 0 0 0\n",
      "  0 0 0 0 0 0 0 0 0 0 0 0 0 0 0 0 0 0 0 0 0 0 0 0 0 0 0 0 0 0 0 0 0 0 0 0\n",
      "  0 0 0 0 0 0 0 0]\n",
      " [0 0 0 0 0 0 0 0 0 0 0 0 0 0 0 0 0 0 0 0 0 0 0 0 0 0 0 0 0 0 0 0 0 0 0 0\n",
      "  0 0 0 0 0 0 0 0 0 0 0 0 0 0 0 0 0 0 0 0 0 0 0 0 0 0 0 0 0 0 0 0 0 0 0 0\n",
      "  0 0 0 0 0 0 0 1]\n",
      " [0 0 0 0 0 0 0 0 0 0 0 0 0 0 0 0 0 0 0 0 0 0 0 0 0 0 0 0 0 0 0 0 0 0 0 0\n",
      "  0 0 0 0 0 0 0 0 0 0 0 0 0 0 0 0 0 0 0 0 0 0 0 0 0 0 0 0 0 0 0 0 0 0 0 0\n",
      "  0 0 0 0 0 0 0 1]\n",
      " [0 0 0 0 0 0 0 0 0 0 0 0 0 0 0 0 0 0 0 0 0 0 0 0 0 0 0 0 0 0 0 0 0 0 0 0\n",
      "  0 0 0 0 0 0 0 0 0 0 0 0 0 0 0 0 0 0 0 0 0 0 0 0 0 0 0 0 0 0 0 0 0 0 0 0\n",
      "  0 0 0 0 0 0 0 1]]\n"
     ]
    }
   ],
   "source": [
    "import warnings # to ignore warnings\n",
    "warnings.filterwarnings('ignore')\n",
    "\n",
    "from sklearn.multiclass import OneVsRestClassifier\n",
    "from sklearn.linear_model import LogisticRegression\n",
    "\n",
    "lr = LogisticRegression(solver='lbfgs', multi_class='ovr')\n",
    "model = OneVsRestClassifier(lr)\n",
    "\n",
    "model.fit(X_train, y_train)\n",
    "\n",
    "y_pred_test = model.predict(X_test)\n",
    "print(y_pred_test[0:5])"
   ]
  },
  {
   "cell_type": "code",
   "execution_count": null,
   "metadata": {
    "colab": {
     "base_uri": "https://localhost:8080/"
    },
    "id": "nqHYO3vFoty6",
    "outputId": "1e78a810-429c-4b5a-935b-eefbb2116c27"
   },
   "outputs": [
    {
     "name": "stdout",
     "output_type": "stream",
     "text": [
      "              precision    recall  f1-score   support\n",
      "\n",
      "           0       0.00      0.00      0.00         0\n",
      "           1       0.00      0.00      0.00         0\n",
      "           2       0.00      0.00      0.00         0\n",
      "           3       0.00      0.00      0.00         0\n",
      "           4       0.00      0.00      0.00         0\n",
      "           5       0.00      0.00      0.00         0\n",
      "           6       0.00      0.00      0.00         0\n",
      "           7       0.00      0.00      0.00         0\n",
      "           8       0.00      0.00      0.00         0\n",
      "           9       0.00      0.00      0.00         0\n",
      "          10       0.00      0.00      0.00         0\n",
      "          11       0.00      0.00      0.00         0\n",
      "          12       0.00      0.00      0.00         0\n",
      "          13       0.00      0.00      0.00         0\n",
      "          14       0.00      0.00      0.00         0\n",
      "          15       0.00      0.00      0.00         0\n",
      "          16       0.00      0.00      0.00         0\n",
      "          17       0.00      0.00      0.00         0\n",
      "          18       0.00      0.00      0.00         0\n",
      "          19       0.00      0.00      0.00         0\n",
      "          20       0.00      0.00      0.00         0\n",
      "          21       0.00      0.00      0.00         0\n",
      "          22       0.00      0.00      0.00         0\n",
      "          23       0.00      0.00      0.00         0\n",
      "          24       0.00      0.00      0.00         0\n",
      "          25       0.00      0.00      0.00         0\n",
      "          26       0.00      0.00      0.00        78\n",
      "          27       1.00      0.04      0.08       159\n",
      "          28       0.00      0.00      0.00        39\n",
      "          29       1.00      0.06      0.12      1810\n",
      "          30       0.00      0.00      0.00         9\n",
      "          31       0.99      0.07      0.12      2148\n",
      "          32       0.83      0.01      0.02       985\n",
      "          33       0.00      0.00      0.00        21\n",
      "          34       0.00      0.00      0.00        61\n",
      "          35       0.00      0.00      0.00        60\n",
      "          36       0.00      0.00      0.00       111\n",
      "          37       1.00      0.03      0.06      1878\n",
      "          38       1.00      0.02      0.05      1799\n",
      "          39       0.00      0.00      0.00        80\n",
      "          40       0.00      0.00      0.00       558\n",
      "          41       0.00      0.00      0.00        52\n",
      "          42       0.00      0.00      0.00       203\n",
      "          43       0.98      0.10      0.18      1105\n",
      "          44       1.00      0.03      0.06       489\n",
      "          45       0.00      0.00      0.00         1\n",
      "          46       0.97      0.09      0.16       401\n",
      "          47       1.00      0.04      0.07      1759\n",
      "          48       1.00      0.04      0.08       391\n",
      "          49       0.00      0.00      0.00        45\n",
      "          50       1.00      0.00      0.01       456\n",
      "          51       0.00      0.00      0.00        62\n",
      "          52       0.00      0.00      0.00        69\n",
      "          53       1.00      0.01      0.02        89\n",
      "          54       0.96      0.01      0.03      1620\n",
      "          55       1.00      0.05      0.09      1414\n",
      "          56       1.00      0.01      0.02       111\n",
      "          57       0.00      0.00      0.00         9\n",
      "          58       0.00      0.00      0.00       147\n",
      "          59       0.00      0.00      0.00       160\n",
      "          60       1.00      0.05      0.09        61\n",
      "          61       0.00      0.00      0.00       268\n",
      "          62       0.96      0.08      0.14      1435\n",
      "          63       0.50      0.01      0.03       224\n",
      "          64       0.00      0.00      0.00        31\n",
      "          65       1.00      0.01      0.01       186\n",
      "          66       0.91      0.02      0.04      1499\n",
      "          67       0.67      0.01      0.02       228\n",
      "          68       1.00      0.02      0.04      1424\n",
      "          69       0.00      0.00      0.00        99\n",
      "          70       0.87      0.13      0.23      4400\n",
      "          71       0.96      0.03      0.05      1689\n",
      "          72       0.94      0.05      0.09      1672\n",
      "          73       0.00      0.00      0.00        27\n",
      "          74       0.00      0.00      0.00        61\n",
      "          75       1.00      0.29      0.45       128\n",
      "          76       1.00      0.01      0.02      1525\n",
      "          77       0.84      0.48      0.61      9177\n",
      "          78       0.92      0.09      0.17      6664\n",
      "          79       0.83      0.59      0.69     10823\n",
      "\n",
      "   micro avg       0.85      0.22      0.34     60000\n",
      "   macro avg       0.36      0.03      0.05     60000\n",
      "weighted avg       0.87      0.22      0.29     60000\n",
      " samples avg       0.54      0.22      0.30     60000\n",
      "\n"
     ]
    }
   ],
   "source": [
    "print(classification_report(y_test, y_pred_test))"
   ]
  },
  {
   "cell_type": "code",
   "execution_count": null,
   "metadata": {
    "colab": {
     "base_uri": "https://localhost:8080/"
    },
    "id": "2aJftkNvow0x",
    "outputId": "76fc8b8e-0165-49a4-c69f-70901fc45691"
   },
   "outputs": [
    {
     "name": "stdout",
     "output_type": "stream",
     "text": [
      " accuracy score :  0.03135\n",
      " f1 score :  0.34489809466905663\n",
      " recall_score :  0.21646666666666667\n",
      " precision_score :  0.8480574600065296\n"
     ]
    }
   ],
   "source": [
    "print_eval_scores()"
   ]
  },
  {
   "cell_type": "markdown",
   "metadata": {
    "id": "R9B4u5UYwc9Q"
   },
   "source": [
    "Accuracy has been increased with Logistic regression and TF-IDF.\n",
    "Percentage of postive cases we catch (Recall # 21.6%) is very low and correct positive preditions(F1 score# 34.5) are also very less"
   ]
  },
  {
   "cell_type": "code",
   "execution_count": null,
   "metadata": {
    "colab": {
     "base_uri": "https://localhost:8080/"
    },
    "id": "K9eW50p4pLlz",
    "outputId": "2b8fa327-a026-40a1-f2a1-dd74cd3cdfc0"
   },
   "outputs": [
    {
     "name": "stdout",
     "output_type": "stream",
     "text": [
      "actuals : ('Libra', 'female', 'indUnk')\n",
      "predicted : ()\n",
      "\n",
      "actuals : ('Manufacturing', 'Virgo', 'male')\n",
      "predicted : ('male',)\n",
      "\n",
      "actuals : ('Taurus', 'female', 'indUnk')\n",
      "predicted : ('male',)\n",
      "\n",
      "actuals : ('Aquarius', 'Marketing', 'female')\n",
      "predicted : ('female',)\n",
      "\n",
      "actuals : ('Sagittarius', 'female', 'indUnk')\n",
      "predicted : ('female',)\n",
      "\n"
     ]
    }
   ],
   "source": [
    "num_list = random.sample(range(len(y_test)), 5)\n",
    "\n",
    "for i in num_list:\n",
    "  print(\"actuals :\" , mlb.inverse_transform(y_test)[i])\n",
    "  print(\"predicted :\", mlb.inverse_transform(y_pred_test)[i])\n",
    "  print()"
   ]
  },
  {
   "cell_type": "markdown",
   "metadata": {
    "id": "IVgiliy3zb2X"
   },
   "source": [
    "**Using SVC**"
   ]
  },
  {
   "cell_type": "code",
   "execution_count": null,
   "metadata": {
    "colab": {
     "background_save": true
    },
    "id": "M2HVGm1fsiJM",
    "outputId": "52df887f-e268-45b0-a8d6-bcbbd21b5485"
   },
   "outputs": [
    {
     "data": {
      "text/plain": [
       "OneVsRestClassifier(estimator=LinearSVC(C=1.0, class_weight=None, dual=False,\n",
       "                                        fit_intercept=True, intercept_scaling=1,\n",
       "                                        loss='squared_hinge', max_iter=1000,\n",
       "                                        multi_class='ovr', penalty='l1',\n",
       "                                        random_state=None, tol=0.0001,\n",
       "                                        verbose=0),\n",
       "                    n_jobs=None)"
      ]
     },
     "execution_count": null,
     "metadata": {},
     "output_type": "execute_result"
    }
   ],
   "source": [
    "from sklearn.svm import LinearSVC\n",
    "svc = LinearSVC(penalty='l1', dual=False, loss='squared_hinge')\n",
    "model2 = OneVsRestClassifier(svc)\n",
    "model2.fit(X_train, y_train)"
   ]
  },
  {
   "cell_type": "code",
   "execution_count": null,
   "metadata": {
    "colab": {
     "background_save": true
    },
    "id": "ky-k9r3QtCc2",
    "outputId": "793e3499-be13-4801-a04c-9c35feac762e"
   },
   "outputs": [
    {
     "name": "stdout",
     "output_type": "stream",
     "text": [
      "[[0 0 0 0 0 0 0 0 0 0 0 0 0 0 0 0 0 0 0 0 0 0 0 0 0 0 0 0 0 0 0 0 0 0 0 0\n",
      "  0 0 0 0 0 0 0 0 0 0 0 0 0 0 0 0 0 0 0 0 0 0 0 0 0 0 0 0 0 0 0 0 0 0 0 0\n",
      "  0 0 0 0 0 0 0 1]\n",
      " [0 0 0 0 0 0 0 0 0 0 0 0 0 0 0 0 0 0 0 0 0 0 0 0 0 0 0 0 0 0 0 0 0 0 0 0\n",
      "  0 0 0 0 0 0 0 0 0 0 0 0 0 0 0 0 0 0 0 0 0 0 0 0 0 0 0 0 0 0 0 0 0 0 0 0\n",
      "  0 0 0 0 0 0 0 0]\n",
      " [0 0 0 0 0 0 0 0 0 0 0 0 0 0 0 0 0 0 0 0 0 0 0 0 0 0 0 0 0 0 0 0 0 0 0 0\n",
      "  0 0 0 0 0 0 0 0 0 0 0 0 0 0 0 0 0 0 0 0 0 0 0 0 0 0 0 0 0 0 0 0 0 0 0 0\n",
      "  0 0 0 0 0 0 0 1]\n",
      " [0 0 0 0 0 0 0 0 0 0 0 0 0 0 0 0 0 0 0 0 0 0 0 0 0 0 0 0 0 0 0 0 0 0 0 0\n",
      "  0 0 0 0 0 0 0 0 0 0 0 0 0 0 0 0 0 0 0 0 0 0 0 0 0 0 0 0 0 0 0 0 0 0 0 0\n",
      "  0 0 0 0 0 0 0 1]\n",
      " [0 0 0 0 0 0 0 0 0 0 0 0 0 0 0 0 0 0 0 0 0 0 0 0 0 0 0 0 0 0 0 0 0 0 0 0\n",
      "  0 0 0 0 0 0 0 0 0 0 0 0 0 0 0 0 0 0 0 0 0 0 0 0 0 0 0 0 0 0 0 0 0 0 0 0\n",
      "  0 0 0 0 0 0 0 1]]\n"
     ]
    }
   ],
   "source": [
    "y_pred_test = model.predict(X_test)\n",
    "print(y_pred_test[0:5])"
   ]
  },
  {
   "cell_type": "code",
   "execution_count": null,
   "metadata": {
    "colab": {
     "background_save": true
    },
    "id": "hHpD5lA-tDq_",
    "outputId": "e9e59780-7a91-438d-a5da-8e1a4163bd3c"
   },
   "outputs": [
    {
     "name": "stdout",
     "output_type": "stream",
     "text": [
      "              precision    recall  f1-score   support\n",
      "\n",
      "           0       0.00      0.00      0.00         0\n",
      "           1       0.00      0.00      0.00         0\n",
      "           2       0.00      0.00      0.00         0\n",
      "           3       0.00      0.00      0.00         0\n",
      "           4       0.00      0.00      0.00         0\n",
      "           5       0.00      0.00      0.00         0\n",
      "           6       0.00      0.00      0.00         0\n",
      "           7       0.00      0.00      0.00         0\n",
      "           8       0.00      0.00      0.00         0\n",
      "           9       0.00      0.00      0.00         0\n",
      "          10       0.00      0.00      0.00         0\n",
      "          11       0.00      0.00      0.00         0\n",
      "          12       0.00      0.00      0.00         0\n",
      "          13       0.00      0.00      0.00         0\n",
      "          14       0.00      0.00      0.00         0\n",
      "          15       0.00      0.00      0.00         0\n",
      "          16       0.00      0.00      0.00         0\n",
      "          17       0.00      0.00      0.00         0\n",
      "          18       0.00      0.00      0.00         0\n",
      "          19       0.00      0.00      0.00         0\n",
      "          20       0.00      0.00      0.00         0\n",
      "          21       0.00      0.00      0.00         0\n",
      "          22       0.00      0.00      0.00         0\n",
      "          23       0.00      0.00      0.00         0\n",
      "          24       0.00      0.00      0.00         0\n",
      "          25       0.00      0.00      0.00         0\n",
      "          26       0.00      0.00      0.00        78\n",
      "          27       1.00      0.04      0.08       159\n",
      "          28       0.00      0.00      0.00        39\n",
      "          29       1.00      0.06      0.12      1810\n",
      "          30       0.00      0.00      0.00         9\n",
      "          31       0.99      0.07      0.12      2148\n",
      "          32       0.83      0.01      0.02       985\n",
      "          33       0.00      0.00      0.00        21\n",
      "          34       0.00      0.00      0.00        61\n",
      "          35       0.00      0.00      0.00        60\n",
      "          36       0.00      0.00      0.00       111\n",
      "          37       1.00      0.03      0.06      1878\n",
      "          38       1.00      0.02      0.05      1799\n",
      "          39       0.00      0.00      0.00        80\n",
      "          40       0.00      0.00      0.00       558\n",
      "          41       0.00      0.00      0.00        52\n",
      "          42       0.00      0.00      0.00       203\n",
      "          43       0.98      0.10      0.18      1105\n",
      "          44       1.00      0.03      0.06       489\n",
      "          45       0.00      0.00      0.00         1\n",
      "          46       0.97      0.09      0.16       401\n",
      "          47       1.00      0.04      0.07      1759\n",
      "          48       1.00      0.04      0.08       391\n",
      "          49       0.00      0.00      0.00        45\n",
      "          50       1.00      0.00      0.01       456\n",
      "          51       0.00      0.00      0.00        62\n",
      "          52       0.00      0.00      0.00        69\n",
      "          53       1.00      0.01      0.02        89\n",
      "          54       0.96      0.01      0.03      1620\n",
      "          55       1.00      0.05      0.09      1414\n",
      "          56       1.00      0.01      0.02       111\n",
      "          57       0.00      0.00      0.00         9\n",
      "          58       0.00      0.00      0.00       147\n",
      "          59       0.00      0.00      0.00       160\n",
      "          60       1.00      0.05      0.09        61\n",
      "          61       0.00      0.00      0.00       268\n",
      "          62       0.96      0.08      0.14      1435\n",
      "          63       0.50      0.01      0.03       224\n",
      "          64       0.00      0.00      0.00        31\n",
      "          65       1.00      0.01      0.01       186\n",
      "          66       0.91      0.02      0.04      1499\n",
      "          67       0.67      0.01      0.02       228\n",
      "          68       1.00      0.02      0.04      1424\n",
      "          69       0.00      0.00      0.00        99\n",
      "          70       0.87      0.13      0.23      4400\n",
      "          71       0.96      0.03      0.05      1689\n",
      "          72       0.94      0.05      0.09      1672\n",
      "          73       0.00      0.00      0.00        27\n",
      "          74       0.00      0.00      0.00        61\n",
      "          75       1.00      0.29      0.45       128\n",
      "          76       1.00      0.01      0.02      1525\n",
      "          77       0.84      0.48      0.61      9177\n",
      "          78       0.92      0.09      0.17      6664\n",
      "          79       0.83      0.59      0.69     10823\n",
      "\n",
      "   micro avg       0.85      0.22      0.34     60000\n",
      "   macro avg       0.36      0.03      0.05     60000\n",
      "weighted avg       0.87      0.22      0.29     60000\n",
      " samples avg       0.54      0.22      0.30     60000\n",
      "\n"
     ]
    }
   ],
   "source": [
    "print(classification_report(y_test, y_pred_test))"
   ]
  },
  {
   "cell_type": "markdown",
   "metadata": {
    "id": "OU4JbsIP8uCU"
   },
   "source": [
    "average=micro says the function to compute f1 by considering total true positives, false negatives and false positives (no matter of the prediction for each label in the dataset)\n",
    "\n",
    "average=macro says the function to compute f1 for each label, and returns the average without considering the proportion for each label in the dataset.\n",
    "\n",
    "average=weighted says the function to compute f1 for each label, and returns the average considering the proportion for each label in the dataset.\n",
    "\n",
    "average=samples says the function to compute f1 for each instance, and returns the average. Use it for multilabel classification.\n",
    "\n",
    "Here are the evaluation scores for Micro average\n",
    "f1 score :  0.34\n",
    "recall_score :  0.21\n",
    "precision_score :  0.84\n",
    "\n",
    "Precision – What percent of your predictions were correct \n",
    "Recall – What percent of the positive cases did you catch \n",
    "F1 score – What percent of positive predictions were correct \n",
    "support is the number of occurence of the given class in your dataset\n",
    "\n",
    "For class 79, We have 83% predictions(Precision) correct and able to caught 59%(Recall) positive cases correctly and 69%(F1 Score) of postive predictions are correct\n",
    "\n",
    "Support numbers- For every 60000 occurences we have 10823 occurances for class 79.\n",
    "\n",
    "Overall accuracy is 31%"
   ]
  },
  {
   "cell_type": "code",
   "execution_count": null,
   "metadata": {
    "colab": {
     "background_save": true
    },
    "id": "MRP7m3jlFjpa",
    "outputId": "6d4e5705-9b98-4b4d-e442-6e55989f0539"
   },
   "outputs": [
    {
     "name": "stdout",
     "output_type": "stream",
     "text": [
      " accuracy score :  0.03135\n",
      " f1 score :  0.34489809466905663\n",
      " recall_score :  0.21646666666666667\n",
      " precision_score :  0.8480574600065296\n"
     ]
    }
   ],
   "source": [
    "#Micro average Evaluation \n",
    "print_eval_scores()"
   ]
  },
  {
   "cell_type": "markdown",
   "metadata": {
    "id": "LRD6GtusxSrm"
   },
   "source": [
    "SVC and LR - both worked very similar. Got similar evaluaiton scores"
   ]
  },
  {
   "cell_type": "code",
   "execution_count": null,
   "metadata": {
    "colab": {
     "base_uri": "https://localhost:8080/"
    },
    "id": "HYUtWq9XqDS6",
    "outputId": "3e32638a-b295-430f-def1-ed8b6b84bef9"
   },
   "outputs": [
    {
     "name": "stdout",
     "output_type": "stream",
     "text": [
      "actuals : ('Capricorn', 'female', 'indUnk')\n",
      "predicted : ('female',)\n",
      "\n",
      "actuals : ('Gemini', 'indUnk', 'male')\n",
      "predicted : ('male',)\n",
      "\n",
      "actuals : ('Capricorn', 'Engineering', 'male')\n",
      "predicted : ('male',)\n",
      "\n",
      "actuals : ('Sagittarius', 'female', 'indUnk')\n",
      "predicted : ('female', 'indUnk')\n",
      "\n",
      "actuals : ('Aquarius', 'female', 'indUnk')\n",
      "predicted : ('female',)\n",
      "\n"
     ]
    }
   ],
   "source": [
    "num_list = random.sample(range(len(y_test)), 5)\n",
    "\n",
    "for i in num_list:\n",
    "  print(\"actuals :\" , mlb.inverse_transform(y_test)[i])\n",
    "  print(\"predicted :\", mlb.inverse_transform(y_pred_test)[i])\n",
    "  print()"
   ]
  },
  {
   "cell_type": "markdown",
   "metadata": {
    "id": "-DpqNtDJISvr"
   },
   "source": [
    "# **PART 2**"
   ]
  },
  {
   "cell_type": "code",
   "execution_count": 4,
   "metadata": {
    "id": "LD0_rg8yIWxn"
   },
   "outputs": [],
   "source": [
    "import os\n",
    "os.chdir(\"/content/drive/MyDrive/AIML/LABS/NLP/Project2\")"
   ]
  },
  {
   "cell_type": "code",
   "execution_count": 5,
   "metadata": {
    "id": "cYTrJxzNcp6p"
   },
   "outputs": [],
   "source": [
    "data_file = open('GL Bot.json').read()\n",
    "intents = json.loads(data_file)"
   ]
  },
  {
   "cell_type": "code",
   "execution_count": null,
   "metadata": {
    "colab": {
     "base_uri": "https://localhost:8080/"
    },
    "id": "QwBAMN_rd9R7",
    "outputId": "4d7546de-93e5-4dc9-8511-539d7b01b47a"
   },
   "outputs": [
    {
     "data": {
      "text/plain": [
       "{'intents': [{'context_set': '',\n",
       "   'patterns': ['hi',\n",
       "    'how are you',\n",
       "    'is anyone there',\n",
       "    'hello',\n",
       "    'whats up',\n",
       "    'hey',\n",
       "    'yo',\n",
       "    'listen',\n",
       "    'please help me',\n",
       "    'i am learner from',\n",
       "    'i belong to',\n",
       "    'aiml batch',\n",
       "    'aifl batch',\n",
       "    'i am from',\n",
       "    'my pm is',\n",
       "    'blended',\n",
       "    'online',\n",
       "    'i am from',\n",
       "    'hey ya',\n",
       "    'talking to you for first time'],\n",
       "   'responses': ['Hello! how can i help you ?'],\n",
       "   'tag': 'Intro'},\n",
       "  {'context_set': '',\n",
       "   'patterns': ['thank you',\n",
       "    'thanks',\n",
       "    'cya',\n",
       "    'see you',\n",
       "    'later',\n",
       "    'see you later',\n",
       "    'goodbye',\n",
       "    'i am leaving',\n",
       "    'have a Good day',\n",
       "    'you helped me',\n",
       "    'thanks a lot',\n",
       "    'thanks a ton',\n",
       "    'you are the best',\n",
       "    'great help',\n",
       "    'too good',\n",
       "    'you are a good learning buddy'],\n",
       "   'responses': ['I hope I was able to assist you, Good Bye'],\n",
       "   'tag': 'Exit'},\n",
       "  {'context_set': '',\n",
       "   'patterns': ['olympus',\n",
       "    'explain me how olympus works',\n",
       "    'I am not able to understand olympus',\n",
       "    'olympus window not working',\n",
       "    'no access to olympus',\n",
       "    'unable to see link in olympus',\n",
       "    'no link visible on olympus',\n",
       "    'whom to contact for olympus',\n",
       "    'lot of problem with olympus',\n",
       "    'olypus is not a good tool',\n",
       "    'lot of problems with olympus',\n",
       "    'how to use olympus',\n",
       "    'teach me olympus'],\n",
       "   'responses': ['Link: Olympus wiki'],\n",
       "   'tag': 'Olympus'},\n",
       "  {'context_set': '',\n",
       "   'patterns': ['i am not able to understand svm',\n",
       "    'explain me how machine learning works',\n",
       "    'i am not able to understand naive bayes',\n",
       "    'i am not able to understand logistic regression',\n",
       "    'i am not able to understand ensemble techb=niques',\n",
       "    'i am not able to understand knn',\n",
       "    'i am not able to understand knn imputer',\n",
       "    'i am not able to understand cross validation',\n",
       "    'i am not able to understand boosting',\n",
       "    'i am not able to understand random forest',\n",
       "    'i am not able to understand ada boosting',\n",
       "    'i am not able to understand gradient boosting',\n",
       "    'machine learning',\n",
       "    'ML',\n",
       "    'SL',\n",
       "    'supervised learning',\n",
       "    'knn',\n",
       "    'logistic regression',\n",
       "    'regression',\n",
       "    'classification',\n",
       "    'naive bayes',\n",
       "    'nb',\n",
       "    'ensemble techniques',\n",
       "    'bagging',\n",
       "    'boosting',\n",
       "    'ada boosting',\n",
       "    'ada',\n",
       "    'gradient boosting',\n",
       "    'hyper parameters'],\n",
       "   'responses': ['Link: Machine Learning wiki '],\n",
       "   'tag': 'SL'},\n",
       "  {'context_set': '',\n",
       "   'patterns': ['what is deep learning',\n",
       "    'unable to understand deep learning',\n",
       "    'explain me how deep learning works',\n",
       "    'i am not able to understand deep learning',\n",
       "    'not able to understand neural nets',\n",
       "    'very diffult to understand neural nets',\n",
       "    'unable to understand neural nets',\n",
       "    'ann',\n",
       "    'artificial intelligence',\n",
       "    'artificial neural networks',\n",
       "    'weights',\n",
       "    'activation function',\n",
       "    'hidden layers',\n",
       "    'softmax',\n",
       "    'sigmoid',\n",
       "    'relu',\n",
       "    'otimizer',\n",
       "    'forward propagation',\n",
       "    'backward propagation',\n",
       "    'epochs',\n",
       "    'epoch',\n",
       "    'what is an epoch',\n",
       "    'adam',\n",
       "    'sgd'],\n",
       "   'responses': ['Link: Neural Nets wiki'],\n",
       "   'tag': 'NN'},\n",
       "  {'context_set': '',\n",
       "   'patterns': ['what is your name',\n",
       "    'who are you',\n",
       "    'name please',\n",
       "    'when are your hours of opertions',\n",
       "    'what are your working hours',\n",
       "    'hours of operation',\n",
       "    'working hours',\n",
       "    'hours'],\n",
       "   'responses': ['I am your virtual learning assistant'],\n",
       "   'tag': 'Bot'},\n",
       "  {'context_set': '',\n",
       "   'patterns': ['what the hell',\n",
       "    'bloody stupid bot',\n",
       "    'do you think you are very smart',\n",
       "    'screw you',\n",
       "    'i hate you',\n",
       "    'you are stupid',\n",
       "    'jerk',\n",
       "    'you are a joke',\n",
       "    'useless piece of shit'],\n",
       "   'responses': ['Please use respectful words'],\n",
       "   'tag': 'Profane'},\n",
       "  {'context_set': '',\n",
       "   'patterns': ['my problem is not solved',\n",
       "    'you did not help me',\n",
       "    'not a good solution',\n",
       "    'bad solution',\n",
       "    'not good solution',\n",
       "    'no help',\n",
       "    'wasted my time',\n",
       "    'useless bot',\n",
       "    'create a ticket'],\n",
       "   'responses': ['Tarnsferring the request to your PM'],\n",
       "   'tag': 'Ticket'}]}"
      ]
     },
     "execution_count": 98,
     "metadata": {},
     "output_type": "execute_result"
    }
   ],
   "source": [
    "intents"
   ]
  },
  {
   "cell_type": "code",
   "execution_count": null,
   "metadata": {
    "colab": {
     "base_uri": "https://localhost:8080/"
    },
    "id": "p9cfokgVcxTQ",
    "outputId": "7f8bab4b-215c-4e93-8b09-779281c956e9"
   },
   "outputs": [
    {
     "data": {
      "text/plain": [
       "['hi',\n",
       " 'how are you',\n",
       " 'is anyone there',\n",
       " 'hello',\n",
       " 'whats up',\n",
       " 'hey',\n",
       " 'yo',\n",
       " 'listen',\n",
       " 'please help me',\n",
       " 'i am learner from',\n",
       " 'i belong to',\n",
       " 'aiml batch',\n",
       " 'aifl batch',\n",
       " 'i am from',\n",
       " 'my pm is',\n",
       " 'blended',\n",
       " 'online',\n",
       " 'i am from',\n",
       " 'hey ya',\n",
       " 'talking to you for first time']"
      ]
     },
     "execution_count": 97,
     "metadata": {},
     "output_type": "execute_result"
    }
   ],
   "source": [
    "intents['intents'][0]['patterns']"
   ]
  },
  {
   "cell_type": "code",
   "execution_count": null,
   "metadata": {
    "colab": {
     "base_uri": "https://localhost:8080/",
     "height": 35
    },
    "id": "e-7ySTz3eC_9",
    "outputId": "e383dc0e-3ba6-4355-89c7-4df717c3ed52"
   },
   "outputs": [
    {
     "data": {
      "application/vnd.google.colaboratory.intrinsic+json": {
       "type": "string"
      },
      "text/plain": [
       "'Intro'"
      ]
     },
     "execution_count": 99,
     "metadata": {},
     "output_type": "execute_result"
    }
   ],
   "source": [
    "intents['intents'][0]['tag']"
   ]
  },
  {
   "cell_type": "code",
   "execution_count": null,
   "metadata": {
    "colab": {
     "base_uri": "https://localhost:8080/"
    },
    "id": "h8JUQozVeGlN",
    "outputId": "7ef99030-04f0-4a09-8d8a-f1792805be5d"
   },
   "outputs": [
    {
     "data": {
      "text/plain": [
       "['Hello! how can i help you ?']"
      ]
     },
     "execution_count": 101,
     "metadata": {},
     "output_type": "execute_result"
    }
   ],
   "source": [
    "intents['intents'][0]['responses']"
   ]
  },
  {
   "cell_type": "code",
   "execution_count": null,
   "metadata": {
    "colab": {
     "base_uri": "https://localhost:8080/"
    },
    "id": "IeWKB1FxkVqn",
    "outputId": "434cfad0-524e-456d-ba39-461f3a42f25c"
   },
   "outputs": [
    {
     "data": {
      "text/plain": [
       "['what is your name',\n",
       " 'who are you',\n",
       " 'name please',\n",
       " 'when are your hours of opertions',\n",
       " 'what are your working hours',\n",
       " 'hours of operation',\n",
       " 'working hours',\n",
       " 'hours']"
      ]
     },
     "execution_count": 103,
     "metadata": {},
     "output_type": "execute_result"
    }
   ],
   "source": [
    "intents['intents'][5]['patterns']"
   ]
  },
  {
   "cell_type": "code",
   "execution_count": null,
   "metadata": {
    "colab": {
     "base_uri": "https://localhost:8080/",
     "height": 35
    },
    "id": "y0pZqB0KkcTb",
    "outputId": "0b15ae46-6d7c-40ad-bd6c-d13ae647d805"
   },
   "outputs": [
    {
     "data": {
      "application/vnd.google.colaboratory.intrinsic+json": {
       "type": "string"
      },
      "text/plain": [
       "'Bot'"
      ]
     },
     "execution_count": 105,
     "metadata": {},
     "output_type": "execute_result"
    }
   ],
   "source": [
    "intents['intents'][5]['tag']"
   ]
  },
  {
   "cell_type": "code",
   "execution_count": null,
   "metadata": {
    "colab": {
     "base_uri": "https://localhost:8080/"
    },
    "id": "nBCBnkvnkie1",
    "outputId": "89aa2a5a-b04f-4f90-d1ac-bc291baaedd5"
   },
   "outputs": [
    {
     "data": {
      "text/plain": [
       "['I am your virtual learning assistant']"
      ]
     },
     "execution_count": 107,
     "metadata": {},
     "output_type": "execute_result"
    }
   ],
   "source": [
    "intents['intents'][5]['responses']"
   ]
  },
  {
   "cell_type": "code",
   "execution_count": 6,
   "metadata": {
    "id": "VcKA9EjsmDQY"
   },
   "outputs": [],
   "source": [
    "words = []\n",
    "documents = []\n",
    "classes = []\n",
    "\n",
    "for intent in intents['intents']:\n",
    "    for pattern in intent['patterns']:\n",
    "        #tokenize each word\n",
    "        w = nltk.word_tokenize(pattern)\n",
    "        words.extend(w)\n",
    "        #add documents in the corpus\n",
    "        documents.append((w, intent['tag']))\n",
    "        # add to our classes list\n",
    "        if intent['tag'] not in classes:\n",
    "            classes.append(intent['tag'])"
   ]
  },
  {
   "cell_type": "code",
   "execution_count": 7,
   "metadata": {
    "colab": {
     "base_uri": "https://localhost:8080/"
    },
    "id": "kndRZSbtm2_p",
    "outputId": "1c772426-6541-4b98-8949-5dd23d2bfffc"
   },
   "outputs": [
    {
     "name": "stdout",
     "output_type": "stream",
     "text": [
      "128 documents\n",
      "8 classes ['Bot', 'Exit', 'Intro', 'NN', 'Olympus', 'Profane', 'SL', 'Ticket']\n",
      "158 unique lemmatized words ['a', 'able', 'access', 'activation', 'ada', 'adam', 'aifl', 'aiml', 'am', 'an', 'ann', 'anyone', 'are', 'artificial', 'backward', 'bad', 'bagging', 'batch', 'bayes', 'belong', 'best', 'blended', 'bloody', 'boosting', 'bot', 'buddy', 'classification', 'contact', 'create', 'cross', 'cya', 'day', 'deep', 'did', 'diffult', 'do', 'ensemble', 'epoch', 'explain', 'first', 'for', 'forest', 'forward', 'from', 'function', 'good', 'goodbye', 'gradient', 'great', 'hate', 'have', 'hell', 'hello', 'help', 'helped', 'hey', 'hi', 'hidden', 'hour', 'how', 'hyper', 'i', 'imputer', 'in', 'intelligence', 'is', 'jerk', 'joke', 'knn', 'later', 'layer', 'learner', 'learning', 'leaving', 'link', 'listen', 'logistic', 'lot', 'machine', 'me', 'ml', 'my', 'naive', 'name', 'nb', 'net', 'network', 'neural', 'no', 'not', 'of', 'olympus', 'olypus', 'on', 'online', 'operation', 'opertions', 'otimizer', 'parameter', 'piece', 'please', 'pm', 'problem', 'propagation', 'random', 'regression', 'relu', 'screw', 'see', 'sgd', 'shit', 'sigmoid', 'sl', 'smart', 'softmax', 'solution', 'solved', 'stupid', 'supervised', 'svm', 'talking', 'teach', 'techb=niques', 'technique', 'thank', 'thanks', 'the', 'there', 'think', 'ticket', 'time', 'to', 'ton', 'too', 'tool', 'unable', 'understand', 'up', 'use', 'useless', 'validation', 'very', 'visible', 'wasted', 'weight', 'what', 'whats', 'when', 'who', 'whom', 'window', 'with', 'work', 'working', 'ya', 'yo', 'you', 'your']\n"
     ]
    }
   ],
   "source": [
    "# lemmatize, lower each word and remove duplicates\n",
    "\n",
    "wordnet_lemmatizer = WordNetLemmatizer()\n",
    "words = [wordnet_lemmatizer.lemmatize(w.lower()) for w in words]\n",
    "words = sorted(list(set(words)))\n",
    "# sort classes\n",
    "classes = sorted(list(set(classes)))\n",
    "# documents = combination between patterns and intents\n",
    "print (len(documents), \"documents\")\n",
    "# classes = intents\n",
    "print (len(classes), \"classes\", classes)\n",
    "# words = all words, vocabulary\n",
    "print (len(words), \"unique lemmatized words\", words)"
   ]
  },
  {
   "cell_type": "code",
   "execution_count": 8,
   "metadata": {
    "colab": {
     "base_uri": "https://localhost:8080/"
    },
    "id": "S9zsijM6sE86",
    "outputId": "90bb0bd8-eada-4fad-e443-da6589796650"
   },
   "outputs": [
    {
     "name": "stderr",
     "output_type": "stream",
     "text": [
      "/usr/local/lib/python3.7/dist-packages/ipykernel_launcher.py:18: VisibleDeprecationWarning: Creating an ndarray from ragged nested sequences (which is a list-or-tuple of lists-or-tuples-or ndarrays with different lengths or shapes) is deprecated. If you meant to do this, you must specify 'dtype=object' when creating the ndarray\n"
     ]
    }
   ],
   "source": [
    "\n",
    "train = []\n",
    "output_empty = [0] * len(classes)\n",
    "# training set, bag of words for each sentence\n",
    "for doc in documents:\n",
    "    bag = []\n",
    "    pattern_words = doc[0]\n",
    "    pattern_words = [wordnet_lemmatizer.lemmatize(word.lower()) for word in pattern_words]\n",
    "    # create our bag of words array with 1, if word match found in current pattern\n",
    "    for w in words:\n",
    "        bag.append(1) if w in pattern_words else bag.append(0)\n",
    "    # output is a '0' for each tag and '1' for current tag (for each pattern)\n",
    "    output_row = list(output_empty)\n",
    "    output_row[classes.index(doc[1])] = 1\n",
    "    train.append([bag, output_row])\n",
    "# shuffle our features and turn into np.array\n",
    "random.shuffle(train)\n",
    "train = np.array(train)\n",
    "# create train and test lists. X - patterns, Y - intents\n",
    "X = np.array(list(train[:,0]))\n",
    "y = np.array(list(train[:,1]))"
   ]
  },
  {
   "cell_type": "code",
   "execution_count": 9,
   "metadata": {
    "colab": {
     "base_uri": "https://localhost:8080/"
    },
    "id": "DfTlBV79Ikeb",
    "outputId": "3c4e4c46-3323-486d-c091-e27b7e24d78e"
   },
   "outputs": [
    {
     "name": "stdout",
     "output_type": "stream",
     "text": [
      "X shape is  (128, 158)\n",
      "y shape is  (128, 8)\n"
     ]
    }
   ],
   "source": [
    "print(\"X shape is \" , X.shape)\n",
    "print(\"y shape is \" , y.shape)"
   ]
  },
  {
   "cell_type": "code",
   "execution_count": null,
   "metadata": {
    "colab": {
     "base_uri": "https://localhost:8080/"
    },
    "id": "hx15Wt8UudVG",
    "outputId": "d4592c70-69ed-40eb-e740-c59eaf525f7f"
   },
   "outputs": [
    {
     "name": "stdout",
     "output_type": "stream",
     "text": [
      "Epoch 1/200\n",
      "26/26 [==============================] - 1s 2ms/step - loss: 1.9995 - accuracy: 0.1406 \n",
      "Epoch 2/200\n",
      "26/26 [==============================] - 0s 2ms/step - loss: 1.7269 - accuracy: 0.3594\n",
      "Epoch 3/200\n",
      "26/26 [==============================] - 0s 2ms/step - loss: 1.3887 - accuracy: 0.5312\n",
      "Epoch 4/200\n",
      "26/26 [==============================] - 0s 2ms/step - loss: 1.0638 - accuracy: 0.6016\n",
      "Epoch 5/200\n",
      "26/26 [==============================] - 0s 2ms/step - loss: 0.6377 - accuracy: 0.7891\n",
      "Epoch 6/200\n",
      "26/26 [==============================] - 0s 2ms/step - loss: 0.4484 - accuracy: 0.8516\n",
      "Epoch 7/200\n",
      "26/26 [==============================] - 0s 2ms/step - loss: 0.5737 - accuracy: 0.7969\n",
      "Epoch 8/200\n",
      "26/26 [==============================] - 0s 2ms/step - loss: 0.4098 - accuracy: 0.8750\n",
      "Epoch 9/200\n",
      "26/26 [==============================] - 0s 2ms/step - loss: 0.2920 - accuracy: 0.9062\n",
      "Epoch 10/200\n",
      "26/26 [==============================] - 0s 2ms/step - loss: 0.2226 - accuracy: 0.9219\n",
      "Epoch 11/200\n",
      "26/26 [==============================] - 0s 2ms/step - loss: 0.1157 - accuracy: 0.9766\n",
      "Epoch 12/200\n",
      "26/26 [==============================] - 0s 2ms/step - loss: 0.1514 - accuracy: 0.9531\n",
      "Epoch 13/200\n",
      "26/26 [==============================] - 0s 2ms/step - loss: 0.1359 - accuracy: 0.9453\n",
      "Epoch 14/200\n",
      "26/26 [==============================] - 0s 3ms/step - loss: 0.1853 - accuracy: 0.9375\n",
      "Epoch 15/200\n",
      "26/26 [==============================] - 0s 2ms/step - loss: 0.1112 - accuracy: 0.9531\n",
      "Epoch 16/200\n",
      "26/26 [==============================] - 0s 2ms/step - loss: 0.2314 - accuracy: 0.9141\n",
      "Epoch 17/200\n",
      "26/26 [==============================] - 0s 2ms/step - loss: 0.2026 - accuracy: 0.9531\n",
      "Epoch 18/200\n",
      "26/26 [==============================] - 0s 2ms/step - loss: 0.1500 - accuracy: 0.9297\n",
      "Epoch 19/200\n",
      "26/26 [==============================] - 0s 2ms/step - loss: 0.2654 - accuracy: 0.9375\n",
      "Epoch 20/200\n",
      "26/26 [==============================] - 0s 2ms/step - loss: 0.1021 - accuracy: 0.9609\n",
      "Epoch 21/200\n",
      "26/26 [==============================] - 0s 2ms/step - loss: 0.0958 - accuracy: 0.9688\n",
      "Epoch 22/200\n",
      "26/26 [==============================] - 0s 2ms/step - loss: 0.1268 - accuracy: 0.9609\n",
      "Epoch 23/200\n",
      "26/26 [==============================] - 0s 2ms/step - loss: 0.0408 - accuracy: 0.9844\n",
      "Epoch 24/200\n",
      "26/26 [==============================] - 0s 2ms/step - loss: 0.0668 - accuracy: 0.9766\n",
      "Epoch 25/200\n",
      "26/26 [==============================] - 0s 2ms/step - loss: 0.1504 - accuracy: 0.9688\n",
      "Epoch 26/200\n",
      "26/26 [==============================] - 0s 2ms/step - loss: 0.1287 - accuracy: 0.9609\n",
      "Epoch 27/200\n",
      "26/26 [==============================] - 0s 2ms/step - loss: 0.0909 - accuracy: 0.9609\n",
      "Epoch 28/200\n",
      "26/26 [==============================] - 0s 2ms/step - loss: 0.1707 - accuracy: 0.9453\n",
      "Epoch 29/200\n",
      "26/26 [==============================] - 0s 2ms/step - loss: 0.1392 - accuracy: 0.9766\n",
      "Epoch 30/200\n",
      "26/26 [==============================] - 0s 2ms/step - loss: 0.0688 - accuracy: 0.9766\n",
      "Epoch 31/200\n",
      "26/26 [==============================] - 0s 2ms/step - loss: 0.1808 - accuracy: 0.9531\n",
      "Epoch 32/200\n",
      "26/26 [==============================] - 0s 2ms/step - loss: 0.1052 - accuracy: 0.9844\n",
      "Epoch 33/200\n",
      "26/26 [==============================] - 0s 2ms/step - loss: 0.0494 - accuracy: 0.9766\n",
      "Epoch 34/200\n",
      "26/26 [==============================] - 0s 2ms/step - loss: 0.2329 - accuracy: 0.9531\n",
      "Epoch 35/200\n",
      "26/26 [==============================] - 0s 2ms/step - loss: 0.0998 - accuracy: 0.9609\n",
      "Epoch 36/200\n",
      "26/26 [==============================] - 0s 2ms/step - loss: 0.2284 - accuracy: 0.9453\n",
      "Epoch 37/200\n",
      "26/26 [==============================] - 0s 2ms/step - loss: 0.1024 - accuracy: 0.9609\n",
      "Epoch 38/200\n",
      "26/26 [==============================] - 0s 3ms/step - loss: 0.0734 - accuracy: 0.9609\n",
      "Epoch 39/200\n",
      "26/26 [==============================] - 0s 2ms/step - loss: 0.1227 - accuracy: 0.9609\n",
      "Epoch 40/200\n",
      "26/26 [==============================] - 0s 2ms/step - loss: 0.2349 - accuracy: 0.9531\n",
      "Epoch 41/200\n",
      "26/26 [==============================] - 0s 2ms/step - loss: 0.2224 - accuracy: 0.9453\n",
      "Epoch 42/200\n",
      "26/26 [==============================] - 0s 2ms/step - loss: 0.0759 - accuracy: 0.9766\n",
      "Epoch 43/200\n",
      "26/26 [==============================] - 0s 2ms/step - loss: 0.1472 - accuracy: 0.9609\n",
      "Epoch 44/200\n",
      "26/26 [==============================] - 0s 2ms/step - loss: 0.0081 - accuracy: 1.0000\n",
      "Epoch 45/200\n",
      "26/26 [==============================] - 0s 2ms/step - loss: 0.0912 - accuracy: 0.9688\n",
      "Epoch 46/200\n",
      "26/26 [==============================] - 0s 2ms/step - loss: 0.1518 - accuracy: 0.9766\n",
      "Epoch 47/200\n",
      "26/26 [==============================] - 0s 2ms/step - loss: 0.0510 - accuracy: 0.9766\n",
      "Epoch 48/200\n",
      "26/26 [==============================] - 0s 2ms/step - loss: 0.0335 - accuracy: 0.9844\n",
      "Epoch 49/200\n",
      "26/26 [==============================] - 0s 2ms/step - loss: 0.0392 - accuracy: 0.9844\n",
      "Epoch 50/200\n",
      "26/26 [==============================] - 0s 2ms/step - loss: 0.1300 - accuracy: 0.9453\n",
      "Epoch 51/200\n",
      "26/26 [==============================] - 0s 2ms/step - loss: 0.0552 - accuracy: 0.9922\n",
      "Epoch 52/200\n",
      "26/26 [==============================] - 0s 2ms/step - loss: 0.1330 - accuracy: 0.9844\n",
      "Epoch 53/200\n",
      "26/26 [==============================] - 0s 2ms/step - loss: 0.0714 - accuracy: 0.9844\n",
      "Epoch 54/200\n",
      "26/26 [==============================] - 0s 2ms/step - loss: 0.3341 - accuracy: 0.9531\n",
      "Epoch 55/200\n",
      "26/26 [==============================] - 0s 2ms/step - loss: 0.0797 - accuracy: 0.9844\n",
      "Epoch 56/200\n",
      "26/26 [==============================] - 0s 2ms/step - loss: 0.2080 - accuracy: 0.9688\n",
      "Epoch 57/200\n",
      "26/26 [==============================] - 0s 2ms/step - loss: 0.0192 - accuracy: 0.9922\n",
      "Epoch 58/200\n",
      "26/26 [==============================] - 0s 2ms/step - loss: 0.2139 - accuracy: 0.9766\n",
      "Epoch 59/200\n",
      "26/26 [==============================] - 0s 2ms/step - loss: 0.0173 - accuracy: 1.0000\n",
      "Epoch 60/200\n",
      "26/26 [==============================] - 0s 2ms/step - loss: 0.2143 - accuracy: 0.9609\n",
      "Epoch 61/200\n",
      "26/26 [==============================] - 0s 2ms/step - loss: 0.0613 - accuracy: 0.9766\n",
      "Epoch 62/200\n",
      "26/26 [==============================] - 0s 2ms/step - loss: 0.1787 - accuracy: 0.9766\n",
      "Epoch 63/200\n",
      "26/26 [==============================] - 0s 2ms/step - loss: 0.0935 - accuracy: 0.9688\n",
      "Epoch 64/200\n",
      "26/26 [==============================] - 0s 2ms/step - loss: 0.1047 - accuracy: 0.9609\n",
      "Epoch 65/200\n",
      "26/26 [==============================] - 0s 2ms/step - loss: 0.1393 - accuracy: 0.9922\n",
      "Epoch 66/200\n",
      "26/26 [==============================] - 0s 2ms/step - loss: 0.0325 - accuracy: 0.9922\n",
      "Epoch 67/200\n",
      "26/26 [==============================] - 0s 2ms/step - loss: 0.0818 - accuracy: 0.9844\n",
      "Epoch 68/200\n",
      "26/26 [==============================] - 0s 2ms/step - loss: 0.1116 - accuracy: 0.9688\n",
      "Epoch 69/200\n",
      "26/26 [==============================] - 0s 2ms/step - loss: 0.0926 - accuracy: 0.9766\n",
      "Epoch 70/200\n",
      "26/26 [==============================] - 0s 2ms/step - loss: 0.1796 - accuracy: 0.9609\n",
      "Epoch 71/200\n",
      "26/26 [==============================] - 0s 2ms/step - loss: 0.2091 - accuracy: 0.9688\n",
      "Epoch 72/200\n",
      "26/26 [==============================] - 0s 2ms/step - loss: 0.0779 - accuracy: 0.9766\n",
      "Epoch 73/200\n",
      "26/26 [==============================] - 0s 2ms/step - loss: 0.0350 - accuracy: 0.9844\n",
      "Epoch 74/200\n",
      "26/26 [==============================] - 0s 2ms/step - loss: 0.0834 - accuracy: 0.9688\n",
      "Epoch 75/200\n",
      "26/26 [==============================] - 0s 2ms/step - loss: 0.2274 - accuracy: 0.9688\n",
      "Epoch 76/200\n",
      "26/26 [==============================] - 0s 2ms/step - loss: 0.0846 - accuracy: 0.9766\n",
      "Epoch 77/200\n",
      "26/26 [==============================] - 0s 2ms/step - loss: 0.0455 - accuracy: 0.9766\n",
      "Epoch 78/200\n",
      "26/26 [==============================] - 0s 2ms/step - loss: 0.0055 - accuracy: 1.0000\n",
      "Epoch 79/200\n",
      "26/26 [==============================] - 0s 3ms/step - loss: 0.0811 - accuracy: 0.9766\n",
      "Epoch 80/200\n",
      "26/26 [==============================] - 0s 2ms/step - loss: 0.0963 - accuracy: 0.9766\n",
      "Epoch 81/200\n",
      "26/26 [==============================] - 0s 2ms/step - loss: 0.1353 - accuracy: 0.9688\n",
      "Epoch 82/200\n",
      "26/26 [==============================] - 0s 2ms/step - loss: 0.0100 - accuracy: 0.9922\n",
      "Epoch 83/200\n",
      "26/26 [==============================] - 0s 2ms/step - loss: 0.1007 - accuracy: 0.9766\n",
      "Epoch 84/200\n",
      "26/26 [==============================] - 0s 2ms/step - loss: 0.1416 - accuracy: 0.9844\n",
      "Epoch 85/200\n",
      "26/26 [==============================] - 0s 2ms/step - loss: 0.0684 - accuracy: 0.9844\n",
      "Epoch 86/200\n",
      "26/26 [==============================] - 0s 2ms/step - loss: 0.0412 - accuracy: 0.9922\n",
      "Epoch 87/200\n",
      "26/26 [==============================] - 0s 2ms/step - loss: 0.0638 - accuracy: 0.9688\n",
      "Epoch 88/200\n",
      "26/26 [==============================] - 0s 2ms/step - loss: 0.0408 - accuracy: 0.9844\n",
      "Epoch 89/200\n",
      "26/26 [==============================] - 0s 2ms/step - loss: 0.1232 - accuracy: 0.9766\n",
      "Epoch 90/200\n",
      "26/26 [==============================] - 0s 2ms/step - loss: 0.0838 - accuracy: 0.9844\n",
      "Epoch 91/200\n",
      "26/26 [==============================] - 0s 2ms/step - loss: 0.0469 - accuracy: 0.9844\n",
      "Epoch 92/200\n",
      "26/26 [==============================] - 0s 2ms/step - loss: 0.0454 - accuracy: 0.9766\n",
      "Epoch 93/200\n",
      "26/26 [==============================] - 0s 3ms/step - loss: 0.0298 - accuracy: 0.9844\n",
      "Epoch 94/200\n",
      "26/26 [==============================] - 0s 2ms/step - loss: 0.3233 - accuracy: 0.9453\n",
      "Epoch 95/200\n",
      "26/26 [==============================] - 0s 2ms/step - loss: 0.1131 - accuracy: 0.9766\n",
      "Epoch 96/200\n",
      "26/26 [==============================] - 0s 3ms/step - loss: 0.2360 - accuracy: 0.9766\n",
      "Epoch 97/200\n",
      "26/26 [==============================] - 0s 2ms/step - loss: 0.4150 - accuracy: 0.9766\n",
      "Epoch 98/200\n",
      "26/26 [==============================] - 0s 2ms/step - loss: 0.2482 - accuracy: 0.9453\n",
      "Epoch 99/200\n",
      "26/26 [==============================] - 0s 2ms/step - loss: 0.4435 - accuracy: 0.9531\n",
      "Epoch 100/200\n",
      "26/26 [==============================] - 0s 2ms/step - loss: 0.2964 - accuracy: 0.9609\n",
      "Epoch 101/200\n",
      "26/26 [==============================] - 0s 2ms/step - loss: 0.3863 - accuracy: 0.9766\n",
      "Epoch 102/200\n",
      "26/26 [==============================] - 0s 2ms/step - loss: 0.0239 - accuracy: 0.9844\n",
      "Epoch 103/200\n",
      "26/26 [==============================] - 0s 2ms/step - loss: 0.0266 - accuracy: 0.9922\n",
      "Epoch 104/200\n",
      "26/26 [==============================] - 0s 2ms/step - loss: 0.1401 - accuracy: 0.9766\n",
      "Epoch 105/200\n",
      "26/26 [==============================] - 0s 2ms/step - loss: 0.1187 - accuracy: 0.9766\n",
      "Epoch 106/200\n",
      "26/26 [==============================] - 0s 2ms/step - loss: 0.0713 - accuracy: 0.9844\n",
      "Epoch 107/200\n",
      "26/26 [==============================] - 0s 2ms/step - loss: 0.1155 - accuracy: 0.9844\n",
      "Epoch 108/200\n",
      "26/26 [==============================] - 0s 2ms/step - loss: 0.1279 - accuracy: 0.9688\n",
      "Epoch 109/200\n",
      "26/26 [==============================] - 0s 2ms/step - loss: 0.1329 - accuracy: 0.9766\n",
      "Epoch 110/200\n",
      "26/26 [==============================] - 0s 2ms/step - loss: 0.0322 - accuracy: 0.9844\n",
      "Epoch 111/200\n",
      "26/26 [==============================] - 0s 2ms/step - loss: 0.0215 - accuracy: 0.9922\n",
      "Epoch 112/200\n",
      "26/26 [==============================] - 0s 2ms/step - loss: 0.0556 - accuracy: 0.9844\n",
      "Epoch 113/200\n",
      "26/26 [==============================] - 0s 3ms/step - loss: 0.2243 - accuracy: 0.9609\n",
      "Epoch 114/200\n",
      "26/26 [==============================] - 0s 2ms/step - loss: 0.1835 - accuracy: 0.9609\n",
      "Epoch 115/200\n",
      "26/26 [==============================] - 0s 2ms/step - loss: 0.0494 - accuracy: 0.9922\n",
      "Epoch 116/200\n",
      "26/26 [==============================] - 0s 2ms/step - loss: 0.0715 - accuracy: 0.9844\n",
      "Epoch 117/200\n",
      "26/26 [==============================] - 0s 2ms/step - loss: 0.2692 - accuracy: 0.9766\n",
      "Epoch 118/200\n",
      "26/26 [==============================] - 0s 2ms/step - loss: 0.2103 - accuracy: 0.9844\n",
      "Epoch 119/200\n",
      "26/26 [==============================] - 0s 2ms/step - loss: 0.1042 - accuracy: 0.9766\n",
      "Epoch 120/200\n",
      "26/26 [==============================] - 0s 2ms/step - loss: 0.2645 - accuracy: 0.9453\n",
      "Epoch 121/200\n",
      "26/26 [==============================] - 0s 2ms/step - loss: 0.0680 - accuracy: 0.9922\n",
      "Epoch 122/200\n",
      "26/26 [==============================] - 0s 2ms/step - loss: 0.3289 - accuracy: 0.9531\n",
      "Epoch 123/200\n",
      "26/26 [==============================] - 0s 2ms/step - loss: 0.3216 - accuracy: 0.9609\n",
      "Epoch 124/200\n",
      "26/26 [==============================] - 0s 2ms/step - loss: 0.0418 - accuracy: 0.9922\n",
      "Epoch 125/200\n",
      "26/26 [==============================] - 0s 2ms/step - loss: 0.0621 - accuracy: 0.9922\n",
      "Epoch 126/200\n",
      "26/26 [==============================] - 0s 2ms/step - loss: 0.0617 - accuracy: 0.9844\n",
      "Epoch 127/200\n",
      "26/26 [==============================] - 0s 2ms/step - loss: 0.1145 - accuracy: 0.9688\n",
      "Epoch 128/200\n",
      "26/26 [==============================] - 0s 2ms/step - loss: 0.0748 - accuracy: 0.9844\n",
      "Epoch 129/200\n",
      "26/26 [==============================] - 0s 2ms/step - loss: 0.1937 - accuracy: 0.9844\n",
      "Epoch 130/200\n",
      "26/26 [==============================] - 0s 3ms/step - loss: 0.0546 - accuracy: 0.9844\n",
      "Epoch 131/200\n",
      "26/26 [==============================] - 0s 2ms/step - loss: 0.0180 - accuracy: 0.9844\n",
      "Epoch 132/200\n",
      "26/26 [==============================] - 0s 2ms/step - loss: 0.1328 - accuracy: 0.9766\n",
      "Epoch 133/200\n",
      "26/26 [==============================] - 0s 3ms/step - loss: 0.0771 - accuracy: 0.9922\n",
      "Epoch 134/200\n",
      "26/26 [==============================] - 0s 2ms/step - loss: 0.2489 - accuracy: 0.9844\n",
      "Epoch 135/200\n",
      "26/26 [==============================] - 0s 2ms/step - loss: 0.1423 - accuracy: 0.9688\n",
      "Epoch 136/200\n",
      "26/26 [==============================] - 0s 2ms/step - loss: 0.0105 - accuracy: 0.9922\n",
      "Epoch 137/200\n",
      "26/26 [==============================] - 0s 2ms/step - loss: 0.0018 - accuracy: 1.0000\n",
      "Epoch 138/200\n",
      "26/26 [==============================] - 0s 2ms/step - loss: 0.0413 - accuracy: 0.9844\n",
      "Epoch 139/200\n",
      "26/26 [==============================] - 0s 2ms/step - loss: 0.1449 - accuracy: 0.9922\n",
      "Epoch 140/200\n",
      "26/26 [==============================] - 0s 2ms/step - loss: 0.1793 - accuracy: 0.9766\n",
      "Epoch 141/200\n",
      "26/26 [==============================] - 0s 2ms/step - loss: 0.0709 - accuracy: 0.9922\n",
      "Epoch 142/200\n",
      "26/26 [==============================] - 0s 2ms/step - loss: 0.0169 - accuracy: 0.9922\n",
      "Epoch 143/200\n",
      "26/26 [==============================] - 0s 2ms/step - loss: 0.0666 - accuracy: 0.9844\n",
      "Epoch 144/200\n",
      "26/26 [==============================] - 0s 2ms/step - loss: 0.0638 - accuracy: 0.9766\n",
      "Epoch 145/200\n",
      "26/26 [==============================] - 0s 2ms/step - loss: 0.1834 - accuracy: 0.9766\n",
      "Epoch 146/200\n",
      "26/26 [==============================] - 0s 2ms/step - loss: 0.3312 - accuracy: 0.9688\n",
      "Epoch 147/200\n",
      "26/26 [==============================] - 0s 2ms/step - loss: 0.0148 - accuracy: 0.9922\n",
      "Epoch 148/200\n",
      "26/26 [==============================] - 0s 2ms/step - loss: 0.0492 - accuracy: 0.9844\n",
      "Epoch 149/200\n",
      "26/26 [==============================] - 0s 2ms/step - loss: 0.1466 - accuracy: 0.9844\n",
      "Epoch 150/200\n",
      "26/26 [==============================] - 0s 2ms/step - loss: 0.0588 - accuracy: 0.9766\n",
      "Epoch 151/200\n",
      "26/26 [==============================] - 0s 2ms/step - loss: 0.1956 - accuracy: 0.9766\n",
      "Epoch 152/200\n",
      "26/26 [==============================] - 0s 2ms/step - loss: 0.0088 - accuracy: 0.9922\n",
      "Epoch 153/200\n",
      "26/26 [==============================] - 0s 2ms/step - loss: 6.2209e-04 - accuracy: 1.0000\n",
      "Epoch 154/200\n",
      "26/26 [==============================] - 0s 2ms/step - loss: 0.0787 - accuracy: 0.9766\n",
      "Epoch 155/200\n",
      "26/26 [==============================] - 0s 2ms/step - loss: 0.0615 - accuracy: 0.9766\n",
      "Epoch 156/200\n",
      "26/26 [==============================] - 0s 2ms/step - loss: 0.5144 - accuracy: 0.9844\n",
      "Epoch 157/200\n",
      "26/26 [==============================] - 0s 2ms/step - loss: 0.0434 - accuracy: 0.9922\n",
      "Epoch 158/200\n",
      "26/26 [==============================] - 0s 2ms/step - loss: 0.0923 - accuracy: 0.9766\n",
      "Epoch 159/200\n",
      "26/26 [==============================] - 0s 2ms/step - loss: 0.1599 - accuracy: 0.9766\n",
      "Epoch 160/200\n",
      "26/26 [==============================] - 0s 2ms/step - loss: 0.1076 - accuracy: 0.9844\n",
      "Epoch 161/200\n",
      "26/26 [==============================] - 0s 2ms/step - loss: 0.2120 - accuracy: 0.9844\n",
      "Epoch 162/200\n",
      "26/26 [==============================] - 0s 2ms/step - loss: 0.0185 - accuracy: 0.9922\n",
      "Epoch 163/200\n",
      "26/26 [==============================] - 0s 2ms/step - loss: 0.0965 - accuracy: 0.9688\n",
      "Epoch 164/200\n",
      "26/26 [==============================] - 0s 3ms/step - loss: 0.0595 - accuracy: 0.9844\n",
      "Epoch 165/200\n",
      "26/26 [==============================] - 0s 2ms/step - loss: 0.0589 - accuracy: 0.9844\n",
      "Epoch 166/200\n",
      "26/26 [==============================] - 0s 2ms/step - loss: 0.2931 - accuracy: 0.9766\n",
      "Epoch 167/200\n",
      "26/26 [==============================] - 0s 2ms/step - loss: 0.1848 - accuracy: 0.9844\n",
      "Epoch 168/200\n",
      "26/26 [==============================] - 0s 2ms/step - loss: 0.1419 - accuracy: 0.9766\n",
      "Epoch 169/200\n",
      "26/26 [==============================] - 0s 2ms/step - loss: 0.1151 - accuracy: 0.9844\n",
      "Epoch 170/200\n",
      "26/26 [==============================] - 0s 2ms/step - loss: 0.0042 - accuracy: 1.0000\n",
      "Epoch 171/200\n",
      "26/26 [==============================] - 0s 2ms/step - loss: 0.0451 - accuracy: 0.9844\n",
      "Epoch 172/200\n",
      "26/26 [==============================] - 0s 2ms/step - loss: 0.0211 - accuracy: 0.9922\n",
      "Epoch 173/200\n",
      "26/26 [==============================] - 0s 2ms/step - loss: 0.0563 - accuracy: 0.9844\n",
      "Epoch 174/200\n",
      "26/26 [==============================] - 0s 2ms/step - loss: 0.1231 - accuracy: 0.9766\n",
      "Epoch 175/200\n",
      "26/26 [==============================] - 0s 2ms/step - loss: 0.0830 - accuracy: 0.9844\n",
      "Epoch 176/200\n",
      "26/26 [==============================] - 0s 3ms/step - loss: 0.0161 - accuracy: 0.9922\n",
      "Epoch 177/200\n",
      "26/26 [==============================] - 0s 2ms/step - loss: 0.0045 - accuracy: 1.0000\n",
      "Epoch 178/200\n",
      "26/26 [==============================] - 0s 2ms/step - loss: 0.1146 - accuracy: 0.9609\n",
      "Epoch 179/200\n",
      "26/26 [==============================] - 0s 2ms/step - loss: 0.0030 - accuracy: 1.0000\n",
      "Epoch 180/200\n",
      "26/26 [==============================] - 0s 3ms/step - loss: 0.2143 - accuracy: 0.9844\n",
      "Epoch 181/200\n",
      "26/26 [==============================] - 0s 2ms/step - loss: 1.7907e-04 - accuracy: 1.0000\n",
      "Epoch 182/200\n",
      "26/26 [==============================] - 0s 2ms/step - loss: 0.0219 - accuracy: 0.9844\n",
      "Epoch 183/200\n",
      "26/26 [==============================] - 0s 2ms/step - loss: 0.0547 - accuracy: 0.9922\n",
      "Epoch 184/200\n",
      "26/26 [==============================] - 0s 2ms/step - loss: 0.1327 - accuracy: 0.9844\n",
      "Epoch 185/200\n",
      "26/26 [==============================] - 0s 2ms/step - loss: 0.9136 - accuracy: 0.9688\n",
      "Epoch 186/200\n",
      "26/26 [==============================] - 0s 2ms/step - loss: 0.0531 - accuracy: 0.9766\n",
      "Epoch 187/200\n",
      "26/26 [==============================] - 0s 2ms/step - loss: 0.0460 - accuracy: 0.9922\n",
      "Epoch 188/200\n",
      "26/26 [==============================] - 0s 2ms/step - loss: 0.0546 - accuracy: 0.9844\n",
      "Epoch 189/200\n",
      "26/26 [==============================] - 0s 2ms/step - loss: 0.1522 - accuracy: 0.9922\n",
      "Epoch 190/200\n",
      "26/26 [==============================] - 0s 2ms/step - loss: 0.0167 - accuracy: 0.9922\n",
      "Epoch 191/200\n",
      "26/26 [==============================] - 0s 2ms/step - loss: 0.0493 - accuracy: 0.9844\n",
      "Epoch 192/200\n",
      "26/26 [==============================] - 0s 2ms/step - loss: 4.2284e-04 - accuracy: 1.0000\n",
      "Epoch 193/200\n",
      "26/26 [==============================] - 0s 2ms/step - loss: 6.7027e-04 - accuracy: 1.0000\n",
      "Epoch 194/200\n",
      "26/26 [==============================] - 0s 2ms/step - loss: 0.1087 - accuracy: 0.9844\n",
      "Epoch 195/200\n",
      "26/26 [==============================] - 0s 2ms/step - loss: 0.0088 - accuracy: 0.9922\n",
      "Epoch 196/200\n",
      "26/26 [==============================] - 0s 2ms/step - loss: 0.0014 - accuracy: 1.0000\n",
      "Epoch 197/200\n",
      "26/26 [==============================] - 0s 3ms/step - loss: 0.0170 - accuracy: 0.9922\n",
      "Epoch 198/200\n",
      "26/26 [==============================] - 0s 2ms/step - loss: 0.1366 - accuracy: 0.9688\n",
      "Epoch 199/200\n",
      "26/26 [==============================] - 0s 2ms/step - loss: 0.0680 - accuracy: 0.9922\n",
      "Epoch 200/200\n",
      "26/26 [==============================] - 0s 2ms/step - loss: 0.1471 - accuracy: 0.9766\n"
     ]
    }
   ],
   "source": [
    "from tensorflow.keras import optimizers\n",
    "\n",
    "model = Sequential()\n",
    "model.add(Dense(128, input_shape=(len(X[0]),), activation='relu'))\n",
    "model.add(Dropout(0.5))\n",
    "model.add(Dense(64, activation='relu'))\n",
    "model.add(Dropout(0.5))\n",
    "model.add(Dense(len(y[0]), activation='softmax'))\n",
    "# Compile model. Stochastic gradient descent with Nesterov accelerated gradient gives good results for this model\n",
    "adam = optimizers.Adam(lr=0.01, decay=1e-6)\n",
    "model.compile(loss='categorical_crossentropy', optimizer=adam, metrics=['accuracy'])\n",
    "#fitting and saving the model \n",
    "hist = model.fit(X, y, epochs=200, batch_size=5, verbose=1)"
   ]
  },
  {
   "cell_type": "code",
   "execution_count": null,
   "metadata": {
    "colab": {
     "base_uri": "https://localhost:8080/"
    },
    "id": "_pbA2JKt3RP0",
    "outputId": "200b5198-ad6e-4fd6-e92c-3611ee751fb3"
   },
   "outputs": [
    {
     "name": "stdout",
     "output_type": "stream",
     "text": [
      " chat_model.h5\t'GL Bot.json'\n"
     ]
    }
   ],
   "source": [
    "model.save('chat_model.h5')\n",
    "!ls"
   ]
  },
  {
   "cell_type": "code",
   "execution_count": 10,
   "metadata": {
    "id": "LzkKgN713jc7"
   },
   "outputs": [],
   "source": [
    "from keras.models import load_model\n",
    "model = load_model('chat_model.h5')"
   ]
  },
  {
   "cell_type": "markdown",
   "metadata": {
    "id": "UegEZRhu3j63"
   },
   "source": [
    "Input data to bot also has to be processed in the same way how we train the data"
   ]
  },
  {
   "cell_type": "code",
   "execution_count": 40,
   "metadata": {
    "id": "DHLMYhqf3O4A"
   },
   "outputs": [],
   "source": [
    "# return bag of words array: 0 or 1 for each word in the bag that exists in the sentence\n",
    "def pre_process_data(sentence, words):\n",
    "    sent_words = nltk.word_tokenize(sentence)\n",
    "    sent_words = [wordnet_lemmatizer.lemmatize(word.lower()) for word in sent_words]\n",
    "\n",
    "    # bag of words - matrix of N words, vocabulary matrix\n",
    "    bag = [0]*len(words) \n",
    "    for s in sent_words:\n",
    "        for i,w in enumerate(words):\n",
    "            if w == s: \n",
    "                # assign 1 if current word is in the vocabulary position\n",
    "                bag[i] = 1\n",
    "    return(np.array(bag))\n",
    "\n",
    "def predict_class(sentence, model):\n",
    "    # filter out predictions below a threshold\n",
    "    p = pre_process_data(sentence, words)\n",
    "    train=p.reshape(158,1)\n",
    "    train=np.expand_dims(p,axis=0)\n",
    "    res = model.predict(train)[0]\n",
    "    thrshld = 0.2\n",
    "    results = [[i,r] for i,r in enumerate(res) if r>thrshld]\n",
    "    # sort by strength of probability\n",
    "    results.sort(key=lambda x: x[1], reverse=True)\n",
    "    return_list = []\n",
    "    for r in results:\n",
    "        return_list.append({\"intent\": classes[r[0]], \"prob\": str(r[1])})\n",
    "    return return_list"
   ]
  },
  {
   "cell_type": "code",
   "execution_count": 36,
   "metadata": {
    "id": "8HIhRsOkNBIB"
   },
   "outputs": [],
   "source": [
    "def getResponse(ints, intents_json):  \n",
    "    tag = ints[0]['intent']\n",
    "    list_of_intents = intents_json['intents']  \n",
    "    for i in list_of_intents:\n",
    "        if(i['tag']== tag):\n",
    "            result = random.choice(i['responses'])\n",
    "            break\n",
    "    return result\n",
    "\n",
    "def chatbot_response(text):\n",
    "    idx = predict_class(text, model)\n",
    "    res = getResponse(idx, intents)\n",
    "    print(\"Bot:\",res)"
   ]
  },
  {
   "cell_type": "code",
   "execution_count": 29,
   "metadata": {
    "id": "hqxhAsgPcZPV"
   },
   "outputs": [],
   "source": [
    "def chat_bot():\n",
    "    print(\"Bot: Hi there !! How can I help you today? (type quit to stop)!\")\n",
    "    while(True):\n",
    "      user_response = input(\"You: \")\n",
    "      user_response = user_response.lower()\n",
    "      if(user_response == 'quit'):\n",
    "         break\n",
    "      chatbot_response(user_response)"
   ]
  },
  {
   "cell_type": "code",
   "execution_count": 42,
   "metadata": {
    "colab": {
     "base_uri": "https://localhost:8080/"
    },
    "id": "2710P64HiECv",
    "outputId": "1a26afe2-6a62-4c3e-d3ce-0cf751c72755"
   },
   "outputs": [
    {
     "name": "stdout",
     "output_type": "stream",
     "text": [
      "Bot: Hi there !! How can I help you today? (type quit to stop)!\n",
      "You: hiiii\n",
      "Bot: Hello! how can i help you ?\n",
      "You: olympus link\n",
      "Bot: Link: Olympus wiki\n",
      "You: what is softmax\n",
      "Bot: Link: Neural Nets wiki\n",
      "You: machine learning means\n",
      "Bot: Link: Machine Learning wiki \n",
      "You: thanks for link\n",
      "Bot: I hope I was able to assist you, Good Bye\n",
      "You: you are smart\n",
      "Bot: Please use respectful words\n",
      "You: you are stupid\n",
      "Bot: Please use respectful words\n",
      "You: very bad response\n",
      "Bot: Tarnsferring the request to your PM\n",
      "You: thanks bye\n",
      "Bot: I hope I was able to assist you, Good Bye\n",
      "You: quit\n"
     ]
    }
   ],
   "source": [
    "chat_bot()"
   ]
  }
 ],
 "metadata": {
  "colab": {
   "collapsed_sections": [],
   "name": "Prasad_NLP_project1_Final.ipynb",
   "provenance": []
  },
  "kernelspec": {
   "display_name": "Python 3",
   "language": "python",
   "name": "python3"
  },
  "language_info": {
   "codemirror_mode": {
    "name": "ipython",
    "version": 3
   },
   "file_extension": ".py",
   "mimetype": "text/x-python",
   "name": "python",
   "nbconvert_exporter": "python",
   "pygments_lexer": "ipython3",
   "version": "3.8.5"
  }
 },
 "nbformat": 4,
 "nbformat_minor": 1
}
